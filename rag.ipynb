{
 "cells": [
  {
   "cell_type": "code",
   "execution_count": null,
   "id": "7bd12502",
   "metadata": {
    "vscode": {
     "languageId": "plaintext"
    }
   },
   "outputs": [],
   "source": [
    "import ollama\n",
    "import faiss\n",
    "\n",
    "import numpy as np\n",
    "import tomllib\n",
    "from pathlib import Path"
   ]
  }
 ],
 "metadata": {
  "language_info": {
   "name": "python"
  }
 },
 "nbformat": 4,
 "nbformat_minor": 5
}
