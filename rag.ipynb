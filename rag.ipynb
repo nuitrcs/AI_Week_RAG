{
 "cells": [
  {
   "cell_type": "code",
   "execution_count": null,
   "id": "3f9c943a",
   "metadata": {},
   "outputs": [],
   "source": [
    "# in_google_colab = 1\n",
    "# if in_google_colab:\n",
    "#   !pip install faiss-cpu"
   ]
  },
  {
   "cell_type": "code",
   "execution_count": 1,
   "id": "5190cca8",
   "metadata": {},
   "outputs": [],
   "source": [
    "from sentence_transformers import SentenceTransformer\n",
    "import faiss\n",
    "\n",
    "import pandas as pd\n",
    "import numpy as np\n",
    "from pathlib import Path\n",
    "import tomllib"
   ]
  },
  {
   "cell_type": "markdown",
   "id": "7f238944",
   "metadata": {},
   "source": [
    "## Step 0 - Load Data"
   ]
  },
  {
   "cell_type": "code",
   "execution_count": 2,
   "id": "4b4f8979",
   "metadata": {},
   "outputs": [],
   "source": [
    "data_path = Path(\"data/songs.csv\")"
   ]
  },
  {
   "cell_type": "code",
   "execution_count": 3,
   "id": "6af3d058",
   "metadata": {},
   "outputs": [],
   "source": [
    "lyrics = pd.read_csv(data_path)"
   ]
  },
  {
   "cell_type": "code",
   "execution_count": 4,
   "id": "4d507015",
   "metadata": {},
   "outputs": [
    {
     "data": {
      "text/html": [
       "<div>\n",
       "<style scoped>\n",
       "    .dataframe tbody tr th:only-of-type {\n",
       "        vertical-align: middle;\n",
       "    }\n",
       "\n",
       "    .dataframe tbody tr th {\n",
       "        vertical-align: top;\n",
       "    }\n",
       "\n",
       "    .dataframe thead th {\n",
       "        text-align: right;\n",
       "    }\n",
       "</style>\n",
       "<table border=\"1\" class=\"dataframe\">\n",
       "  <thead>\n",
       "    <tr style=\"text-align: right;\">\n",
       "      <th></th>\n",
       "      <th>Artist</th>\n",
       "      <th>Title</th>\n",
       "      <th>Lyrics</th>\n",
       "    </tr>\n",
       "  </thead>\n",
       "  <tbody>\n",
       "    <tr>\n",
       "      <th>0</th>\n",
       "      <td>Taylor Swift</td>\n",
       "      <td>cardigan</td>\n",
       "      <td>Vintage tee, brand new phone\\nHigh heels on co...</td>\n",
       "    </tr>\n",
       "    <tr>\n",
       "      <th>1</th>\n",
       "      <td>Taylor Swift</td>\n",
       "      <td>exile</td>\n",
       "      <td>I can see you standing, honey\\nWith his arms a...</td>\n",
       "    </tr>\n",
       "    <tr>\n",
       "      <th>2</th>\n",
       "      <td>Taylor Swift</td>\n",
       "      <td>Lover</td>\n",
       "      <td>We could leave the Christmas lights up 'til Ja...</td>\n",
       "    </tr>\n",
       "    <tr>\n",
       "      <th>3</th>\n",
       "      <td>Taylor Swift</td>\n",
       "      <td>the 1</td>\n",
       "      <td>I'm doing good, I'm on some new shit\\nBeen say...</td>\n",
       "    </tr>\n",
       "    <tr>\n",
       "      <th>4</th>\n",
       "      <td>Taylor Swift</td>\n",
       "      <td>Look What You Made Me Do</td>\n",
       "      <td>I don't like your little games\\nDon't like you...</td>\n",
       "    </tr>\n",
       "  </tbody>\n",
       "</table>\n",
       "</div>"
      ],
      "text/plain": [
       "         Artist                     Title  \\\n",
       "0  Taylor Swift                  cardigan   \n",
       "1  Taylor Swift                     exile   \n",
       "2  Taylor Swift                     Lover   \n",
       "3  Taylor Swift                     the 1   \n",
       "4  Taylor Swift  Look What You Made Me Do   \n",
       "\n",
       "                                              Lyrics  \n",
       "0  Vintage tee, brand new phone\\nHigh heels on co...  \n",
       "1  I can see you standing, honey\\nWith his arms a...  \n",
       "2  We could leave the Christmas lights up 'til Ja...  \n",
       "3  I'm doing good, I'm on some new shit\\nBeen say...  \n",
       "4  I don't like your little games\\nDon't like you...  "
      ]
     },
     "execution_count": 4,
     "metadata": {},
     "output_type": "execute_result"
    }
   ],
   "source": [
    "lyrics.head()"
   ]
  },
  {
   "cell_type": "code",
   "execution_count": 5,
   "id": "3b794287",
   "metadata": {},
   "outputs": [
    {
     "data": {
      "text/plain": [
       "(745, 3)"
      ]
     },
     "execution_count": 5,
     "metadata": {},
     "output_type": "execute_result"
    }
   ],
   "source": [
    "lyrics.shape"
   ]
  },
  {
   "cell_type": "code",
   "execution_count": 6,
   "id": "8f791a95",
   "metadata": {},
   "outputs": [
    {
     "data": {
      "text/plain": [
       "array(['Taylor Swift', 'Billie Eilish', 'The Beatles', 'David Bowie',\n",
       "       'Billy Joel', 'Ed Sheeran', 'Eric Clapton', 'Bruce Springsteen',\n",
       "       'Vance Joy', 'Lana Del Rey', 'Bryan Adams', 'Leonard Cohen',\n",
       "       'Nat King Cole', 'twenty one pilots', 'Ray LaMontagne',\n",
       "       'Bob Dylan', 'John Denver', 'Frank Sinatra', 'Queen', 'Elton John',\n",
       "       'George Michael'], dtype=object)"
      ]
     },
     "execution_count": 6,
     "metadata": {},
     "output_type": "execute_result"
    }
   ],
   "source": [
    "lyrics['Artist'].unique()"
   ]
  },
  {
   "cell_type": "markdown",
   "id": "c9583c45",
   "metadata": {},
   "source": [
    "## Step 0.5 - Chunking"
   ]
  },
  {
   "cell_type": "markdown",
   "id": "371fa456",
   "metadata": {},
   "source": [
    "* By paragraph? By line? By song?\n",
    "* Check token limit\n",
    "* etc"
   ]
  },
  {
   "cell_type": "markdown",
   "id": "3cef6654",
   "metadata": {},
   "source": [
    "## Step 1 - Create Embeddings"
   ]
  },
  {
   "cell_type": "code",
   "execution_count": 7,
   "id": "a33c4fc2",
   "metadata": {},
   "outputs": [],
   "source": [
    "models_possible = [\n",
    "    'nomic-embed-text',\n",
    "    'all-mpnet-base-v2'\n",
    "]\n",
    "\n",
    "model_name = models_possible[1]\n",
    "model = SentenceTransformer(model_name)"
   ]
  },
  {
   "cell_type": "code",
   "execution_count": 8,
   "id": "4bda5030",
   "metadata": {},
   "outputs": [],
   "source": [
    "embeddings = model.encode(lyrics['Lyrics'])"
   ]
  },
  {
   "cell_type": "code",
   "execution_count": 9,
   "id": "2561d4eb",
   "metadata": {},
   "outputs": [
    {
     "data": {
      "text/plain": [
       "numpy.ndarray"
      ]
     },
     "execution_count": 9,
     "metadata": {},
     "output_type": "execute_result"
    }
   ],
   "source": [
    "type(embeddings)"
   ]
  },
  {
   "cell_type": "code",
   "execution_count": 10,
   "id": "90c180ce",
   "metadata": {},
   "outputs": [
    {
     "data": {
      "text/plain": [
       "(745, 768)"
      ]
     },
     "execution_count": 10,
     "metadata": {},
     "output_type": "execute_result"
    }
   ],
   "source": [
    "embeddings.shape"
   ]
  },
  {
   "cell_type": "code",
   "execution_count": 11,
   "id": "fc1ab8e6",
   "metadata": {},
   "outputs": [
    {
     "data": {
      "text/plain": [
       "tensor([[1.0000, 0.4468, 0.6080, 0.5934, 0.5363],\n",
       "        [0.4468, 1.0000, 0.5352, 0.5242, 0.6023],\n",
       "        [0.6080, 0.5352, 1.0000, 0.5728, 0.4673],\n",
       "        [0.5934, 0.5242, 0.5728, 1.0000, 0.5427],\n",
       "        [0.5363, 0.6023, 0.4673, 0.5427, 1.0000]])"
      ]
     },
     "execution_count": 11,
     "metadata": {},
     "output_type": "execute_result"
    }
   ],
   "source": [
    "model.similarity(embeddings[0:5], embeddings[0:5])"
   ]
  },
  {
   "cell_type": "markdown",
   "id": "f1f1f965",
   "metadata": {},
   "source": [
    "## Step 2 - Visualization for Intuition"
   ]
  },
  {
   "cell_type": "markdown",
   "id": "2b44e354",
   "metadata": {},
   "source": [
    "* Heatmap\n",
    "* dim-red"
   ]
  },
  {
   "cell_type": "code",
   "execution_count": null,
   "id": "2a1cc3f1",
   "metadata": {},
   "outputs": [],
   "source": []
  },
  {
   "cell_type": "markdown",
   "id": "d0a9ec79",
   "metadata": {},
   "source": [
    "## Step 3 - Create Index"
   ]
  },
  {
   "cell_type": "code",
   "execution_count": 12,
   "id": "b1637fef",
   "metadata": {},
   "outputs": [],
   "source": [
    "# We need the dimension of our embeddings\n",
    "d_emb = len(embeddings[0])"
   ]
  },
  {
   "cell_type": "code",
   "execution_count": 13,
   "id": "6ad13b65",
   "metadata": {},
   "outputs": [
    {
     "name": "stdout",
     "output_type": "stream",
     "text": [
      "True\n",
      "0\n"
     ]
    }
   ],
   "source": [
    "# Create a faiss index\n",
    "faiss_index = faiss.IndexFlatL2(d_emb)\n",
    "print(faiss_index.is_trained)\n",
    "print(faiss_index.ntotal)"
   ]
  },
  {
   "cell_type": "markdown",
   "id": "cce28e2e",
   "metadata": {},
   "source": [
    "## Step 4 - Add embeddings to index"
   ]
  },
  {
   "cell_type": "code",
   "execution_count": 14,
   "id": "2043ee05",
   "metadata": {},
   "outputs": [],
   "source": [
    "faiss_index.add(embeddings)"
   ]
  },
  {
   "cell_type": "code",
   "execution_count": 15,
   "id": "dd68b982",
   "metadata": {},
   "outputs": [
    {
     "name": "stdout",
     "output_type": "stream",
     "text": [
      "True\n",
      "745\n"
     ]
    }
   ],
   "source": [
    "print(faiss_index.is_trained)\n",
    "print(faiss_index.ntotal)"
   ]
  },
  {
   "cell_type": "markdown",
   "id": "f4141e39",
   "metadata": {},
   "source": [
    "## Step 5 - Search"
   ]
  },
  {
   "cell_type": "code",
   "execution_count": 16,
   "id": "6825088b",
   "metadata": {},
   "outputs": [],
   "source": [
    "# Make a query, and embed it\n",
    "query_1 = \"Life is good and I will survive. I am happy that things turned out this way\"\n",
    "query_2 = \"Why did you leave me? I am so sad. The world is so cruel.\""
   ]
  },
  {
   "cell_type": "code",
   "execution_count": 17,
   "id": "208de1d7",
   "metadata": {},
   "outputs": [],
   "source": [
    "qemb_1 = model.encode(query_1)\n",
    "qemb_2 = model.encode(query_2)"
   ]
  },
  {
   "cell_type": "markdown",
   "id": "9ba313d4",
   "metadata": {},
   "source": [
    "Let's find the 4 closest songs to each query."
   ]
  },
  {
   "cell_type": "markdown",
   "id": "ae332618",
   "metadata": {},
   "source": [
    "**Note**\n",
    "\n",
    "FAISS expects a 2-d numpy array as input to its search. If we only have one query, we must reshape it. Or in our case, since we have two queries, we can just put them together:"
   ]
  },
  {
   "cell_type": "code",
   "execution_count": 18,
   "id": "95547e54",
   "metadata": {},
   "outputs": [],
   "source": [
    "qembs = np.stack([qemb_1, qemb_2], axis=0)"
   ]
  },
  {
   "cell_type": "code",
   "execution_count": 19,
   "id": "192f7d0a",
   "metadata": {},
   "outputs": [
    {
     "data": {
      "text/plain": [
       "(2, 768)"
      ]
     },
     "execution_count": 19,
     "metadata": {},
     "output_type": "execute_result"
    }
   ],
   "source": [
    "qembs.shape"
   ]
  },
  {
   "cell_type": "code",
   "execution_count": 20,
   "id": "0201bfe5",
   "metadata": {},
   "outputs": [],
   "source": [
    "k = 4\n",
    "distances_q_matched, indices_q_matched = faiss_index.search(qembs, k)"
   ]
  },
  {
   "cell_type": "code",
   "execution_count": 21,
   "id": "5d3b4bf2",
   "metadata": {},
   "outputs": [
    {
     "data": {
      "text/plain": [
       "array([[1.1402757, 1.1712399, 1.3248088, 1.3391268],\n",
       "       [1.1180034, 1.1372833, 1.164562 , 1.1772972]], dtype=float32)"
      ]
     },
     "execution_count": 21,
     "metadata": {},
     "output_type": "execute_result"
    }
   ],
   "source": [
    "distances_q_matched"
   ]
  },
  {
   "cell_type": "code",
   "execution_count": 22,
   "id": "ee49604b",
   "metadata": {},
   "outputs": [
    {
     "data": {
      "text/plain": [
       "array([[294, 608, 566, 621],\n",
       "       [ 76, 682,  82, 657]])"
      ]
     },
     "execution_count": 22,
     "metadata": {},
     "output_type": "execute_result"
    }
   ],
   "source": [
    "indices_q_matched"
   ]
  },
  {
   "cell_type": "code",
   "execution_count": 25,
   "id": "3df30abe",
   "metadata": {},
   "outputs": [
    {
     "name": "stdout",
     "output_type": "stream",
     "text": [
      "Matched song to your query 'Life is good and I will survive. I am happy that things turned out this way':\n",
      "Artist: Eric Clapton\n",
      "Title: I’ll Be Alright\n",
      "Lyrics:I'll be alright\n",
      "I'll be alright\n",
      "I'll be alright someday\n",
      "If in my heart\n",
      "I do not give\n",
      "Then I'll be alright someday\n",
      "I'll overcome\n",
      "I'll overcome\n",
      "I'll overcome someday\n",
      "If in my heart\n",
      "I do not give\n",
      "Then I'll overcome someday\n",
      "I'm going home\n",
      "I'm going home\n",
      "I'm going home someday\n",
      "If in my heart\n",
      "I do not give\n",
      "Then I’ll be going home someday\n",
      "Lord I’ll be going home someday\n",
      "Matched song to your query 'Life is good and I will survive. I am happy that things turned out this way':\n",
      "Artist: John Denver\n",
      "Title: Poems, Prayers, & Promises\n",
      "Lyrics:I've been lately thinking\n",
      "About my life's time\n",
      "All the things I've done\n",
      "And how it's been\n",
      "And I can't help believing\n",
      "In my own mind\n",
      "I know I'm gonna hate to see it end\n",
      "\n",
      "I've seen a lot of sunshine\n",
      "Slept out in the rain\n",
      "Spent a night or two all on my own\n",
      "I've known my lady's pleasures\n",
      "Had myself some friends\n",
      "And spent a time or two in my own home\n",
      "\n",
      "And I have to say it now\n",
      "It's been a good life all in all\n",
      "It's really fine\n",
      "To have a chance to hang around\n",
      "And lie there by the fire\n",
      "And watch the evening tire\n",
      "While all my friends and my old lady\n",
      "Sit and pass the pipe around\n",
      "\n",
      "And talk of poems and prayers and promises\n",
      "And things that we believe in\n",
      "How sweet it is to love someone\n",
      "How right it is to care\n",
      "How long it's been since yesterday\n",
      "And what about tomorrow\n",
      "And what about our dreams\n",
      "And all the memories we share\n",
      "\n",
      "The days they pass so quickly now\n",
      "Nights are seldom long\n",
      "And time around me whispers when it's cold\n",
      "The changes somehow frighten me\n",
      "Still I have to smile\n",
      "It turns me on to think of growing old\n",
      "\n",
      "For though my life's been good to me\n",
      "There's still so much to do\n",
      "So many things my mind has never known\n",
      "I'd like to raise a family\n",
      "I'd like to sail away\n",
      "And dance across the mountains on the moon\n",
      "\n",
      "I have to say it now\n",
      "It's been a good life all in all\n",
      "It's really fine\n",
      "To have the chance to hang around\n",
      "And lie there by the fire\n",
      "And watch the evening tire\n",
      "While all my friends and my old lady\n",
      "Sit and pass the pipe around\n",
      "\n",
      "And talk of poems and prayers and promises\n",
      "And things that we believe in\n",
      "How sweet it is to love someone\n",
      "How right it is to care\n",
      "How long it's been since yesterday\n",
      "What about tomorrow\n",
      "What about our dreams\n",
      "And all the memories we share\n",
      "Matched song to your query 'Life is good and I will survive. I am happy that things turned out this way':\n",
      "Artist: Ray LaMontagne\n",
      "Title: Part of the Light\n",
      "Lyrics:Why so many people always runnin' 'round\n",
      "Looking for a happiness that can't be found?\n",
      "I don't know\n",
      "I don't know\n",
      "I don't know\n",
      "\n",
      "For everyone resplendent in the wealth of kings\n",
      "Thousands upon thousands only suffering\n",
      "I don't know\n",
      "I don't know\n",
      "I don't know\n",
      "\n",
      "I want to be part of the light\n",
      "Please let me be part of the light\n",
      "I want to be part of the light\n",
      "I choose to be part of the light\n",
      "Our light\n",
      "\n",
      "Why so many people only close their hearts?\n",
      "Turn their eyes as others' lives are torn apart?\n",
      "I don't know\n",
      "I don't know\n",
      "I don't know\n",
      "When kindness is the greatest gift that one can share\n",
      "Why choose hate to subjugate your fellow man?\n",
      "I don't know\n",
      "I don't know\n",
      "I don't know\n",
      "\n",
      "I want to be part of the light\n",
      "Please let me be part of the light\n",
      "I want to be part of the light\n",
      "I choose to be part of the light\n",
      "Our light\n",
      "Our light\n",
      "Our light\n",
      "Our light\n",
      "Matched song to your query 'Life is good and I will survive. I am happy that things turned out this way':\n",
      "Artist: John Denver\n",
      "Title: Matthew\n",
      "Lyrics:I had an Uncle name of Matthew\n",
      "He was his father's only boy\n",
      "Born just south of Colby, Kansas\n",
      "He was his mother's pride and joy\n",
      "Yes, and joy was just a thing that he was raised on\n",
      "Love was just a way to live and die\n",
      "Gold was just a windy Kansas wheatfield\n",
      "Blue was just a Kansas summer sky\n",
      "All the stories that he told me\n",
      "Back when I was just a lad\n",
      "All the memories that he gave me\n",
      "All the good times that he had\n",
      "Growin' up a Kansas farmboy\n",
      "Life was mostly havin' fun\n",
      "Ridin' on his Daddy's shoulders\n",
      "Behind a mule beneath the sun\n",
      "Yes, and joy was just a thing that he was raised on\n",
      "Love was just a way to live and die\n",
      "Gold was just a windy Kansas wheatfield\n",
      "Blue was just a Kansas summer sky\n",
      "Well, I guess there were some hard times\n",
      "And I'm told some years were lean\n",
      "They had a storm in forty-seven\n",
      "A twister came and stripped 'em clean\n",
      "He lost the farm and lost his family\n",
      "He lost the wheat and lost his home\n",
      "But he found the family Bible\n",
      "A faith as solid as a stone\n",
      "Yes, and joy was just a thing that he was raised on\n",
      "Love was just a way to live and die\n",
      "Gold was just a windy Kansas wheatfield\n",
      "Blue was just a Kansas summer sky\n",
      "And so he came to live at our house\n",
      "And he came to work the land\n",
      "He came to ease my daddy's burden\n",
      "And he came to be my friend\n",
      "And so I wrote this down for Matthew\n",
      "And it's for him this song is sung\n",
      "Ridin' on his Daddy's shoulders\n",
      "Behind a mule beneath the sun\n",
      "Yes, and joy was just a thing that he was raised on\n",
      "Love was just a way to live and die\n",
      "Gold was just a windy Kansas wheatfield\n",
      "Blue was just a Kansas summer sky\n",
      "Yes, and joy was just a thing that he was raised on\n",
      "Love was just a way to live and die\n",
      "Gold was just a windy Kansas wheatfield\n",
      "Blue was just a Kansas summer sky\n"
     ]
    }
   ],
   "source": [
    "# Let's look at matched songs for the first query:\n",
    "for i in indices_q_matched[0]:\n",
    "    artist = lyrics['Artist'].iloc[i]\n",
    "    title = lyrics['Title'].iloc[i]\n",
    "    song_lyrics = lyrics['Lyrics'].iloc[i]\n",
    "    print(f\"Matched song to your query \\'{query_1}\\':\\nArtist: {artist}\\nTitle: {title}\\nLyrics:{song_lyrics}\")"
   ]
  },
  {
   "cell_type": "code",
   "execution_count": 26,
   "id": "fd1557c3",
   "metadata": {},
   "outputs": [
    {
     "name": "stdout",
     "output_type": "stream",
     "text": [
      "Matched song to your query 'Why did you leave me? I am so sad. The world is so cruel.':\n",
      "Artist: Billie Eilish\n",
      "Title: ​bitches broken hearts\n",
      "Lyrics:You can pretend you don't miss me (Me)\n",
      "You can pretend you don't care\n",
      "All you wanna do is kiss me (Me)\n",
      "Oh, what a shame, I'm not there\n",
      "You can pretend you don't miss me (Me)\n",
      "You can pretend you don't care\n",
      "All you wanna do is kiss me (Me)\n",
      "Oh , what a shame, I'm not there\n",
      "\n",
      "What is it you want?\n",
      "You can lie, but I know that you're not fine\n",
      "Every time you talk\n",
      "It's all 'bout me, but you swear I'm not on your mind\n",
      "\n",
      "You can pretend you don't miss me (Me)\n",
      "You can pretend you don't care\n",
      "All you wanna do is kiss me (Me)\n",
      "Oh, what a shame, I'm not there\n",
      "\n",
      "Everybody knows\n",
      "You and I are suicide and stolen art (Art)\n",
      "Pretty mama sews\n",
      "Stitches into all your bitches' broken hearts\n",
      "\n",
      "You can pretend you don't miss me (Me)\n",
      "You can pretend you don't care\n",
      "All you wanna do is kiss me (Me)\n",
      "Oh, what a shame, I'm not there\n",
      "\n",
      "Somebody new is gonna comfort you\n",
      "Like you want me to\n",
      "Somebody new is gonna comfort me\n",
      "Like you never do\n",
      "\n",
      "Every now and then, it hits me\n",
      "That I'm the one that got away\n",
      "But I guess being lonely fits me\n",
      "And you were made for begging, \"stay\"\n",
      "Matched song to your query 'Why did you leave me? I am so sad. The world is so cruel.':\n",
      "Artist: Queen\n",
      "Title: Too Much Love Will Kill You\n",
      "Lyrics:I'm just the pieces\n",
      "Of the man I used to be\n",
      "Too many bitter tears\n",
      "Are raining down on me\n",
      "I'm far away from home\n",
      "And I've been facing this alone\n",
      "For much too long\n",
      "\n",
      "Oh, I feel like no one\n",
      "Ever told the truth to me\n",
      "About growing up\n",
      "And what a struggle it would be\n",
      "In my tangled state of mind\n",
      "I've been looking back to find\n",
      "Where I went wrong\n",
      "\n",
      "Too much love will kill you\n",
      "If you can't make up your mind\n",
      "Torn between the lover\n",
      "And the love you leave behind\n",
      "You're headed for disaster\n",
      "'Cause you never read the signs\n",
      "Too much love will kill you every time\n",
      "\n",
      "I'm just the shadow\n",
      "Of the man I used to be\n",
      "And it seems like there's\n",
      "No way out of this for me\n",
      "I used to bring you sunshine\n",
      "Now all I ever do is bring you down\n",
      "\n",
      "Ooh, how would it be\n",
      "If you were standing in my shoes?\n",
      "Can't you see that\n",
      "It's impossible to choose?\n",
      "No, there's no making sense of it\n",
      "Every way I go I'm bound to lose\n",
      "Oh, yes!\n",
      "\n",
      "Too much love will kill you\n",
      "Just as sure as none at all\n",
      "It'll drain the power that's in you\n",
      "Make you plead and scream and crawl\n",
      "And the pain will make you crazy\n",
      "You're the victim of your crime\n",
      "Too much love will kill you every time\n",
      "\n",
      "\n",
      "Yes, too much love will kill you\n",
      "It'll make your life a lie\n",
      "Yes, too much love will kill you\n",
      "And you won't understand why\n",
      "You'd give your life\n",
      "You'd sell your soul\n",
      "But here it comes again\n",
      "Too much love will kill you\n",
      "\n",
      "In the end\n",
      "In the end\n",
      "Matched song to your query 'Why did you leave me? I am so sad. The world is so cruel.':\n",
      "Artist: Billie Eilish\n",
      "Title: ​goodbye\n",
      "Lyrics:Please, please\n",
      "Don't leave﻿ me\n",
      "Be\n",
      "\n",
      "It's not true\n",
      "Take me to the rooftop\n",
      "Told you not to worry\n",
      "What do you want from me?\n",
      "Don't ask questions\n",
      "Wait a minute\n",
      "Don't you know I'm no good for you?\n",
      "Baby, I don't feel so good\n",
      "And all the good girls go ﻿to Hell\n",
      "Bite my tongue, bide my time\n",
      "What is it about them?\n",
      "I'm the bad guy\n",
      "Matched song to your query 'Why did you leave me? I am so sad. The world is so cruel.':\n",
      "Artist: Queen\n",
      "Title: Love of My Life\n",
      "Lyrics:Love of my life, you've hurt me\n",
      "You've broken my heart\n",
      "And now you leave me\n",
      "\n",
      "Love of my life, can't you see?\n",
      "Bring it back, bring it back\n",
      "Don't take it away from me\n",
      "Because you don't know\n",
      "What it means to me\n",
      "\n",
      "Love of my life, don't leave me\n",
      "You've taken my love (all my love)\n",
      "And now desert me\n",
      "\n",
      "Love of my life, can't you see?\n",
      "(Please bring it back, back) Bring it back\n",
      "Bring it back, don't take it away from me\n",
      "Because you don't know what it means to me\n",
      "\n",
      "You will remember, when this is blown over\n",
      "And everything's all by the way\n",
      "When I grow older\n",
      "I will be there at your side\n",
      "To remind you how\n",
      "I still love you (I still love you)\n",
      "\n",
      "\n",
      "Back, hurry back\n",
      "Please bring it back home to me\n",
      "Because you don't know\n",
      "What it means to me\n",
      "\n",
      "Love of my life\n",
      "Love of my life\n",
      "Ooh, ooh\n"
     ]
    }
   ],
   "source": [
    "# Let's look at matched songs for the first query:\n",
    "for i in indices_q_matched[1]:\n",
    "    artist = lyrics['Artist'].iloc[i]\n",
    "    title = lyrics['Title'].iloc[i]\n",
    "    song_lyrics = lyrics['Lyrics'].iloc[i]\n",
    "    print(f\"Matched song to your query \\'{query_2}\\':\\nArtist: {artist}\\nTitle: {title}\\nLyrics:{song_lyrics}\")"
   ]
  },
  {
   "cell_type": "code",
   "execution_count": null,
   "id": "efabbf07",
   "metadata": {},
   "outputs": [],
   "source": []
  },
  {
   "cell_type": "markdown",
   "id": "87071f72",
   "metadata": {},
   "source": [
    "## Step 6 - Save index on disc"
   ]
  },
  {
   "cell_type": "markdown",
   "id": "2c1dbed6",
   "metadata": {},
   "source": []
  },
  {
   "cell_type": "markdown",
   "id": "07579b45",
   "metadata": {},
   "source": [
    "## Step 7 - Add results to a system prompt"
   ]
  },
  {
   "cell_type": "markdown",
   "id": "a9771ba9",
   "metadata": {},
   "source": []
  }
 ],
 "metadata": {
  "kernelspec": {
   "display_name": ".venv",
   "language": "python",
   "name": "python3"
  },
  "language_info": {
   "codemirror_mode": {
    "name": "ipython",
    "version": 3
   },
   "file_extension": ".py",
   "mimetype": "text/x-python",
   "name": "python",
   "nbconvert_exporter": "python",
   "pygments_lexer": "ipython3",
   "version": "3.11.5"
  }
 },
 "nbformat": 4,
 "nbformat_minor": 5
}
