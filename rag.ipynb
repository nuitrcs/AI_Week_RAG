{
 "cells": [
  {
   "cell_type": "markdown",
   "id": "e6ab5a09",
   "metadata": {},
   "source": [
    "# Retrieval Augmented Generation"
   ]
  },
  {
   "cell_type": "markdown",
   "id": "3f3882a9",
   "metadata": {},
   "source": [
    "**What is Retrieval augmented generation?**\n",
    "\n",
    "See slides!\n",
    "\n",
    "**What libraries will we use?**\n",
    "- Embedding step: `sentence_transformers`, other good options available.\n",
    "- Indexing step: `faiss`, it's my favorite so far.\n",
    "- Generation: `???`\n",
    "\n",
    "**Pre-requisites**\n",
    "- Basic python, including numpy\n",
    "- The intro slides"
   ]
  },
  {
   "cell_type": "markdown",
   "id": "e39ecb99",
   "metadata": {},
   "source": [
    "## Imports"
   ]
  },
  {
   "cell_type": "markdown",
   "id": "e1401c5b",
   "metadata": {},
   "source": [
    "TO-DO:\n",
    "* Install faiss-cpu or faiss-gpu?"
   ]
  },
  {
   "cell_type": "code",
   "execution_count": 2,
   "id": "3f9c943a",
   "metadata": {},
   "outputs": [],
   "source": [
    "# in_google_colab = 1\n",
    "# if in_google_colab:\n",
    "#   !pip install faiss-cpu"
   ]
  },
  {
   "cell_type": "code",
   "execution_count": null,
   "id": "a1ae7dbd",
   "metadata": {},
   "outputs": [],
   "source": [
    "# # Dictionary to handle cases where package name and module name are different\n",
    "# package_to_module = {\n",
    "#     \"faiss-cpu\": \"faiss\",\n",
    "#     \"scikit-learn\": \"sklearn\",\n",
    "#     \"umap-learn\": \"umap\"\n",
    "# }\n",
    "\n",
    "# Packages to install\n",
    "# packages = [\"faiss-cpu\", \"numpy\", \"scikit-learn\", \"umap-learn\"]\n",
    "\n",
    "# def check_and_install_packages(package_list):\n",
    "#     \"\"\"Check if each package in the list is installed, and install it if not.\"\"\"\n",
    "#     for package in package_list:\n",
    "#         # Get the correct module name (or fallback to package name if they are the same)\n",
    "#         module_name = package_to_module.get(package, package)\n",
    "#         try:\n",
    "#             __import__(module_name)  # Try to import the correct module name\n",
    "#             print(f\"{package} ({module_name}) is already installed\")\n",
    "#         except ImportError:\n",
    "#             print(f\"{package} is not installed, installing now...\")\n",
    "#             !pip install {package}\n",
    "#             # And add import here no?\n",
    "\n",
    "# # Check and install packages\n",
    "# check_and_install_packages(packages)"
   ]
  },
  {
   "cell_type": "code",
   "execution_count": 4,
   "id": "c13ea87f",
   "metadata": {},
   "outputs": [],
   "source": [
    "# Helps with threading issues\n",
    "# import os\n",
    "# os.environ[\"OMP_NUM_THREADS\"] = \"1\"\n",
    "# os.environ[\"MKL_NUM_THREADS\"] = \"1\""
   ]
  },
  {
   "cell_type": "code",
   "execution_count": 73,
   "id": "5190cca8",
   "metadata": {},
   "outputs": [],
   "source": [
    "# LLM libraries\n",
    "from sentence_transformers import SentenceTransformer\n",
    "import faiss\n",
    "# from transformers import pipeline\n",
    "import ollama\n",
    "\n",
    "# Machine learning libraries\n",
    "from umap import UMAP\n",
    "\n",
    "# Helper libraries\n",
    "import pandas as pd\n",
    "import numpy as np\n",
    "from pathlib import Path\n",
    "\n",
    "# Visualization libraries\n",
    "import plotly.express as px\n",
    "import plotly.graph_objects as go"
   ]
  },
  {
   "cell_type": "markdown",
   "id": "6144f9d0",
   "metadata": {},
   "source": [
    "## Section 1: Building the Retrieval System"
   ]
  },
  {
   "cell_type": "markdown",
   "id": "7f238944",
   "metadata": {},
   "source": [
    "### Load Data"
   ]
  },
  {
   "cell_type": "markdown",
   "id": "45b0beed",
   "metadata": {},
   "source": [
    "We first need \"anchoring\" data that our system will retrieve as necessary to answer to relevant prompts. In our case, we are going to use a dataset of song lyrics."
   ]
  },
  {
   "cell_type": "markdown",
   "id": "1220aae5",
   "metadata": {},
   "source": [
    "Indicate the data directory:"
   ]
  },
  {
   "cell_type": "code",
   "execution_count": 6,
   "id": "4b4f8979",
   "metadata": {},
   "outputs": [],
   "source": [
    "data_path = Path(\"data/songs.csv\")"
   ]
  },
  {
   "cell_type": "markdown",
   "id": "d549f580",
   "metadata": {},
   "source": [
    "Load the data into a pandas dataframe:"
   ]
  },
  {
   "cell_type": "code",
   "execution_count": 7,
   "id": "6af3d058",
   "metadata": {},
   "outputs": [],
   "source": [
    "lyrics = pd.read_csv(data_path)"
   ]
  },
  {
   "cell_type": "markdown",
   "id": "d8c073e5",
   "metadata": {},
   "source": [
    "Let's take a look at the first few songs:"
   ]
  },
  {
   "cell_type": "code",
   "execution_count": 8,
   "id": "4d507015",
   "metadata": {},
   "outputs": [
    {
     "data": {
      "text/html": [
       "<div>\n",
       "<style scoped>\n",
       "    .dataframe tbody tr th:only-of-type {\n",
       "        vertical-align: middle;\n",
       "    }\n",
       "\n",
       "    .dataframe tbody tr th {\n",
       "        vertical-align: top;\n",
       "    }\n",
       "\n",
       "    .dataframe thead th {\n",
       "        text-align: right;\n",
       "    }\n",
       "</style>\n",
       "<table border=\"1\" class=\"dataframe\">\n",
       "  <thead>\n",
       "    <tr style=\"text-align: right;\">\n",
       "      <th></th>\n",
       "      <th>Artist</th>\n",
       "      <th>Title</th>\n",
       "      <th>Lyrics</th>\n",
       "    </tr>\n",
       "  </thead>\n",
       "  <tbody>\n",
       "    <tr>\n",
       "      <th>0</th>\n",
       "      <td>Taylor Swift</td>\n",
       "      <td>cardigan</td>\n",
       "      <td>Vintage tee, brand new phone\\nHigh heels on co...</td>\n",
       "    </tr>\n",
       "    <tr>\n",
       "      <th>1</th>\n",
       "      <td>Taylor Swift</td>\n",
       "      <td>exile</td>\n",
       "      <td>I can see you standing, honey\\nWith his arms a...</td>\n",
       "    </tr>\n",
       "    <tr>\n",
       "      <th>2</th>\n",
       "      <td>Taylor Swift</td>\n",
       "      <td>Lover</td>\n",
       "      <td>We could leave the Christmas lights up 'til Ja...</td>\n",
       "    </tr>\n",
       "    <tr>\n",
       "      <th>3</th>\n",
       "      <td>Taylor Swift</td>\n",
       "      <td>the 1</td>\n",
       "      <td>I'm doing good, I'm on some new shit\\nBeen say...</td>\n",
       "    </tr>\n",
       "    <tr>\n",
       "      <th>4</th>\n",
       "      <td>Taylor Swift</td>\n",
       "      <td>Look What You Made Me Do</td>\n",
       "      <td>I don't like your little games\\nDon't like you...</td>\n",
       "    </tr>\n",
       "  </tbody>\n",
       "</table>\n",
       "</div>"
      ],
      "text/plain": [
       "         Artist                     Title  \\\n",
       "0  Taylor Swift                  cardigan   \n",
       "1  Taylor Swift                     exile   \n",
       "2  Taylor Swift                     Lover   \n",
       "3  Taylor Swift                     the 1   \n",
       "4  Taylor Swift  Look What You Made Me Do   \n",
       "\n",
       "                                              Lyrics  \n",
       "0  Vintage tee, brand new phone\\nHigh heels on co...  \n",
       "1  I can see you standing, honey\\nWith his arms a...  \n",
       "2  We could leave the Christmas lights up 'til Ja...  \n",
       "3  I'm doing good, I'm on some new shit\\nBeen say...  \n",
       "4  I don't like your little games\\nDon't like you...  "
      ]
     },
     "execution_count": 8,
     "metadata": {},
     "output_type": "execute_result"
    }
   ],
   "source": [
    "lyrics.head()"
   ]
  },
  {
   "cell_type": "markdown",
   "id": "56f7d62a",
   "metadata": {},
   "source": [
    "Check how many songs we have:"
   ]
  },
  {
   "cell_type": "code",
   "execution_count": 9,
   "id": "3b794287",
   "metadata": {},
   "outputs": [
    {
     "data": {
      "text/plain": [
       "(745, 3)"
      ]
     },
     "execution_count": 9,
     "metadata": {},
     "output_type": "execute_result"
    }
   ],
   "source": [
    "lyrics.shape"
   ]
  },
  {
   "cell_type": "markdown",
   "id": "8a79d551",
   "metadata": {},
   "source": [
    "And let's look at the artists we have songs from:"
   ]
  },
  {
   "cell_type": "code",
   "execution_count": 10,
   "id": "8f791a95",
   "metadata": {},
   "outputs": [
    {
     "data": {
      "text/plain": [
       "array(['Taylor Swift', 'Billie Eilish', 'The Beatles', 'David Bowie',\n",
       "       'Billy Joel', 'Ed Sheeran', 'Eric Clapton', 'Bruce Springsteen',\n",
       "       'Vance Joy', 'Lana Del Rey', 'Bryan Adams', 'Leonard Cohen',\n",
       "       'Nat King Cole', 'twenty one pilots', 'Ray LaMontagne',\n",
       "       'Bob Dylan', 'John Denver', 'Frank Sinatra', 'Queen', 'Elton John',\n",
       "       'George Michael'], dtype=object)"
      ]
     },
     "execution_count": 10,
     "metadata": {},
     "output_type": "execute_result"
    }
   ],
   "source": [
    "lyrics['Artist'].unique()"
   ]
  },
  {
   "cell_type": "markdown",
   "id": "c9583c45",
   "metadata": {},
   "source": [
    "### Preprocessing"
   ]
  },
  {
   "cell_type": "markdown",
   "id": "371fa456",
   "metadata": {},
   "source": [
    "There are many elements of preprocessing. The main ones you will encounter are:\n",
    "* Removing boilerplate text, cleaning white spaces, etc.\n",
    "* Tokenization\n",
    "* Chunking\n",
    "\n",
    "I have done the first one for you. In this workshop we may not have time to go over tokenization or chunking, but I've written sections about them at the end of the notebook, in the *Optional* section."
   ]
  },
  {
   "cell_type": "markdown",
   "id": "3cef6654",
   "metadata": {},
   "source": [
    "### Create Embeddings"
   ]
  },
  {
   "cell_type": "markdown",
   "id": "f2d5ae6c",
   "metadata": {},
   "source": [
    "This will be our first crucial step. To create embeddings, you need to have a model that is designed for the same type of data as your data! There are models for text, for images, multimodal, etc."
   ]
  },
  {
   "cell_type": "markdown",
   "id": "560e66bd",
   "metadata": {},
   "source": [
    "**Step 1** Choose your model"
   ]
  },
  {
   "cell_type": "code",
   "execution_count": 11,
   "id": "a33c4fc2",
   "metadata": {},
   "outputs": [],
   "source": [
    "# Let's pick a populat text model\n",
    "model_name = 'all-mpnet-base-v2' \n",
    "\n",
    "# We create the SentenceTransformer based on our model. This is the function that takes texts and produces embeddings.\n",
    "emb_model = SentenceTransformer(model_name)"
   ]
  },
  {
   "cell_type": "markdown",
   "id": "891d3c6f",
   "metadata": {},
   "source": [
    "**Step 2** Create embeddings"
   ]
  },
  {
   "cell_type": "code",
   "execution_count": 12,
   "id": "4bda5030",
   "metadata": {},
   "outputs": [],
   "source": [
    "# Just one line!!\n",
    "embeddings = emb_model.encode(lyrics['Lyrics'])"
   ]
  },
  {
   "cell_type": "markdown",
   "id": "0e4ad715",
   "metadata": {},
   "source": [
    "Now let's take a second to study our embeddings."
   ]
  },
  {
   "cell_type": "code",
   "execution_count": 13,
   "id": "2561d4eb",
   "metadata": {},
   "outputs": [
    {
     "data": {
      "text/plain": [
       "numpy.ndarray"
      ]
     },
     "execution_count": 13,
     "metadata": {},
     "output_type": "execute_result"
    }
   ],
   "source": [
    "# SentenceTransformer returns numpy arrays. Other libraries may return different data types.\n",
    "type(embeddings)"
   ]
  },
  {
   "cell_type": "code",
   "execution_count": 14,
   "id": "90c180ce",
   "metadata": {},
   "outputs": [
    {
     "data": {
      "text/plain": [
       "(745, 768)"
      ]
     },
     "execution_count": 14,
     "metadata": {},
     "output_type": "execute_result"
    }
   ],
   "source": [
    "# The numpy array is basically an nxd matrix, where n is number of songs and d is the embedding dimension\n",
    "embeddings.shape"
   ]
  },
  {
   "cell_type": "markdown",
   "id": "98dff68b",
   "metadata": {},
   "source": [
    "**Normalization**\n",
    "\n",
    "Note that our vectors are normalized (see below). This is not always the case, but it is important you know if your vectors are normalized or not. We'll get back to it when we create our index."
   ]
  },
  {
   "cell_type": "code",
   "execution_count": 15,
   "id": "cb3dcc30",
   "metadata": {},
   "outputs": [
    {
     "data": {
      "text/plain": [
       "np.float32(1.0)"
      ]
     },
     "execution_count": 15,
     "metadata": {},
     "output_type": "execute_result"
    }
   ],
   "source": [
    "np.inner(embeddings[0], embeddings[0])"
   ]
  },
  {
   "cell_type": "code",
   "execution_count": 16,
   "id": "9ec758b0",
   "metadata": {},
   "outputs": [],
   "source": [
    "# Normalization is not always ensured by default, but you can set it to be so with an argument:\n",
    "embeddings = emb_model.encode(lyrics['Lyrics'], normalize_embeddings=True)"
   ]
  },
  {
   "cell_type": "markdown",
   "id": "99a02e2d",
   "metadata": {},
   "source": [
    "SentenceTransformers provides a handy `similarity` function, which computes the pairwise similarity of two sets of songs."
   ]
  },
  {
   "cell_type": "code",
   "execution_count": 17,
   "id": "0cb0a95f",
   "metadata": {},
   "outputs": [
    {
     "data": {
      "text/plain": [
       "tensor([[0.4468]])"
      ]
     },
     "execution_count": 17,
     "metadata": {},
     "output_type": "execute_result"
    }
   ],
   "source": [
    "# Comparing two songs\n",
    "emb_model.similarity(embeddings[0], embeddings[1])"
   ]
  },
  {
   "cell_type": "markdown",
   "id": "6e7f66f0",
   "metadata": {},
   "source": [
    "The result is a *tensor*, which you can index as you would with numpy arrays:"
   ]
  },
  {
   "cell_type": "code",
   "execution_count": 18,
   "id": "765b312c",
   "metadata": {},
   "outputs": [
    {
     "name": "stdout",
     "output_type": "stream",
     "text": [
      "The cosine similarity between song 0 and song 1 is 0.4468323588371277\n"
     ]
    }
   ],
   "source": [
    "d01 = emb_model.similarity(embeddings[0], embeddings[1])\n",
    "print(f\"The cosine similarity between song 0 and song 1 is {d01[0,0]}\")"
   ]
  },
  {
   "cell_type": "code",
   "execution_count": 19,
   "id": "8bf8d52d",
   "metadata": {},
   "outputs": [
    {
     "data": {
      "text/plain": [
       "tensor([[1.0000]])"
      ]
     },
     "execution_count": 19,
     "metadata": {},
     "output_type": "execute_result"
    }
   ],
   "source": [
    "# A maximum of 1 is achieved if the vectors are the same\n",
    "emb_model.similarity(embeddings[0], embeddings[0])"
   ]
  },
  {
   "cell_type": "markdown",
   "id": "529360aa",
   "metadata": {},
   "source": [
    "You can compare one song to multiples songs:"
   ]
  },
  {
   "cell_type": "code",
   "execution_count": 20,
   "id": "0e1ff5ac",
   "metadata": {},
   "outputs": [
    {
     "data": {
      "text/plain": [
       "tensor([[1.0000, 0.4468, 0.6080, 0.5934, 0.5363]])"
      ]
     },
     "execution_count": 20,
     "metadata": {},
     "output_type": "execute_result"
    }
   ],
   "source": [
    "emb_model.similarity(embeddings[0], embeddings[0:5])"
   ]
  },
  {
   "cell_type": "markdown",
   "id": "08386999",
   "metadata": {},
   "source": [
    "Or multiple songs to multiple songs, in which case you get a matrix of similarities:"
   ]
  },
  {
   "cell_type": "code",
   "execution_count": 21,
   "id": "fc1ab8e6",
   "metadata": {},
   "outputs": [
    {
     "data": {
      "text/plain": [
       "tensor([[1.0000, 0.4468, 0.6080, 0.5934, 0.5363],\n",
       "        [0.4468, 1.0000, 0.5352, 0.5242, 0.6023],\n",
       "        [0.6080, 0.5352, 1.0000, 0.5728, 0.4673],\n",
       "        [0.5934, 0.5242, 0.5728, 1.0000, 0.5427],\n",
       "        [0.5363, 0.6023, 0.4673, 0.5427, 1.0000]])"
      ]
     },
     "execution_count": 21,
     "metadata": {},
     "output_type": "execute_result"
    }
   ],
   "source": [
    "emb_model.similarity(embeddings[0:5], embeddings[0:5])"
   ]
  },
  {
   "cell_type": "markdown",
   "id": "36b84d3a",
   "metadata": {},
   "source": [
    "By default, sentence_transformers uses the `cosine` similarity (see slides). But you can use other distances like the euclidean or manhattan distances (see their documentation)."
   ]
  },
  {
   "cell_type": "markdown",
   "id": "f1f1f965",
   "metadata": {},
   "source": [
    "### Visualization for Intuition"
   ]
  },
  {
   "cell_type": "markdown",
   "id": "2b44e354",
   "metadata": {},
   "source": [
    "**Similarity Heatmap**"
   ]
  },
  {
   "cell_type": "markdown",
   "id": "c2afa4d7",
   "metadata": {},
   "source": [
    "Before continuing, let's try to develop an intuition about these embeddings.\n",
    "\n",
    "First, recall emebeddings are vectors in a d-dimensional space, where d is quite large. We can't visualize them directly, but we can see how they interact with each other. Let's look at a heatmap of the similarities between different artists songs.\n",
    "\n",
    "All the code in this section will be skipped! It is not important for our workshop."
   ]
  },
  {
   "cell_type": "code",
   "execution_count": 22,
   "id": "2a1cc3f1",
   "metadata": {},
   "outputs": [],
   "source": [
    "n_heatmap = 5\n",
    "a_artist = 'Taylor Swift'\n",
    "b_artist = 'Bob Dylan'"
   ]
  },
  {
   "cell_type": "code",
   "execution_count": 23,
   "id": "21de3a54",
   "metadata": {},
   "outputs": [
    {
     "data": {
      "text/html": [
       "<div>\n",
       "<style scoped>\n",
       "    .dataframe tbody tr th:only-of-type {\n",
       "        vertical-align: middle;\n",
       "    }\n",
       "\n",
       "    .dataframe tbody tr th {\n",
       "        vertical-align: top;\n",
       "    }\n",
       "\n",
       "    .dataframe thead th {\n",
       "        text-align: right;\n",
       "    }\n",
       "</style>\n",
       "<table border=\"1\" class=\"dataframe\">\n",
       "  <thead>\n",
       "    <tr style=\"text-align: right;\">\n",
       "      <th></th>\n",
       "      <th>Artist</th>\n",
       "      <th>Title</th>\n",
       "      <th>Lyrics</th>\n",
       "    </tr>\n",
       "  </thead>\n",
       "  <tbody>\n",
       "    <tr>\n",
       "      <th>0</th>\n",
       "      <td>Taylor Swift</td>\n",
       "      <td>cardigan</td>\n",
       "      <td>Vintage tee, brand new phone\\nHigh heels on co...</td>\n",
       "    </tr>\n",
       "    <tr>\n",
       "      <th>1</th>\n",
       "      <td>Taylor Swift</td>\n",
       "      <td>exile</td>\n",
       "      <td>I can see you standing, honey\\nWith his arms a...</td>\n",
       "    </tr>\n",
       "    <tr>\n",
       "      <th>2</th>\n",
       "      <td>Taylor Swift</td>\n",
       "      <td>Lover</td>\n",
       "      <td>We could leave the Christmas lights up 'til Ja...</td>\n",
       "    </tr>\n",
       "    <tr>\n",
       "      <th>3</th>\n",
       "      <td>Taylor Swift</td>\n",
       "      <td>the 1</td>\n",
       "      <td>I'm doing good, I'm on some new shit\\nBeen say...</td>\n",
       "    </tr>\n",
       "    <tr>\n",
       "      <th>4</th>\n",
       "      <td>Taylor Swift</td>\n",
       "      <td>Look What You Made Me Do</td>\n",
       "      <td>I don't like your little games\\nDon't like you...</td>\n",
       "    </tr>\n",
       "  </tbody>\n",
       "</table>\n",
       "</div>"
      ],
      "text/plain": [
       "         Artist                     Title  \\\n",
       "0  Taylor Swift                  cardigan   \n",
       "1  Taylor Swift                     exile   \n",
       "2  Taylor Swift                     Lover   \n",
       "3  Taylor Swift                     the 1   \n",
       "4  Taylor Swift  Look What You Made Me Do   \n",
       "\n",
       "                                              Lyrics  \n",
       "0  Vintage tee, brand new phone\\nHigh heels on co...  \n",
       "1  I can see you standing, honey\\nWith his arms a...  \n",
       "2  We could leave the Christmas lights up 'til Ja...  \n",
       "3  I'm doing good, I'm on some new shit\\nBeen say...  \n",
       "4  I don't like your little games\\nDon't like you...  "
      ]
     },
     "execution_count": 23,
     "metadata": {},
     "output_type": "execute_result"
    }
   ],
   "source": [
    "lyrics[lyrics['Artist']==a_artist].head(n_heatmap)"
   ]
  },
  {
   "cell_type": "code",
   "execution_count": 24,
   "id": "12e52659",
   "metadata": {},
   "outputs": [
    {
     "data": {
      "text/html": [
       "<div>\n",
       "<style scoped>\n",
       "    .dataframe tbody tr th:only-of-type {\n",
       "        vertical-align: middle;\n",
       "    }\n",
       "\n",
       "    .dataframe tbody tr th {\n",
       "        vertical-align: top;\n",
       "    }\n",
       "\n",
       "    .dataframe thead th {\n",
       "        text-align: right;\n",
       "    }\n",
       "</style>\n",
       "<table border=\"1\" class=\"dataframe\">\n",
       "  <thead>\n",
       "    <tr style=\"text-align: right;\">\n",
       "      <th></th>\n",
       "      <th>Artist</th>\n",
       "      <th>Title</th>\n",
       "      <th>Lyrics</th>\n",
       "    </tr>\n",
       "  </thead>\n",
       "  <tbody>\n",
       "    <tr>\n",
       "      <th>575</th>\n",
       "      <td>Bob Dylan</td>\n",
       "      <td>Murder Most Foul</td>\n",
       "      <td>'Twas a dark day in Dallas, November '63\\nA da...</td>\n",
       "    </tr>\n",
       "    <tr>\n",
       "      <th>576</th>\n",
       "      <td>Bob Dylan</td>\n",
       "      <td>Blowin’ in the Wind</td>\n",
       "      <td>How many roads must a man walk down\\nBefore yo...</td>\n",
       "    </tr>\n",
       "    <tr>\n",
       "      <th>577</th>\n",
       "      <td>Bob Dylan</td>\n",
       "      <td>The Times They Are A-Changin’</td>\n",
       "      <td>Come gather 'round people, wherever you roam\\n...</td>\n",
       "    </tr>\n",
       "    <tr>\n",
       "      <th>578</th>\n",
       "      <td>Bob Dylan</td>\n",
       "      <td>All Along the Watchtower</td>\n",
       "      <td>\"There must be some way out of here\"\\nSaid the...</td>\n",
       "    </tr>\n",
       "    <tr>\n",
       "      <th>579</th>\n",
       "      <td>Bob Dylan</td>\n",
       "      <td>Like a Rolling Stone</td>\n",
       "      <td>Once upon a time you dressed so fine\\nThrew th...</td>\n",
       "    </tr>\n",
       "  </tbody>\n",
       "</table>\n",
       "</div>"
      ],
      "text/plain": [
       "        Artist                          Title  \\\n",
       "575  Bob Dylan               Murder Most Foul   \n",
       "576  Bob Dylan            Blowin’ in the Wind   \n",
       "577  Bob Dylan  The Times They Are A-Changin’   \n",
       "578  Bob Dylan       All Along the Watchtower   \n",
       "579  Bob Dylan           Like a Rolling Stone   \n",
       "\n",
       "                                                Lyrics  \n",
       "575  'Twas a dark day in Dallas, November '63\\nA da...  \n",
       "576  How many roads must a man walk down\\nBefore yo...  \n",
       "577  Come gather 'round people, wherever you roam\\n...  \n",
       "578  \"There must be some way out of here\"\\nSaid the...  \n",
       "579  Once upon a time you dressed so fine\\nThrew th...  "
      ]
     },
     "execution_count": 24,
     "metadata": {},
     "output_type": "execute_result"
    }
   ],
   "source": [
    "lyrics[lyrics['Artist']==b_artist].head(n_heatmap)"
   ]
  },
  {
   "cell_type": "code",
   "execution_count": 25,
   "id": "3a188b16",
   "metadata": {},
   "outputs": [],
   "source": [
    "# Let's save the indices for easy access\n",
    "a_idxs = lyrics[lyrics['Artist']==a_artist].index.to_list()[:n_heatmap]\n",
    "b_idxs = lyrics[lyrics['Artist']==b_artist].index.to_list()[:n_heatmap]\n",
    "\n",
    "# subset embeddings of first and last n songs\n",
    "a_embs = embeddings[a_idxs]\n",
    "b_embs = embeddings[b_idxs]\n",
    "both_embs = np.concatenate((a_embs, b_embs), axis=0)\n",
    "\n",
    "# we'll use this in our visualization:\n",
    "a_titles = lyrics['Title'].iloc[:n_heatmap].to_list()\n",
    "b_titles = lyrics['Title'].iloc[-n_heatmap:].to_list()\n",
    "a_titles = [title[:20] for title in a_titles] # truncating text\n",
    "b_titles = [title[:20] for title in b_titles]\n",
    "both_titles = a_titles + b_titles\n",
    "\n",
    "# compute their similarity, we want to visualize this with a heatmap\n",
    "fl_sim_matrix = emb_model.similarity(both_embs, both_embs)"
   ]
  },
  {
   "cell_type": "code",
   "execution_count": 26,
   "id": "1917d159",
   "metadata": {},
   "outputs": [
    {
     "data": {
      "application/vnd.plotly.v1+json": {
       "config": {
        "plotlyServerURL": "https://plot.ly"
       },
       "data": [
        {
         "coloraxis": "coloraxis",
         "hovertemplate": "x: %{x}<br>y: %{y}<br>color: %{z}<extra></extra>",
         "name": "0",
         "texttemplate": "%{z:.2f}",
         "type": "heatmap",
         "x": [
          "cardigan",
          "exile",
          "Lover",
          "the 1",
          "Look What You Made M",
          "The First Time Ever ",
          "Waiting For That Day",
          "Shoot the Dog",
          "Star People",
          "Tonight"
         ],
         "xaxis": "x",
         "y": [
          "cardigan",
          "exile",
          "Lover",
          "the 1",
          "Look What You Made M",
          "The First Time Ever ",
          "Waiting For That Day",
          "Shoot the Dog",
          "Star People",
          "Tonight"
         ],
         "yaxis": "y",
         "z": {
          "bdata": "+v9/PzfH5D7XpRs/yukXP5lICT9wDqk+qfwfPk4roz7H5Fo+On8qPzfH5D4BAIA/dQEJP80wBj9LMho/5cWZPtO8gz6BjLs+aVC8PvBOGT/XpRs/dQEJPwQAgD/7pRI/Kj3vPsvAYj7kX4M+WuaVPkrjRT4ZYhY/yukXP80wBj/7pRI/9v9/P9DvCj+8fo4+xrg1Pjz+oT6pZ10+O9gxP5lICT9LMho/Kj3vPtDvCj8FAIA/HJymPsn4Zz56usI+0123PvqmHz9wDqk+5cWZPsvAYj68fo4+HJymPgAAgD9OxDU+nAGKPqeHoD4QH7M+qfwfPtO8gz7kX4M+xrg1Psn4Zz5OxDU+BgCAPyL6sj4BiKw+Tb18Pk4roz6BjLs+WuaVPjz+oT56usI+nAGKPiL6sj4IAIA/bOy0PsSU3T7H5Fo+aVC8PkrjRT6pZ10+0123PqeHoD4BiKw+bOy0PgIAgD89/b0+On8qP/BOGT8ZYhY/O9gxP/qmHz8QH7M+Tb18PsSU3T49/b0+/f9/Pw==",
          "dtype": "f4",
          "shape": "10, 10"
         }
        }
       ],
       "layout": {
        "coloraxis": {
         "colorscale": [
          [
           0,
           "#440154"
          ],
          [
           0.1111111111111111,
           "#482878"
          ],
          [
           0.2222222222222222,
           "#3e4989"
          ],
          [
           0.3333333333333333,
           "#31688e"
          ],
          [
           0.4444444444444444,
           "#26828e"
          ],
          [
           0.5555555555555556,
           "#1f9e89"
          ],
          [
           0.6666666666666666,
           "#35b779"
          ],
          [
           0.7777777777777778,
           "#6ece58"
          ],
          [
           0.8888888888888888,
           "#b5de2b"
          ],
          [
           1,
           "#fde725"
          ]
         ]
        },
        "height": 750,
        "margin": {
         "t": 60
        },
        "template": {
         "data": {
          "bar": [
           {
            "error_x": {
             "color": "#2a3f5f"
            },
            "error_y": {
             "color": "#2a3f5f"
            },
            "marker": {
             "line": {
              "color": "#E5ECF6",
              "width": 0.5
             },
             "pattern": {
              "fillmode": "overlay",
              "size": 10,
              "solidity": 0.2
             }
            },
            "type": "bar"
           }
          ],
          "barpolar": [
           {
            "marker": {
             "line": {
              "color": "#E5ECF6",
              "width": 0.5
             },
             "pattern": {
              "fillmode": "overlay",
              "size": 10,
              "solidity": 0.2
             }
            },
            "type": "barpolar"
           }
          ],
          "carpet": [
           {
            "aaxis": {
             "endlinecolor": "#2a3f5f",
             "gridcolor": "white",
             "linecolor": "white",
             "minorgridcolor": "white",
             "startlinecolor": "#2a3f5f"
            },
            "baxis": {
             "endlinecolor": "#2a3f5f",
             "gridcolor": "white",
             "linecolor": "white",
             "minorgridcolor": "white",
             "startlinecolor": "#2a3f5f"
            },
            "type": "carpet"
           }
          ],
          "choropleth": [
           {
            "colorbar": {
             "outlinewidth": 0,
             "ticks": ""
            },
            "type": "choropleth"
           }
          ],
          "contour": [
           {
            "colorbar": {
             "outlinewidth": 0,
             "ticks": ""
            },
            "colorscale": [
             [
              0,
              "#0d0887"
             ],
             [
              0.1111111111111111,
              "#46039f"
             ],
             [
              0.2222222222222222,
              "#7201a8"
             ],
             [
              0.3333333333333333,
              "#9c179e"
             ],
             [
              0.4444444444444444,
              "#bd3786"
             ],
             [
              0.5555555555555556,
              "#d8576b"
             ],
             [
              0.6666666666666666,
              "#ed7953"
             ],
             [
              0.7777777777777778,
              "#fb9f3a"
             ],
             [
              0.8888888888888888,
              "#fdca26"
             ],
             [
              1,
              "#f0f921"
             ]
            ],
            "type": "contour"
           }
          ],
          "contourcarpet": [
           {
            "colorbar": {
             "outlinewidth": 0,
             "ticks": ""
            },
            "type": "contourcarpet"
           }
          ],
          "heatmap": [
           {
            "colorbar": {
             "outlinewidth": 0,
             "ticks": ""
            },
            "colorscale": [
             [
              0,
              "#0d0887"
             ],
             [
              0.1111111111111111,
              "#46039f"
             ],
             [
              0.2222222222222222,
              "#7201a8"
             ],
             [
              0.3333333333333333,
              "#9c179e"
             ],
             [
              0.4444444444444444,
              "#bd3786"
             ],
             [
              0.5555555555555556,
              "#d8576b"
             ],
             [
              0.6666666666666666,
              "#ed7953"
             ],
             [
              0.7777777777777778,
              "#fb9f3a"
             ],
             [
              0.8888888888888888,
              "#fdca26"
             ],
             [
              1,
              "#f0f921"
             ]
            ],
            "type": "heatmap"
           }
          ],
          "histogram": [
           {
            "marker": {
             "pattern": {
              "fillmode": "overlay",
              "size": 10,
              "solidity": 0.2
             }
            },
            "type": "histogram"
           }
          ],
          "histogram2d": [
           {
            "colorbar": {
             "outlinewidth": 0,
             "ticks": ""
            },
            "colorscale": [
             [
              0,
              "#0d0887"
             ],
             [
              0.1111111111111111,
              "#46039f"
             ],
             [
              0.2222222222222222,
              "#7201a8"
             ],
             [
              0.3333333333333333,
              "#9c179e"
             ],
             [
              0.4444444444444444,
              "#bd3786"
             ],
             [
              0.5555555555555556,
              "#d8576b"
             ],
             [
              0.6666666666666666,
              "#ed7953"
             ],
             [
              0.7777777777777778,
              "#fb9f3a"
             ],
             [
              0.8888888888888888,
              "#fdca26"
             ],
             [
              1,
              "#f0f921"
             ]
            ],
            "type": "histogram2d"
           }
          ],
          "histogram2dcontour": [
           {
            "colorbar": {
             "outlinewidth": 0,
             "ticks": ""
            },
            "colorscale": [
             [
              0,
              "#0d0887"
             ],
             [
              0.1111111111111111,
              "#46039f"
             ],
             [
              0.2222222222222222,
              "#7201a8"
             ],
             [
              0.3333333333333333,
              "#9c179e"
             ],
             [
              0.4444444444444444,
              "#bd3786"
             ],
             [
              0.5555555555555556,
              "#d8576b"
             ],
             [
              0.6666666666666666,
              "#ed7953"
             ],
             [
              0.7777777777777778,
              "#fb9f3a"
             ],
             [
              0.8888888888888888,
              "#fdca26"
             ],
             [
              1,
              "#f0f921"
             ]
            ],
            "type": "histogram2dcontour"
           }
          ],
          "mesh3d": [
           {
            "colorbar": {
             "outlinewidth": 0,
             "ticks": ""
            },
            "type": "mesh3d"
           }
          ],
          "parcoords": [
           {
            "line": {
             "colorbar": {
              "outlinewidth": 0,
              "ticks": ""
             }
            },
            "type": "parcoords"
           }
          ],
          "pie": [
           {
            "automargin": true,
            "type": "pie"
           }
          ],
          "scatter": [
           {
            "fillpattern": {
             "fillmode": "overlay",
             "size": 10,
             "solidity": 0.2
            },
            "type": "scatter"
           }
          ],
          "scatter3d": [
           {
            "line": {
             "colorbar": {
              "outlinewidth": 0,
              "ticks": ""
             }
            },
            "marker": {
             "colorbar": {
              "outlinewidth": 0,
              "ticks": ""
             }
            },
            "type": "scatter3d"
           }
          ],
          "scattercarpet": [
           {
            "marker": {
             "colorbar": {
              "outlinewidth": 0,
              "ticks": ""
             }
            },
            "type": "scattercarpet"
           }
          ],
          "scattergeo": [
           {
            "marker": {
             "colorbar": {
              "outlinewidth": 0,
              "ticks": ""
             }
            },
            "type": "scattergeo"
           }
          ],
          "scattergl": [
           {
            "marker": {
             "colorbar": {
              "outlinewidth": 0,
              "ticks": ""
             }
            },
            "type": "scattergl"
           }
          ],
          "scattermap": [
           {
            "marker": {
             "colorbar": {
              "outlinewidth": 0,
              "ticks": ""
             }
            },
            "type": "scattermap"
           }
          ],
          "scattermapbox": [
           {
            "marker": {
             "colorbar": {
              "outlinewidth": 0,
              "ticks": ""
             }
            },
            "type": "scattermapbox"
           }
          ],
          "scatterpolar": [
           {
            "marker": {
             "colorbar": {
              "outlinewidth": 0,
              "ticks": ""
             }
            },
            "type": "scatterpolar"
           }
          ],
          "scatterpolargl": [
           {
            "marker": {
             "colorbar": {
              "outlinewidth": 0,
              "ticks": ""
             }
            },
            "type": "scatterpolargl"
           }
          ],
          "scatterternary": [
           {
            "marker": {
             "colorbar": {
              "outlinewidth": 0,
              "ticks": ""
             }
            },
            "type": "scatterternary"
           }
          ],
          "surface": [
           {
            "colorbar": {
             "outlinewidth": 0,
             "ticks": ""
            },
            "colorscale": [
             [
              0,
              "#0d0887"
             ],
             [
              0.1111111111111111,
              "#46039f"
             ],
             [
              0.2222222222222222,
              "#7201a8"
             ],
             [
              0.3333333333333333,
              "#9c179e"
             ],
             [
              0.4444444444444444,
              "#bd3786"
             ],
             [
              0.5555555555555556,
              "#d8576b"
             ],
             [
              0.6666666666666666,
              "#ed7953"
             ],
             [
              0.7777777777777778,
              "#fb9f3a"
             ],
             [
              0.8888888888888888,
              "#fdca26"
             ],
             [
              1,
              "#f0f921"
             ]
            ],
            "type": "surface"
           }
          ],
          "table": [
           {
            "cells": {
             "fill": {
              "color": "#EBF0F8"
             },
             "line": {
              "color": "white"
             }
            },
            "header": {
             "fill": {
              "color": "#C8D4E3"
             },
             "line": {
              "color": "white"
             }
            },
            "type": "table"
           }
          ]
         },
         "layout": {
          "annotationdefaults": {
           "arrowcolor": "#2a3f5f",
           "arrowhead": 0,
           "arrowwidth": 1
          },
          "autotypenumbers": "strict",
          "coloraxis": {
           "colorbar": {
            "outlinewidth": 0,
            "ticks": ""
           }
          },
          "colorscale": {
           "diverging": [
            [
             0,
             "#8e0152"
            ],
            [
             0.1,
             "#c51b7d"
            ],
            [
             0.2,
             "#de77ae"
            ],
            [
             0.3,
             "#f1b6da"
            ],
            [
             0.4,
             "#fde0ef"
            ],
            [
             0.5,
             "#f7f7f7"
            ],
            [
             0.6,
             "#e6f5d0"
            ],
            [
             0.7,
             "#b8e186"
            ],
            [
             0.8,
             "#7fbc41"
            ],
            [
             0.9,
             "#4d9221"
            ],
            [
             1,
             "#276419"
            ]
           ],
           "sequential": [
            [
             0,
             "#0d0887"
            ],
            [
             0.1111111111111111,
             "#46039f"
            ],
            [
             0.2222222222222222,
             "#7201a8"
            ],
            [
             0.3333333333333333,
             "#9c179e"
            ],
            [
             0.4444444444444444,
             "#bd3786"
            ],
            [
             0.5555555555555556,
             "#d8576b"
            ],
            [
             0.6666666666666666,
             "#ed7953"
            ],
            [
             0.7777777777777778,
             "#fb9f3a"
            ],
            [
             0.8888888888888888,
             "#fdca26"
            ],
            [
             1,
             "#f0f921"
            ]
           ],
           "sequentialminus": [
            [
             0,
             "#0d0887"
            ],
            [
             0.1111111111111111,
             "#46039f"
            ],
            [
             0.2222222222222222,
             "#7201a8"
            ],
            [
             0.3333333333333333,
             "#9c179e"
            ],
            [
             0.4444444444444444,
             "#bd3786"
            ],
            [
             0.5555555555555556,
             "#d8576b"
            ],
            [
             0.6666666666666666,
             "#ed7953"
            ],
            [
             0.7777777777777778,
             "#fb9f3a"
            ],
            [
             0.8888888888888888,
             "#fdca26"
            ],
            [
             1,
             "#f0f921"
            ]
           ]
          },
          "colorway": [
           "#636efa",
           "#EF553B",
           "#00cc96",
           "#ab63fa",
           "#FFA15A",
           "#19d3f3",
           "#FF6692",
           "#B6E880",
           "#FF97FF",
           "#FECB52"
          ],
          "font": {
           "color": "#2a3f5f"
          },
          "geo": {
           "bgcolor": "white",
           "lakecolor": "white",
           "landcolor": "#E5ECF6",
           "showlakes": true,
           "showland": true,
           "subunitcolor": "white"
          },
          "hoverlabel": {
           "align": "left"
          },
          "hovermode": "closest",
          "mapbox": {
           "style": "light"
          },
          "paper_bgcolor": "white",
          "plot_bgcolor": "#E5ECF6",
          "polar": {
           "angularaxis": {
            "gridcolor": "white",
            "linecolor": "white",
            "ticks": ""
           },
           "bgcolor": "#E5ECF6",
           "radialaxis": {
            "gridcolor": "white",
            "linecolor": "white",
            "ticks": ""
           }
          },
          "scene": {
           "xaxis": {
            "backgroundcolor": "#E5ECF6",
            "gridcolor": "white",
            "gridwidth": 2,
            "linecolor": "white",
            "showbackground": true,
            "ticks": "",
            "zerolinecolor": "white"
           },
           "yaxis": {
            "backgroundcolor": "#E5ECF6",
            "gridcolor": "white",
            "gridwidth": 2,
            "linecolor": "white",
            "showbackground": true,
            "ticks": "",
            "zerolinecolor": "white"
           },
           "zaxis": {
            "backgroundcolor": "#E5ECF6",
            "gridcolor": "white",
            "gridwidth": 2,
            "linecolor": "white",
            "showbackground": true,
            "ticks": "",
            "zerolinecolor": "white"
           }
          },
          "shapedefaults": {
           "line": {
            "color": "#2a3f5f"
           }
          },
          "ternary": {
           "aaxis": {
            "gridcolor": "white",
            "linecolor": "white",
            "ticks": ""
           },
           "baxis": {
            "gridcolor": "white",
            "linecolor": "white",
            "ticks": ""
           },
           "bgcolor": "#E5ECF6",
           "caxis": {
            "gridcolor": "white",
            "linecolor": "white",
            "ticks": ""
           }
          },
          "title": {
           "x": 0.05
          },
          "xaxis": {
           "automargin": true,
           "gridcolor": "white",
           "linecolor": "white",
           "ticks": "",
           "title": {
            "standoff": 15
           },
           "zerolinecolor": "white",
           "zerolinewidth": 2
          },
          "yaxis": {
           "automargin": true,
           "gridcolor": "white",
           "linecolor": "white",
           "ticks": "",
           "title": {
            "standoff": 15
           },
           "zerolinecolor": "white",
           "zerolinewidth": 2
          }
         }
        },
        "title": {
         "text": "Cosine Similarity Among Taylor Swift and Bob Dylan Lyrics"
        },
        "width": 750,
        "xaxis": {
         "anchor": "y",
         "constrain": "domain",
         "domain": [
          0,
          1
         ],
         "scaleanchor": "y",
         "tickangle": 45
        },
        "yaxis": {
         "anchor": "x",
         "autorange": "reversed",
         "constrain": "domain",
         "domain": [
          0,
          1
         ]
        }
       }
      }
     },
     "metadata": {},
     "output_type": "display_data"
    }
   ],
   "source": [
    "fig = px.imshow(\n",
    "    fl_sim_matrix,\n",
    "    x=both_titles,\n",
    "    y=both_titles,\n",
    "    color_continuous_scale=\"Viridis\",\n",
    "    text_auto=\".2f\"\n",
    ")\n",
    "\n",
    "fig.update_layout(\n",
    "    title=f\"Cosine Similarity Among {a_artist} and {b_artist} Lyrics\",\n",
    "    width=750,\n",
    "    height=750,\n",
    "    xaxis=dict(tickangle=45)\n",
    ")\n",
    "fig.show()"
   ]
  },
  {
   "cell_type": "markdown",
   "id": "5575f379",
   "metadata": {},
   "source": [
    "**Dimensionality Reduction**"
   ]
  },
  {
   "cell_type": "markdown",
   "id": "e185340d",
   "metadata": {},
   "source": [
    "We can also visualize embeddings by looking at them in a lower dimension. We will use a machine learning technique called *dimensionality reduction*. You don't need to know how it's done, and don't worry about the code, we'll use it only for visualization purposes.\n",
    "\n",
    "(If you attend the topic modeling workshop, you may learn about it more in depth)."
   ]
  },
  {
   "cell_type": "code",
   "execution_count": 27,
   "id": "7e3cb27d",
   "metadata": {},
   "outputs": [],
   "source": [
    "dimred_model = UMAP(\n",
    "    n_neighbors=3,  # umap hyper-parameter\n",
    "    n_components=2, # dimension we are reducing to\n",
    "    metric='cosine'\n",
    ")\n",
    "\n",
    "two_d_rep = dimred_model.fit_transform(embeddings)"
   ]
  },
  {
   "cell_type": "code",
   "execution_count": 28,
   "id": "aa96d85f",
   "metadata": {},
   "outputs": [
    {
     "data": {
      "application/vnd.plotly.v1+json": {
       "config": {
        "plotlyServerURL": "https://plot.ly"
       },
       "data": [
        {
         "hoverinfo": "text",
         "marker": {
          "size": 6
         },
         "mode": "markers",
         "text": [
          "cardigan",
          "exile",
          "Lover",
          "the 1",
          "Look What You Made Me Do",
          "betty",
          "august",
          "End Game",
          "You Need To Calm Down",
          "ME!",
          "Blank Space",
          "Ready for It?",
          "champagne problems",
          "willow",
          "my tears ricochet",
          "invisible string",
          "Cruel Summer",
          "the last great american dynasty",
          "Delicate",
          "Call It What You Want",
          "seven",
          "Style",
          "illicit affairs",
          "this is me trying",
          "Love Story",
          "evermore",
          "Gorgeous",
          "happiness",
          "peace",
          "mad woman",
          "mirrorball",
          "tolerate it",
          "The Man",
          "Don't Blame Me",
          "I Did Something Bad",
          "Dress",
          "no body, no crime",
          "ivy",
          "gold rush",
          "hoax",
          "Getaway Car",
          "All Too Well",
          "epiphany",
          "The Archer",
          "Mr. Perfectly Fine (Taylors Version) [From the Vault]",
          "Miss Americana & The Heartbreak Prince",
          "London Boy",
          "Bad Blood",
          "Cornelia Street",
          "Wildest Dreams",
          "​when the party’s over",
          "​bad guy",
          "​everything i wanted",
          "​idontwannabeyouanymore",
          "​bury a friend",
          "​i love you",
          "Your Power",
          "​wish you were gay",
          "No Time To Die",
          "Therefore I Am",
          "​​ocean eyes",
          "Happier Than Ever",
          "​my future",
          "​bellyache",
          "​you should see me in a crown",
          "​xanny",
          "​all the good girls go to hell",
          "​ilomilo",
          "COPYCAT",
          "​my strange addiction",
          "​listen before i go",
          "​watch",
          "​hostage",
          "​my boy",
          "Six Feet Under",
          "8",
          "​bitches broken hearts",
          "​​come out and play",
          "Bored",
          "NDA",
          "​​party favor",
          "6.18.18*",
          "​goodbye",
          "The End of the World",
          "Male Fantasy",
          "Lost Cause",
          "Oxytocin",
          "Billie Bossa Nova",
          "Getting Older",
          "Halley’s Comet",
          "WHEN I WAS OLDER",
          "I Didn’t Change My Number",
          "Not My Responsibility",
          "GOLDWING",
          "!!!!!!!",
          "OverHeated",
          "Everybody Dies",
          "​sHE’s brOKen",
          "Fingers Crossed",
          "​limbo*",
          "Let It Be",
          "Yesterday",
          "Come Together",
          "Hey Jude",
          "Here Comes the Sun",
          "Something",
          "A Day in the Life",
          "Blackbird",
          "I Am the Walrus",
          "Eleanor Rigby",
          "In My Life",
          "While My Guitar Gently Weeps",
          "Lucy in the Sky with Diamonds",
          "Across the Universe",
          "Strawberry Fields Forever",
          "With a Little Help from My Friends",
          "Michelle",
          "Help!",
          "I Want to Hold Your Hand",
          "Ob-La-Di, Ob-La-Da",
          "Yellow Submarine",
          "Norwegian Wood (This Bird Has Flown)",
          "Don’t Let Me Down",
          "When I’m Sixty-Four",
          "Rocky Raccoon",
          "Oh! Darling",
          "Back in the U.S.S.R.",
          "Happiness is a Warm Gun",
          "Golden Slumbers",
          "Penny Lane",
          "Helter Skelter",
          "All You Need Is Love",
          "Maxwell’s Silver Hammer",
          "She Loves You",
          "Revolution",
          "Space Oddity",
          "★ (Blackstar)",
          "Heroes",
          "Life on Mars?",
          "Starman",
          "Lazarus",
          "Changes",
          "The Man Who Sold the World",
          "Girl Loves Me",
          "Ashes to Ashes",
          "Moonage Daydream",
          "Ziggy Stardust",
          "Modern Love",
          "Five Years",
          "’Tis a Pity She Was a Whore",
          "I Can’t Give Everything Away",
          "Rock ‘n’ Roll Suicide",
          "Dollar Days",
          "Rebel Rebel",
          "Young Americans",
          "Station to Station",
          "Suffragette City",
          "Let’s Dance",
          "Oh! You Pretty Things",
          "Sue (Or in a Season of Crime)",
          "Soul Love",
          "China Girl",
          "Valentine’s Day",
          "Fame",
          "Sound and Vision",
          "Lady Stardust",
          "The Next Day",
          "Quicksand",
          "Diamond Dogs",
          "Queen Bitch",
          "I’m Afraid of Americans",
          "Golden Years",
          "Scary Monsters (and Super Creeps)",
          "Star",
          "Time",
          "Hang on to Yourself",
          "Sweet Thing",
          "It Ain’t Easy",
          "Cat People (Putting Out Fire)",
          "The Jean Genie",
          "Love Is Lost",
          "Where Are We Now?",
          "The Stars (Are Out Tonight)",
          "Andy Warhol",
          "The Bewlay Brothers",
          "We Didn’t Start the Fire",
          "Piano Man",
          "Vienna",
          "Uptown Girl",
          "The Longest Time",
          "She’s Always a Woman",
          "Movin’ Out (Anthony’s Song)",
          "Just the Way You Are",
          "Only the Good Die Young",
          "Scenes from an Italian Restaurant",
          "New York State of Mind",
          "My Life",
          "Honesty",
          "The Stranger",
          "Goodnight Saigon",
          "It’s Still Rock and Roll to Me",
          "Allentown",
          "Captain Jack",
          "And So it Goes",
          "Big Shot",
          "The Downeaster “Alexa”",
          "An Innocent Man",
          "Zanzibar",
          "You May Be Right",
          "The River of Dreams",
          "Lullabye (Goodnight, My Angel)",
          "Leningrad",
          "Miami 2017 (Seen the Lights Go Out on Broadway)",
          "Summer, Highland Falls",
          "Why Should I Worry",
          "She’s Got a Way",
          "Don’t Ask Me Why",
          "Pressure",
          "A Matter of Trust",
          "The Entertainer",
          "Tell Her About it",
          "Keeping the Faith",
          "The Ballad of Billy the Kid",
          "Say Goodbye to Hollywood",
          "Tomorrow Is Today",
          "James",
          "All for Leyna",
          "You’re My Home",
          "Laura",
          "Prelude / Angry Young Man",
          "Stiletto",
          "I Go to Extremes",
          "Everybody Loves You Now",
          "C’Etait Toi (You Were the One)",
          "Get It Right The First Time",
          "Shape of You",
          "Perfect",
          "Castle on the Hill",
          "Happier",
          "Supermarket Flowers",
          "Thinking Out Loud",
          "Galway Girl",
          "Dive",
          "Photograph",
          "Don’t",
          "The A Team",
          "South of the Border",
          "I See Fire",
          "Beautiful People",
          "Eraser",
          "Remember the Name",
          "Afterglow",
          "New Man",
          "How Would You Feel (Paean)",
          "Nancy Mulligan",
          "Tears In Heaven",
          "Cocaine",
          "Wonderful Tonight",
          "Change the World",
          "I Shot the Sheriff",
          "My Father’s Eyes",
          "Let It Rain",
          "Lay Down Sally",
          "Let It Grow",
          "Layla (unplugged)",
          "Old Love",
          "Promises",
          "Before You Accuse Me",
          "Little Wing",
          "Have You Ever Loved A Woman",
          "It’s in the Way That You Use It",
          "Circus",
          "Magnolia",
          "Crossroads",
          "Pretending",
          "The Core",
          "I Will Be There",
          "After Midnight",
          "Bad Love",
          "Next Time You See Her",
          "Tulsa Time",
          "Autumn Leaves",
          "Please Be with Me",
          "Goodnight Irene",
          "Motherless Children",
          "Key To The Highway",
          "River of Tears",
          "Holy Mother",
          "Forever Man",
          "Knockin’ On Heaven’s Door",
          "Sign Language",
          "If I Could Change The World",
          "Running on Faith (Unplugged version)",
          "Somebody’s Knockin’",
          "I’ll Be Alright",
          "Mainline Florida",
          "Can’t Find My Way Home",
          "May You Never",
          "Willie and the Hand Jive",
          "Blue Eyes Blue",
          "Double Trouble",
          "Train to Nowhere",
          "Running On Faith",
          "Hello Old Friend",
          "I’m Tore Down",
          "Born in the U.S.A.",
          "Born to Run",
          "Dancing in the Dark",
          "I’m on Fire",
          "Thunder Road",
          "Blinded by the Light",
          "The River",
          "Atlantic City",
          "Hungry Heart",
          "Jungleland",
          "Glory Days",
          "Badlands",
          "My Hometown",
          "Streets of Philadelphia",
          "Backstreets",
          "The Ghost of Tom Joad",
          "Secret Garden",
          "Tenth Avenue Freeze Out",
          "Racing in the Street",
          "Nebraska",
          "I’m Goin’ Down",
          "If I Was the Priest",
          "Growin’ Up",
          "Rosalita (Come Out Tonight)",
          "Darkness on the Edge of Town",
          "The Rising",
          "Spirit in the Night",
          "When You Need Me",
          "Western Stars",
          "State Trooper",
          "American Skin (41 Shots)",
          "Tougher Than the Rest",
          "Letter to You",
          "The Promised Land",
          "4th of July, Asbury Park (Sandy)",
          "Janey Needs a Shooter",
          "I’ll See You in My Dreams",
          "No Surrender",
          "Fire",
          "Downbound Train",
          "Riptide",
          "Georgia",
          "Mess Is Mine",
          "I’m with You",
          "Fire and the Flood",
          "Lay It on Me",
          "Saturday Sun",
          "Like Gold",
          "Call If You Need Me",
          "We’re Going Home",
          "From Afar",
          "Take Your Time",
          "Wasted Time",
          "Alone With Me",
          "Straight Into Your Arms",
          "Red Eye",
          "Crashing Into You",
          "First Time",
          "One of These Days",
          "Emmylou",
          "Missing Piece",
          "Bonnie & Clyde",
          "Little Boy",
          "Who Am I",
          "My Kind of Man",
          "Where We Start",
          "Great Summer",
          "Snaggletooth",
          "We All Die Trying to Get It Right",
          "Winds of Change",
          "Young and Beautiful",
          "Summertime Sadness",
          "Love",
          "Lust for Life",
          "Born to Die",
          "Video Games",
          "West Coast",
          "Norman fucking Rockwell",
          "High By The Beach",
          "​hope is a dangerous thing for a woman like me to have - but i have it",
          "Cherry",
          "Mariners Apartment Complex",
          "Venice Bitch",
          "Ultraviolence",
          "Carmen",
          "Off to the Races",
          "Blue Jeans",
          "National Anthem",
          "Doin’ Time",
          "Fuck it I love you",
          "Summer Bummer",
          "Ride Monologue",
          "Love song",
          "Brooklyn Baby",
          "Cinnamon Girl",
          "Ride",
          "The greatest",
          "Happiness is a butterfly",
          "Cola",
          "Get Free",
          "Summer of ’69",
          "Heaven",
          "(Everything I Do) I Do It for You",
          "Have You Ever Really Loved a Woman?",
          "Please Forgive Me",
          "Run to You",
          "When You Love Someone",
          "Sound the Bugle",
          "When You’re Gone",
          "Here I Am",
          "Please Stay",
          "All For Love",
          "Straight from the Heart",
          "Empty Spaces/What Shall We Do Now?",
          "Shine a Light",
          "I Finally Found Someone",
          "You Can’t Take Me",
          "When You Really Love A Woman",
          "It’s Only Love",
          "Cuts Like a Knife",
          "Christmas Time",
          "I Will Always Return (Finale)",
          "Somebody",
          "Diana",
          "I Will Always Return",
          "Nothing I’ve Ever Known",
          "The Only Thing That Looks Good on Me Is You",
          "Cloud Number Nine",
          "You Belong to Me",
          "Brothers Under the Sun",
          "Hallelujah",
          "You Want It Darker",
          "Suzanne",
          "Chelsea Hotel No. 2",
          "Famous Blue Raincoat",
          "Dance Me to the End of Love",
          "Everybody Knows",
          "Anthem",
          "So Long, Marianne",
          "The Future",
          "Treaty",
          "Nevermind",
          "Bird on the Wire",
          "A Thousand Kisses Deep (spoken word)",
          "The Partisan",
          "Avalanche",
          "The Stranger Song",
          "A Thousand Kisses Deep",
          "Hey, That’s No Way to Say Goodbye",
          "First We Take Manhattan",
          "I’m Your Man",
          "Leaving the Table",
          "One of Us Cannot Be Wrong",
          "Who by Fire",
          "Sisters of Mercy",
          "Take This Waltz",
          "Democracy",
          "On the Level",
          "If It Be Your Will",
          "Is This What You Wanted",
          "In My Secret Life",
          "Traveling Light",
          "Master Song",
          "It Seemed the Better Way",
          "Happens to the Heart",
          "If I Didn’t Have Your Love",
          "Steer Your Way",
          "Closing Time",
          "Last Year’s Man",
          "Thanks for the Dance",
          "The Goal",
          "Lover Lover Lover",
          "Joan of Arc",
          "Waiting for the Miracle",
          "Tower of Song",
          "Dress Rehearsal Rag",
          "Story of Isaac",
          "String Reprise/Treaty",
          "Moving On",
          "The Night of Santiago",
          "L-O-V-E",
          "Smile",
          "Unforgettable",
          "Daisy Bell (Bicycle Built for Two)",
          "Nature Boy",
          "The Christmas Song",
          "Mona Lisa",
          "Chestnuts Roasting on an Open Fire",
          "When I Fall In Love",
          "Orange Colored Sky",
          "(Get Your Kicks On) Route 66 [1946 Version]",
          "Stardust",
          "Too Young",
          "Straighten Up and Fly Right",
          "That’s All",
          "Let There Be Love",
          "On a Bicycle Built for Two",
          "Fascination",
          "The Very Thought of You",
          "Those Lazy, Hazy, Crazy Days of Summer",
          "Autumn Leaves",
          "O Tannenbaum",
          "Pretend",
          "(I Love You) For Sentimental Reasons",
          "Pick Yourself Up",
          "Ramblin’ Rose",
          "Love Me as Though There Were No Tomorrow",
          "Autumn Leaves (French version)",
          "Perfidia",
          "Lush Life",
          "Heathens",
          "Stressed Out",
          "Ride",
          "Chlorine",
          "Nico And The Niners",
          "Car Radio",
          "Heavydirtysoul",
          "Tear in My Heart",
          "My Blood",
          "Morph",
          "Neon Gravestones",
          "Holding On To You",
          "Levitate",
          "Kitchen Sink",
          "Migraine",
          "Message Man",
          "Jumpsuit",
          "Level of Concern",
          "Lane Boy",
          "We Don’t Believe What’s on TV",
          "Ode To Sleep",
          "The Judge",
          "Polarize",
          "Pet Cheetah",
          "Bandito",
          "Smithereens",
          "Guns for Hands",
          "Fairly Local",
          "Doubt",
          "The Hype",
          "Such A Simple Thing",
          "Jolene",
          "Let It Be Me",
          "Trouble",
          "Empty",
          "Hold You in My Arms",
          "You Are The Best Thing",
          "We’ll Make It Through",
          "It’s Always Been You",
          "Hey, No Pressure",
          "Shelter",
          "Burn",
          "Lesson Learned",
          "Hannah",
          "I Was Born to Love You",
          "Be Here Now",
          "Let’s Make It Last",
          "All The Wild Horses",
          "Without Words",
          "Strong Enough",
          "To the Sea",
          "Part of the Light",
          "Forever My Friend",
          "Paper Man",
          "In My Own Way",
          "I Still Care For You",
          "Sarah",
          "Supernova",
          "Homecoming",
          "Can I Stay",
          "Murder Most Foul",
          "Blowin’ in the Wind",
          "The Times They Are A-Changin’",
          "All Along the Watchtower",
          "Like a Rolling Stone",
          "Make You Feel My Love",
          "Hurricane",
          "Don’t Think Twice, It’s All Right",
          "Mr. Tambourine Man",
          "A Hard Rain’s A-Gonna Fall",
          "Subterranean Homesick Blues",
          "Desolation Row",
          "Tangled Up in Blue",
          "Masters of War",
          "Knockin’ on Heaven’s Door",
          "It’s Alright, Ma (I’m Only Bleeding)",
          "Girl from the North Country",
          "Tempest",
          "It’s All Over Now, Baby Blue",
          "Ballad of a Thin Man",
          "Take Me Home, Country Roads",
          "Annie’s Song",
          "Leaving on a Jet Plane",
          "Rocky Mountain High",
          "Home On The Range",
          "Thank God I’m a Country Boy",
          "Sunshine on My Shoulders",
          "My Sweet Lady",
          "Perhaps Love",
          "Follow Me",
          "I Guess He’d Rather Be in Colorado",
          "Calypso",
          "I’m Sorry",
          "Poems, Prayers, & Promises",
          "Today",
          "Back Home Again",
          "I’ve Been Working On The Railroad",
          "Casey’s Last Ride",
          "For Baby (For Bobbie)",
          "Grandma’s Feather Bed",
          "Rhymes & Reasons",
          "Homegrown Tomatoes",
          "Wild Montana Skies",
          "The Mountain Song",
          "This Old Guitar",
          "Prisoners",
          "Matthew",
          "The Ballad of Richard Nixon",
          "Windsong",
          "Looking For Space",
          "Fly Me to the Moon",
          "My Way",
          "That’s Life",
          "New York, New York",
          "The Girl From Ipanema (Garota De Ipanema)",
          "Somethin’ Stupid",
          "The Way You Look Tonight",
          "Come Fly with Me",
          "I’ve Got You Under My Skin",
          "Have Yourself a Merry Little Christmas",
          "My Funny Valentine",
          "It Was a Very Good Year",
          "Strangers in the Night",
          "Blue Moon",
          "Luck Be a Lady",
          "You Make Me Feel So Young",
          "Let It Snow! Let It Snow! Let It Snow!",
          "High Hopes",
          "It Had To Be You",
          "Autumn Leaves",
          "In the Wee Small Hours of the Morning",
          "The Best Is Yet to Come",
          "Quiet Nights of Quiet Stars (Corcovado)",
          "The Lady Is a Tramp",
          "L O V E",
          "I’m a Fool to Want You",
          "Witchcraft",
          "One for My Baby (And One More for the Road)",
          "Jingle Bells",
          "The Shadow Of Your Smile",
          "Bohemian Rhapsody",
          "Don’t Stop Me Now",
          "Love of My Life",
          "Killer Queen",
          "Another One Bites the Dust",
          "We Will Rock You",
          "Radio Ga Ga",
          "We Are the Champions",
          "The Show Must Go On",
          "Somebody to Love",
          "I Want to Break Free",
          "Fat Bottomed Girls",
          "Bicycle Race",
          "Crazy Little Thing Called Love",
          "Hammer to Fall",
          "Good Old-Fashioned Lover Boy",
          "You’re My Best Friend",
          "’39",
          "I Want It All",
          "Save Me",
          "Innuendo",
          "Death on Two Legs (Dedicated to...)",
          "I’m in Love with My Car",
          "A Kind of Magic",
          "Seven Seas of Rhye",
          "The March of the Black Queen",
          "One Vision",
          "Too Much Love Will Kill You",
          "The Prophet’s Song",
          "Flash’s Theme",
          "Your Song",
          "Rocket Man (I Think It’s Going to Be A Long, Long Time)",
          "Goodbye Yellow Brick Road",
          "Tiny Dancer",
          "Bennie And The Jets",
          "I’m Still Standing",
          "Can You Feel the Love Tonight (End Title)",
          "Don’t Let the Sun Go Down on Me",
          "Candle In The Wind",
          "Daniel",
          "Saturday Night’s Alright (For Fighting)",
          "Crocodile Rock",
          "I Guess That’s Why They Call It the Blues",
          "Candle in the Wind 1997",
          "Sacrifice",
          "Levon",
          "Border Song",
          "Mona Lisas and Mad Hatters",
          "Someone Saved My Life Tonight",
          "Honky Cat",
          "The One",
          "The Bitch is Back",
          "Sorry Seems to Be the Hardest Word",
          "Electricity (Billy Elliot)",
          "I Think I’m Going to Kill Myself",
          "Circle of Life",
          "Funeral for a Friend/Love Lies Bleeding",
          "Philadelphia Freedom",
          "All The Girls Love Alice",
          "Take Me to the Pilot",
          "Freedom! ’90",
          "Faith",
          "Father Figure",
          "One More Try",
          "As",
          "Fastlove",
          "I Want Your Sex (Pts. I & II)",
          "Jesus to a Child",
          "Kissing a Fool",
          "Praying For Time",
          "Cowboys and Angels",
          "They Won’t Go When I Go",
          "You Have Been Loved",
          "Amazing",
          "Last Christmas",
          "This Kind Of Love",
          "A Different Corner",
          "Heal the Pain",
          "Spinning the Wheel",
          "Outside",
          "Too Funky",
          "Monkey",
          "Older",
          "Going To A Town",
          "I Can’t Make You Love Me",
          "The First Time Ever I Saw Your Face",
          "Waiting For That Day/You Can’t Always Get What You Want",
          "Shoot the Dog",
          "Star People",
          "Tonight"
         ],
         "type": "scatter",
         "x": {
          "bdata": "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",
          "dtype": "f4"
         },
         "y": {
          "bdata": "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",
          "dtype": "f4"
         }
        }
       ],
       "layout": {
        "height": 750,
        "template": {
         "data": {
          "bar": [
           {
            "error_x": {
             "color": "#2a3f5f"
            },
            "error_y": {
             "color": "#2a3f5f"
            },
            "marker": {
             "line": {
              "color": "#E5ECF6",
              "width": 0.5
             },
             "pattern": {
              "fillmode": "overlay",
              "size": 10,
              "solidity": 0.2
             }
            },
            "type": "bar"
           }
          ],
          "barpolar": [
           {
            "marker": {
             "line": {
              "color": "#E5ECF6",
              "width": 0.5
             },
             "pattern": {
              "fillmode": "overlay",
              "size": 10,
              "solidity": 0.2
             }
            },
            "type": "barpolar"
           }
          ],
          "carpet": [
           {
            "aaxis": {
             "endlinecolor": "#2a3f5f",
             "gridcolor": "white",
             "linecolor": "white",
             "minorgridcolor": "white",
             "startlinecolor": "#2a3f5f"
            },
            "baxis": {
             "endlinecolor": "#2a3f5f",
             "gridcolor": "white",
             "linecolor": "white",
             "minorgridcolor": "white",
             "startlinecolor": "#2a3f5f"
            },
            "type": "carpet"
           }
          ],
          "choropleth": [
           {
            "colorbar": {
             "outlinewidth": 0,
             "ticks": ""
            },
            "type": "choropleth"
           }
          ],
          "contour": [
           {
            "colorbar": {
             "outlinewidth": 0,
             "ticks": ""
            },
            "colorscale": [
             [
              0,
              "#0d0887"
             ],
             [
              0.1111111111111111,
              "#46039f"
             ],
             [
              0.2222222222222222,
              "#7201a8"
             ],
             [
              0.3333333333333333,
              "#9c179e"
             ],
             [
              0.4444444444444444,
              "#bd3786"
             ],
             [
              0.5555555555555556,
              "#d8576b"
             ],
             [
              0.6666666666666666,
              "#ed7953"
             ],
             [
              0.7777777777777778,
              "#fb9f3a"
             ],
             [
              0.8888888888888888,
              "#fdca26"
             ],
             [
              1,
              "#f0f921"
             ]
            ],
            "type": "contour"
           }
          ],
          "contourcarpet": [
           {
            "colorbar": {
             "outlinewidth": 0,
             "ticks": ""
            },
            "type": "contourcarpet"
           }
          ],
          "heatmap": [
           {
            "colorbar": {
             "outlinewidth": 0,
             "ticks": ""
            },
            "colorscale": [
             [
              0,
              "#0d0887"
             ],
             [
              0.1111111111111111,
              "#46039f"
             ],
             [
              0.2222222222222222,
              "#7201a8"
             ],
             [
              0.3333333333333333,
              "#9c179e"
             ],
             [
              0.4444444444444444,
              "#bd3786"
             ],
             [
              0.5555555555555556,
              "#d8576b"
             ],
             [
              0.6666666666666666,
              "#ed7953"
             ],
             [
              0.7777777777777778,
              "#fb9f3a"
             ],
             [
              0.8888888888888888,
              "#fdca26"
             ],
             [
              1,
              "#f0f921"
             ]
            ],
            "type": "heatmap"
           }
          ],
          "histogram": [
           {
            "marker": {
             "pattern": {
              "fillmode": "overlay",
              "size": 10,
              "solidity": 0.2
             }
            },
            "type": "histogram"
           }
          ],
          "histogram2d": [
           {
            "colorbar": {
             "outlinewidth": 0,
             "ticks": ""
            },
            "colorscale": [
             [
              0,
              "#0d0887"
             ],
             [
              0.1111111111111111,
              "#46039f"
             ],
             [
              0.2222222222222222,
              "#7201a8"
             ],
             [
              0.3333333333333333,
              "#9c179e"
             ],
             [
              0.4444444444444444,
              "#bd3786"
             ],
             [
              0.5555555555555556,
              "#d8576b"
             ],
             [
              0.6666666666666666,
              "#ed7953"
             ],
             [
              0.7777777777777778,
              "#fb9f3a"
             ],
             [
              0.8888888888888888,
              "#fdca26"
             ],
             [
              1,
              "#f0f921"
             ]
            ],
            "type": "histogram2d"
           }
          ],
          "histogram2dcontour": [
           {
            "colorbar": {
             "outlinewidth": 0,
             "ticks": ""
            },
            "colorscale": [
             [
              0,
              "#0d0887"
             ],
             [
              0.1111111111111111,
              "#46039f"
             ],
             [
              0.2222222222222222,
              "#7201a8"
             ],
             [
              0.3333333333333333,
              "#9c179e"
             ],
             [
              0.4444444444444444,
              "#bd3786"
             ],
             [
              0.5555555555555556,
              "#d8576b"
             ],
             [
              0.6666666666666666,
              "#ed7953"
             ],
             [
              0.7777777777777778,
              "#fb9f3a"
             ],
             [
              0.8888888888888888,
              "#fdca26"
             ],
             [
              1,
              "#f0f921"
             ]
            ],
            "type": "histogram2dcontour"
           }
          ],
          "mesh3d": [
           {
            "colorbar": {
             "outlinewidth": 0,
             "ticks": ""
            },
            "type": "mesh3d"
           }
          ],
          "parcoords": [
           {
            "line": {
             "colorbar": {
              "outlinewidth": 0,
              "ticks": ""
             }
            },
            "type": "parcoords"
           }
          ],
          "pie": [
           {
            "automargin": true,
            "type": "pie"
           }
          ],
          "scatter": [
           {
            "fillpattern": {
             "fillmode": "overlay",
             "size": 10,
             "solidity": 0.2
            },
            "type": "scatter"
           }
          ],
          "scatter3d": [
           {
            "line": {
             "colorbar": {
              "outlinewidth": 0,
              "ticks": ""
             }
            },
            "marker": {
             "colorbar": {
              "outlinewidth": 0,
              "ticks": ""
             }
            },
            "type": "scatter3d"
           }
          ],
          "scattercarpet": [
           {
            "marker": {
             "colorbar": {
              "outlinewidth": 0,
              "ticks": ""
             }
            },
            "type": "scattercarpet"
           }
          ],
          "scattergeo": [
           {
            "marker": {
             "colorbar": {
              "outlinewidth": 0,
              "ticks": ""
             }
            },
            "type": "scattergeo"
           }
          ],
          "scattergl": [
           {
            "marker": {
             "colorbar": {
              "outlinewidth": 0,
              "ticks": ""
             }
            },
            "type": "scattergl"
           }
          ],
          "scattermap": [
           {
            "marker": {
             "colorbar": {
              "outlinewidth": 0,
              "ticks": ""
             }
            },
            "type": "scattermap"
           }
          ],
          "scattermapbox": [
           {
            "marker": {
             "colorbar": {
              "outlinewidth": 0,
              "ticks": ""
             }
            },
            "type": "scattermapbox"
           }
          ],
          "scatterpolar": [
           {
            "marker": {
             "colorbar": {
              "outlinewidth": 0,
              "ticks": ""
             }
            },
            "type": "scatterpolar"
           }
          ],
          "scatterpolargl": [
           {
            "marker": {
             "colorbar": {
              "outlinewidth": 0,
              "ticks": ""
             }
            },
            "type": "scatterpolargl"
           }
          ],
          "scatterternary": [
           {
            "marker": {
             "colorbar": {
              "outlinewidth": 0,
              "ticks": ""
             }
            },
            "type": "scatterternary"
           }
          ],
          "surface": [
           {
            "colorbar": {
             "outlinewidth": 0,
             "ticks": ""
            },
            "colorscale": [
             [
              0,
              "#0d0887"
             ],
             [
              0.1111111111111111,
              "#46039f"
             ],
             [
              0.2222222222222222,
              "#7201a8"
             ],
             [
              0.3333333333333333,
              "#9c179e"
             ],
             [
              0.4444444444444444,
              "#bd3786"
             ],
             [
              0.5555555555555556,
              "#d8576b"
             ],
             [
              0.6666666666666666,
              "#ed7953"
             ],
             [
              0.7777777777777778,
              "#fb9f3a"
             ],
             [
              0.8888888888888888,
              "#fdca26"
             ],
             [
              1,
              "#f0f921"
             ]
            ],
            "type": "surface"
           }
          ],
          "table": [
           {
            "cells": {
             "fill": {
              "color": "#EBF0F8"
             },
             "line": {
              "color": "white"
             }
            },
            "header": {
             "fill": {
              "color": "#C8D4E3"
             },
             "line": {
              "color": "white"
             }
            },
            "type": "table"
           }
          ]
         },
         "layout": {
          "annotationdefaults": {
           "arrowcolor": "#2a3f5f",
           "arrowhead": 0,
           "arrowwidth": 1
          },
          "autotypenumbers": "strict",
          "coloraxis": {
           "colorbar": {
            "outlinewidth": 0,
            "ticks": ""
           }
          },
          "colorscale": {
           "diverging": [
            [
             0,
             "#8e0152"
            ],
            [
             0.1,
             "#c51b7d"
            ],
            [
             0.2,
             "#de77ae"
            ],
            [
             0.3,
             "#f1b6da"
            ],
            [
             0.4,
             "#fde0ef"
            ],
            [
             0.5,
             "#f7f7f7"
            ],
            [
             0.6,
             "#e6f5d0"
            ],
            [
             0.7,
             "#b8e186"
            ],
            [
             0.8,
             "#7fbc41"
            ],
            [
             0.9,
             "#4d9221"
            ],
            [
             1,
             "#276419"
            ]
           ],
           "sequential": [
            [
             0,
             "#0d0887"
            ],
            [
             0.1111111111111111,
             "#46039f"
            ],
            [
             0.2222222222222222,
             "#7201a8"
            ],
            [
             0.3333333333333333,
             "#9c179e"
            ],
            [
             0.4444444444444444,
             "#bd3786"
            ],
            [
             0.5555555555555556,
             "#d8576b"
            ],
            [
             0.6666666666666666,
             "#ed7953"
            ],
            [
             0.7777777777777778,
             "#fb9f3a"
            ],
            [
             0.8888888888888888,
             "#fdca26"
            ],
            [
             1,
             "#f0f921"
            ]
           ],
           "sequentialminus": [
            [
             0,
             "#0d0887"
            ],
            [
             0.1111111111111111,
             "#46039f"
            ],
            [
             0.2222222222222222,
             "#7201a8"
            ],
            [
             0.3333333333333333,
             "#9c179e"
            ],
            [
             0.4444444444444444,
             "#bd3786"
            ],
            [
             0.5555555555555556,
             "#d8576b"
            ],
            [
             0.6666666666666666,
             "#ed7953"
            ],
            [
             0.7777777777777778,
             "#fb9f3a"
            ],
            [
             0.8888888888888888,
             "#fdca26"
            ],
            [
             1,
             "#f0f921"
            ]
           ]
          },
          "colorway": [
           "#636efa",
           "#EF553B",
           "#00cc96",
           "#ab63fa",
           "#FFA15A",
           "#19d3f3",
           "#FF6692",
           "#B6E880",
           "#FF97FF",
           "#FECB52"
          ],
          "font": {
           "color": "#2a3f5f"
          },
          "geo": {
           "bgcolor": "white",
           "lakecolor": "white",
           "landcolor": "#E5ECF6",
           "showlakes": true,
           "showland": true,
           "subunitcolor": "white"
          },
          "hoverlabel": {
           "align": "left"
          },
          "hovermode": "closest",
          "mapbox": {
           "style": "light"
          },
          "paper_bgcolor": "white",
          "plot_bgcolor": "#E5ECF6",
          "polar": {
           "angularaxis": {
            "gridcolor": "white",
            "linecolor": "white",
            "ticks": ""
           },
           "bgcolor": "#E5ECF6",
           "radialaxis": {
            "gridcolor": "white",
            "linecolor": "white",
            "ticks": ""
           }
          },
          "scene": {
           "xaxis": {
            "backgroundcolor": "#E5ECF6",
            "gridcolor": "white",
            "gridwidth": 2,
            "linecolor": "white",
            "showbackground": true,
            "ticks": "",
            "zerolinecolor": "white"
           },
           "yaxis": {
            "backgroundcolor": "#E5ECF6",
            "gridcolor": "white",
            "gridwidth": 2,
            "linecolor": "white",
            "showbackground": true,
            "ticks": "",
            "zerolinecolor": "white"
           },
           "zaxis": {
            "backgroundcolor": "#E5ECF6",
            "gridcolor": "white",
            "gridwidth": 2,
            "linecolor": "white",
            "showbackground": true,
            "ticks": "",
            "zerolinecolor": "white"
           }
          },
          "shapedefaults": {
           "line": {
            "color": "#2a3f5f"
           }
          },
          "ternary": {
           "aaxis": {
            "gridcolor": "white",
            "linecolor": "white",
            "ticks": ""
           },
           "baxis": {
            "gridcolor": "white",
            "linecolor": "white",
            "ticks": ""
           },
           "bgcolor": "#E5ECF6",
           "caxis": {
            "gridcolor": "white",
            "linecolor": "white",
            "ticks": ""
           }
          },
          "title": {
           "x": 0.05
          },
          "xaxis": {
           "automargin": true,
           "gridcolor": "white",
           "linecolor": "white",
           "ticks": "",
           "title": {
            "standoff": 15
           },
           "zerolinecolor": "white",
           "zerolinewidth": 2
          },
          "yaxis": {
           "automargin": true,
           "gridcolor": "white",
           "linecolor": "white",
           "ticks": "",
           "title": {
            "standoff": 15
           },
           "zerolinecolor": "white",
           "zerolinewidth": 2
          }
         }
        },
        "title": {
         "text": "Low dimensional view of embedded lyrics"
        },
        "width": 750
       }
      }
     },
     "metadata": {},
     "output_type": "display_data"
    }
   ],
   "source": [
    "fig_clustering = go.Figure()\n",
    "\n",
    "fig_clustering.add_trace(go.Scatter(\n",
    "    x=two_d_rep[:, 0],\n",
    "    y=two_d_rep[:,1],\n",
    "    mode='markers',\n",
    "    marker=dict(size=6),\n",
    "    text=lyrics['Title'],\n",
    "    hoverinfo='text'\n",
    "))\n",
    "\n",
    "fig_clustering.update_layout(\n",
    "    height=750, width=750,\n",
    "    title='Low dimensional view of embedded lyrics',\n",
    ")\n",
    "\n",
    "fig_clustering.show()"
   ]
  },
  {
   "cell_type": "code",
   "execution_count": 29,
   "id": "24fa77e1",
   "metadata": {},
   "outputs": [
    {
     "data": {
      "text/plain": [
       "array(['Taylor Swift', 'Billie Eilish', 'The Beatles', 'David Bowie',\n",
       "       'Billy Joel', 'Ed Sheeran', 'Eric Clapton', 'Bruce Springsteen',\n",
       "       'Vance Joy', 'Lana Del Rey', 'Bryan Adams', 'Leonard Cohen',\n",
       "       'Nat King Cole', 'twenty one pilots', 'Ray LaMontagne',\n",
       "       'Bob Dylan', 'John Denver', 'Frank Sinatra', 'Queen', 'Elton John',\n",
       "       'George Michael'], dtype=object)"
      ]
     },
     "execution_count": 29,
     "metadata": {},
     "output_type": "execute_result"
    }
   ],
   "source": [
    "# A reminder of the artists, which one would you like to see?\n",
    "lyrics['Artist'].unique()"
   ]
  },
  {
   "cell_type": "code",
   "execution_count": 30,
   "id": "b31e9548",
   "metadata": {},
   "outputs": [
    {
     "data": {
      "application/vnd.plotly.v1+json": {
       "config": {
        "plotlyServerURL": "https://plot.ly"
       },
       "data": [
        {
         "hoverinfo": "text",
         "marker": {
          "size": 6
         },
         "mode": "markers",
         "name": "All artists",
         "text": [
          "cardigan",
          "exile",
          "Lover",
          "the 1",
          "Look What You Made Me Do",
          "betty",
          "august",
          "End Game",
          "You Need To Calm Down",
          "ME!",
          "Blank Space",
          "Ready for It?",
          "champagne problems",
          "willow",
          "my tears ricochet",
          "invisible string",
          "Cruel Summer",
          "the last great american dynasty",
          "Delicate",
          "Call It What You Want",
          "seven",
          "Style",
          "illicit affairs",
          "this is me trying",
          "Love Story",
          "evermore",
          "Gorgeous",
          "happiness",
          "peace",
          "mad woman",
          "mirrorball",
          "tolerate it",
          "The Man",
          "Don't Blame Me",
          "I Did Something Bad",
          "Dress",
          "no body, no crime",
          "ivy",
          "gold rush",
          "hoax",
          "Getaway Car",
          "All Too Well",
          "epiphany",
          "The Archer",
          "Mr. Perfectly Fine (Taylors Version) [From the Vault]",
          "Miss Americana & The Heartbreak Prince",
          "London Boy",
          "Bad Blood",
          "Cornelia Street",
          "Wildest Dreams",
          "​when the party’s over",
          "​bad guy",
          "​everything i wanted",
          "​idontwannabeyouanymore",
          "​bury a friend",
          "​i love you",
          "Your Power",
          "​wish you were gay",
          "No Time To Die",
          "Therefore I Am",
          "​​ocean eyes",
          "Happier Than Ever",
          "​my future",
          "​bellyache",
          "​you should see me in a crown",
          "​xanny",
          "​all the good girls go to hell",
          "​ilomilo",
          "COPYCAT",
          "​my strange addiction",
          "​listen before i go",
          "​watch",
          "​hostage",
          "​my boy",
          "Six Feet Under",
          "8",
          "​bitches broken hearts",
          "​​come out and play",
          "Bored",
          "NDA",
          "​​party favor",
          "6.18.18*",
          "​goodbye",
          "The End of the World",
          "Male Fantasy",
          "Lost Cause",
          "Oxytocin",
          "Billie Bossa Nova",
          "Getting Older",
          "Halley’s Comet",
          "WHEN I WAS OLDER",
          "I Didn’t Change My Number",
          "Not My Responsibility",
          "GOLDWING",
          "!!!!!!!",
          "OverHeated",
          "Everybody Dies",
          "​sHE’s brOKen",
          "Fingers Crossed",
          "​limbo*",
          "Let It Be",
          "Yesterday",
          "Come Together",
          "Hey Jude",
          "Here Comes the Sun",
          "Something",
          "A Day in the Life",
          "Blackbird",
          "I Am the Walrus",
          "Eleanor Rigby",
          "In My Life",
          "While My Guitar Gently Weeps",
          "Lucy in the Sky with Diamonds",
          "Across the Universe",
          "Strawberry Fields Forever",
          "With a Little Help from My Friends",
          "Michelle",
          "Help!",
          "I Want to Hold Your Hand",
          "Ob-La-Di, Ob-La-Da",
          "Yellow Submarine",
          "Norwegian Wood (This Bird Has Flown)",
          "Don’t Let Me Down",
          "When I’m Sixty-Four",
          "Rocky Raccoon",
          "Oh! Darling",
          "Back in the U.S.S.R.",
          "Happiness is a Warm Gun",
          "Golden Slumbers",
          "Penny Lane",
          "Helter Skelter",
          "All You Need Is Love",
          "Maxwell’s Silver Hammer",
          "She Loves You",
          "Revolution",
          "Space Oddity",
          "★ (Blackstar)",
          "Heroes",
          "Life on Mars?",
          "Starman",
          "Lazarus",
          "Changes",
          "The Man Who Sold the World",
          "Girl Loves Me",
          "Ashes to Ashes",
          "Moonage Daydream",
          "Ziggy Stardust",
          "Modern Love",
          "Five Years",
          "’Tis a Pity She Was a Whore",
          "I Can’t Give Everything Away",
          "Rock ‘n’ Roll Suicide",
          "Dollar Days",
          "Rebel Rebel",
          "Young Americans",
          "Station to Station",
          "Suffragette City",
          "Let’s Dance",
          "Oh! You Pretty Things",
          "Sue (Or in a Season of Crime)",
          "Soul Love",
          "China Girl",
          "Valentine’s Day",
          "Fame",
          "Sound and Vision",
          "Lady Stardust",
          "The Next Day",
          "Quicksand",
          "Diamond Dogs",
          "Queen Bitch",
          "I’m Afraid of Americans",
          "Golden Years",
          "Scary Monsters (and Super Creeps)",
          "Star",
          "Time",
          "Hang on to Yourself",
          "Sweet Thing",
          "It Ain’t Easy",
          "Cat People (Putting Out Fire)",
          "The Jean Genie",
          "Love Is Lost",
          "Where Are We Now?",
          "The Stars (Are Out Tonight)",
          "Andy Warhol",
          "The Bewlay Brothers",
          "We Didn’t Start the Fire",
          "Piano Man",
          "Vienna",
          "Uptown Girl",
          "The Longest Time",
          "She’s Always a Woman",
          "Movin’ Out (Anthony’s Song)",
          "Just the Way You Are",
          "Only the Good Die Young",
          "Scenes from an Italian Restaurant",
          "New York State of Mind",
          "My Life",
          "Honesty",
          "The Stranger",
          "Goodnight Saigon",
          "It’s Still Rock and Roll to Me",
          "Allentown",
          "Captain Jack",
          "And So it Goes",
          "Big Shot",
          "The Downeaster “Alexa”",
          "An Innocent Man",
          "Zanzibar",
          "You May Be Right",
          "The River of Dreams",
          "Lullabye (Goodnight, My Angel)",
          "Leningrad",
          "Miami 2017 (Seen the Lights Go Out on Broadway)",
          "Summer, Highland Falls",
          "Why Should I Worry",
          "She’s Got a Way",
          "Don’t Ask Me Why",
          "Pressure",
          "A Matter of Trust",
          "The Entertainer",
          "Tell Her About it",
          "Keeping the Faith",
          "The Ballad of Billy the Kid",
          "Say Goodbye to Hollywood",
          "Tomorrow Is Today",
          "James",
          "All for Leyna",
          "You’re My Home",
          "Laura",
          "Prelude / Angry Young Man",
          "Stiletto",
          "I Go to Extremes",
          "Everybody Loves You Now",
          "C’Etait Toi (You Were the One)",
          "Get It Right The First Time",
          "Shape of You",
          "Perfect",
          "Castle on the Hill",
          "Happier",
          "Supermarket Flowers",
          "Thinking Out Loud",
          "Galway Girl",
          "Dive",
          "Photograph",
          "Don’t",
          "The A Team",
          "South of the Border",
          "I See Fire",
          "Beautiful People",
          "Eraser",
          "Remember the Name",
          "Afterglow",
          "New Man",
          "How Would You Feel (Paean)",
          "Nancy Mulligan",
          "Tears In Heaven",
          "Cocaine",
          "Wonderful Tonight",
          "Change the World",
          "I Shot the Sheriff",
          "My Father’s Eyes",
          "Let It Rain",
          "Lay Down Sally",
          "Let It Grow",
          "Layla (unplugged)",
          "Old Love",
          "Promises",
          "Before You Accuse Me",
          "Little Wing",
          "Have You Ever Loved A Woman",
          "It’s in the Way That You Use It",
          "Circus",
          "Magnolia",
          "Crossroads",
          "Pretending",
          "The Core",
          "I Will Be There",
          "After Midnight",
          "Bad Love",
          "Next Time You See Her",
          "Tulsa Time",
          "Autumn Leaves",
          "Please Be with Me",
          "Goodnight Irene",
          "Motherless Children",
          "Key To The Highway",
          "River of Tears",
          "Holy Mother",
          "Forever Man",
          "Knockin’ On Heaven’s Door",
          "Sign Language",
          "If I Could Change The World",
          "Running on Faith (Unplugged version)",
          "Somebody’s Knockin’",
          "I’ll Be Alright",
          "Mainline Florida",
          "Can’t Find My Way Home",
          "May You Never",
          "Willie and the Hand Jive",
          "Blue Eyes Blue",
          "Double Trouble",
          "Train to Nowhere",
          "Running On Faith",
          "Hello Old Friend",
          "I’m Tore Down",
          "Born in the U.S.A.",
          "Born to Run",
          "Dancing in the Dark",
          "I’m on Fire",
          "Thunder Road",
          "Blinded by the Light",
          "The River",
          "Atlantic City",
          "Hungry Heart",
          "Jungleland",
          "Glory Days",
          "Badlands",
          "My Hometown",
          "Streets of Philadelphia",
          "Backstreets",
          "The Ghost of Tom Joad",
          "Secret Garden",
          "Tenth Avenue Freeze Out",
          "Racing in the Street",
          "Nebraska",
          "I’m Goin’ Down",
          "If I Was the Priest",
          "Growin’ Up",
          "Rosalita (Come Out Tonight)",
          "Darkness on the Edge of Town",
          "The Rising",
          "Spirit in the Night",
          "When You Need Me",
          "Western Stars",
          "State Trooper",
          "American Skin (41 Shots)",
          "Tougher Than the Rest",
          "Letter to You",
          "The Promised Land",
          "4th of July, Asbury Park (Sandy)",
          "Janey Needs a Shooter",
          "I’ll See You in My Dreams",
          "No Surrender",
          "Fire",
          "Downbound Train",
          "Riptide",
          "Georgia",
          "Mess Is Mine",
          "I’m with You",
          "Fire and the Flood",
          "Lay It on Me",
          "Saturday Sun",
          "Like Gold",
          "Call If You Need Me",
          "We’re Going Home",
          "From Afar",
          "Take Your Time",
          "Wasted Time",
          "Alone With Me",
          "Straight Into Your Arms",
          "Red Eye",
          "Crashing Into You",
          "First Time",
          "One of These Days",
          "Emmylou",
          "Missing Piece",
          "Bonnie & Clyde",
          "Little Boy",
          "Who Am I",
          "My Kind of Man",
          "Where We Start",
          "Great Summer",
          "Snaggletooth",
          "We All Die Trying to Get It Right",
          "Winds of Change",
          "Young and Beautiful",
          "Summertime Sadness",
          "Love",
          "Lust for Life",
          "Born to Die",
          "Video Games",
          "West Coast",
          "Norman fucking Rockwell",
          "High By The Beach",
          "​hope is a dangerous thing for a woman like me to have - but i have it",
          "Cherry",
          "Mariners Apartment Complex",
          "Venice Bitch",
          "Ultraviolence",
          "Carmen",
          "Off to the Races",
          "Blue Jeans",
          "National Anthem",
          "Doin’ Time",
          "Fuck it I love you",
          "Summer Bummer",
          "Ride Monologue",
          "Love song",
          "Brooklyn Baby",
          "Cinnamon Girl",
          "Ride",
          "The greatest",
          "Happiness is a butterfly",
          "Cola",
          "Get Free",
          "Summer of ’69",
          "Heaven",
          "(Everything I Do) I Do It for You",
          "Have You Ever Really Loved a Woman?",
          "Please Forgive Me",
          "Run to You",
          "When You Love Someone",
          "Sound the Bugle",
          "When You’re Gone",
          "Here I Am",
          "Please Stay",
          "All For Love",
          "Straight from the Heart",
          "Empty Spaces/What Shall We Do Now?",
          "Shine a Light",
          "I Finally Found Someone",
          "You Can’t Take Me",
          "When You Really Love A Woman",
          "It’s Only Love",
          "Cuts Like a Knife",
          "Christmas Time",
          "I Will Always Return (Finale)",
          "Somebody",
          "Diana",
          "I Will Always Return",
          "Nothing I’ve Ever Known",
          "The Only Thing That Looks Good on Me Is You",
          "Cloud Number Nine",
          "You Belong to Me",
          "Brothers Under the Sun",
          "Hallelujah",
          "You Want It Darker",
          "Suzanne",
          "Chelsea Hotel No. 2",
          "Famous Blue Raincoat",
          "Dance Me to the End of Love",
          "Everybody Knows",
          "Anthem",
          "So Long, Marianne",
          "The Future",
          "Treaty",
          "Nevermind",
          "Bird on the Wire",
          "A Thousand Kisses Deep (spoken word)",
          "The Partisan",
          "Avalanche",
          "The Stranger Song",
          "A Thousand Kisses Deep",
          "Hey, That’s No Way to Say Goodbye",
          "First We Take Manhattan",
          "I’m Your Man",
          "Leaving the Table",
          "One of Us Cannot Be Wrong",
          "Who by Fire",
          "Sisters of Mercy",
          "Take This Waltz",
          "Democracy",
          "On the Level",
          "If It Be Your Will",
          "Is This What You Wanted",
          "In My Secret Life",
          "Traveling Light",
          "Master Song",
          "It Seemed the Better Way",
          "Happens to the Heart",
          "If I Didn’t Have Your Love",
          "Steer Your Way",
          "Closing Time",
          "Last Year’s Man",
          "Thanks for the Dance",
          "The Goal",
          "Lover Lover Lover",
          "Joan of Arc",
          "Waiting for the Miracle",
          "Tower of Song",
          "Dress Rehearsal Rag",
          "Story of Isaac",
          "String Reprise/Treaty",
          "Moving On",
          "The Night of Santiago",
          "L-O-V-E",
          "Smile",
          "Unforgettable",
          "Daisy Bell (Bicycle Built for Two)",
          "Nature Boy",
          "The Christmas Song",
          "Mona Lisa",
          "Chestnuts Roasting on an Open Fire",
          "When I Fall In Love",
          "Orange Colored Sky",
          "(Get Your Kicks On) Route 66 [1946 Version]",
          "Stardust",
          "Too Young",
          "Straighten Up and Fly Right",
          "That’s All",
          "Let There Be Love",
          "On a Bicycle Built for Two",
          "Fascination",
          "The Very Thought of You",
          "Those Lazy, Hazy, Crazy Days of Summer",
          "Autumn Leaves",
          "O Tannenbaum",
          "Pretend",
          "(I Love You) For Sentimental Reasons",
          "Pick Yourself Up",
          "Ramblin’ Rose",
          "Love Me as Though There Were No Tomorrow",
          "Autumn Leaves (French version)",
          "Perfidia",
          "Lush Life",
          "Heathens",
          "Stressed Out",
          "Ride",
          "Chlorine",
          "Nico And The Niners",
          "Car Radio",
          "Heavydirtysoul",
          "Tear in My Heart",
          "My Blood",
          "Morph",
          "Neon Gravestones",
          "Holding On To You",
          "Levitate",
          "Kitchen Sink",
          "Migraine",
          "Message Man",
          "Jumpsuit",
          "Level of Concern",
          "Lane Boy",
          "We Don’t Believe What’s on TV",
          "Ode To Sleep",
          "The Judge",
          "Polarize",
          "Pet Cheetah",
          "Bandito",
          "Smithereens",
          "Guns for Hands",
          "Fairly Local",
          "Doubt",
          "The Hype",
          "Such A Simple Thing",
          "Jolene",
          "Let It Be Me",
          "Trouble",
          "Empty",
          "Hold You in My Arms",
          "You Are The Best Thing",
          "We’ll Make It Through",
          "It’s Always Been You",
          "Hey, No Pressure",
          "Shelter",
          "Burn",
          "Lesson Learned",
          "Hannah",
          "I Was Born to Love You",
          "Be Here Now",
          "Let’s Make It Last",
          "All The Wild Horses",
          "Without Words",
          "Strong Enough",
          "To the Sea",
          "Part of the Light",
          "Forever My Friend",
          "Paper Man",
          "In My Own Way",
          "I Still Care For You",
          "Sarah",
          "Supernova",
          "Homecoming",
          "Can I Stay",
          "Murder Most Foul",
          "Blowin’ in the Wind",
          "The Times They Are A-Changin’",
          "All Along the Watchtower",
          "Like a Rolling Stone",
          "Make You Feel My Love",
          "Hurricane",
          "Don’t Think Twice, It’s All Right",
          "Mr. Tambourine Man",
          "A Hard Rain’s A-Gonna Fall",
          "Subterranean Homesick Blues",
          "Desolation Row",
          "Tangled Up in Blue",
          "Masters of War",
          "Knockin’ on Heaven’s Door",
          "It’s Alright, Ma (I’m Only Bleeding)",
          "Girl from the North Country",
          "Tempest",
          "It’s All Over Now, Baby Blue",
          "Ballad of a Thin Man",
          "Take Me Home, Country Roads",
          "Annie’s Song",
          "Leaving on a Jet Plane",
          "Rocky Mountain High",
          "Home On The Range",
          "Thank God I’m a Country Boy",
          "Sunshine on My Shoulders",
          "My Sweet Lady",
          "Perhaps Love",
          "Follow Me",
          "I Guess He’d Rather Be in Colorado",
          "Calypso",
          "I’m Sorry",
          "Poems, Prayers, & Promises",
          "Today",
          "Back Home Again",
          "I’ve Been Working On The Railroad",
          "Casey’s Last Ride",
          "For Baby (For Bobbie)",
          "Grandma’s Feather Bed",
          "Rhymes & Reasons",
          "Homegrown Tomatoes",
          "Wild Montana Skies",
          "The Mountain Song",
          "This Old Guitar",
          "Prisoners",
          "Matthew",
          "The Ballad of Richard Nixon",
          "Windsong",
          "Looking For Space",
          "Fly Me to the Moon",
          "My Way",
          "That’s Life",
          "New York, New York",
          "The Girl From Ipanema (Garota De Ipanema)",
          "Somethin’ Stupid",
          "The Way You Look Tonight",
          "Come Fly with Me",
          "I’ve Got You Under My Skin",
          "Have Yourself a Merry Little Christmas",
          "My Funny Valentine",
          "It Was a Very Good Year",
          "Strangers in the Night",
          "Blue Moon",
          "Luck Be a Lady",
          "You Make Me Feel So Young",
          "Let It Snow! Let It Snow! Let It Snow!",
          "High Hopes",
          "It Had To Be You",
          "Autumn Leaves",
          "In the Wee Small Hours of the Morning",
          "The Best Is Yet to Come",
          "Quiet Nights of Quiet Stars (Corcovado)",
          "The Lady Is a Tramp",
          "L O V E",
          "I’m a Fool to Want You",
          "Witchcraft",
          "One for My Baby (And One More for the Road)",
          "Jingle Bells",
          "The Shadow Of Your Smile",
          "Bohemian Rhapsody",
          "Don’t Stop Me Now",
          "Love of My Life",
          "Killer Queen",
          "Another One Bites the Dust",
          "We Will Rock You",
          "Radio Ga Ga",
          "We Are the Champions",
          "The Show Must Go On",
          "Somebody to Love",
          "I Want to Break Free",
          "Fat Bottomed Girls",
          "Bicycle Race",
          "Crazy Little Thing Called Love",
          "Hammer to Fall",
          "Good Old-Fashioned Lover Boy",
          "You’re My Best Friend",
          "’39",
          "I Want It All",
          "Save Me",
          "Innuendo",
          "Death on Two Legs (Dedicated to...)",
          "I’m in Love with My Car",
          "A Kind of Magic",
          "Seven Seas of Rhye",
          "The March of the Black Queen",
          "One Vision",
          "Too Much Love Will Kill You",
          "The Prophet’s Song",
          "Flash’s Theme",
          "Your Song",
          "Rocket Man (I Think It’s Going to Be A Long, Long Time)",
          "Goodbye Yellow Brick Road",
          "Tiny Dancer",
          "Bennie And The Jets",
          "I’m Still Standing",
          "Can You Feel the Love Tonight (End Title)",
          "Don’t Let the Sun Go Down on Me",
          "Candle In The Wind",
          "Daniel",
          "Saturday Night’s Alright (For Fighting)",
          "Crocodile Rock",
          "I Guess That’s Why They Call It the Blues",
          "Candle in the Wind 1997",
          "Sacrifice",
          "Levon",
          "Border Song",
          "Mona Lisas and Mad Hatters",
          "Someone Saved My Life Tonight",
          "Honky Cat",
          "The One",
          "The Bitch is Back",
          "Sorry Seems to Be the Hardest Word",
          "Electricity (Billy Elliot)",
          "I Think I’m Going to Kill Myself",
          "Circle of Life",
          "Funeral for a Friend/Love Lies Bleeding",
          "Philadelphia Freedom",
          "All The Girls Love Alice",
          "Take Me to the Pilot",
          "Freedom! ’90",
          "Faith",
          "Father Figure",
          "One More Try",
          "As",
          "Fastlove",
          "I Want Your Sex (Pts. I & II)",
          "Jesus to a Child",
          "Kissing a Fool",
          "Praying For Time",
          "Cowboys and Angels",
          "They Won’t Go When I Go",
          "You Have Been Loved",
          "Amazing",
          "Last Christmas",
          "This Kind Of Love",
          "A Different Corner",
          "Heal the Pain",
          "Spinning the Wheel",
          "Outside",
          "Too Funky",
          "Monkey",
          "Older",
          "Going To A Town",
          "I Can’t Make You Love Me",
          "The First Time Ever I Saw Your Face",
          "Waiting For That Day/You Can’t Always Get What You Want",
          "Shoot the Dog",
          "Star People",
          "Tonight"
         ],
         "type": "scatter",
         "x": {
          "bdata": "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",
          "dtype": "f4"
         },
         "y": {
          "bdata": "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",
          "dtype": "f4"
         }
        },
        {
         "hoverinfo": "text",
         "marker": {
          "color": "crimson",
          "size": 6
         },
         "mode": "markers",
         "name": "John Denver",
         "text": [
          "Take Me Home, Country Roads",
          "Annie’s Song",
          "Leaving on a Jet Plane",
          "Rocky Mountain High",
          "Home On The Range",
          "Thank God I’m a Country Boy",
          "Sunshine on My Shoulders",
          "My Sweet Lady",
          "Perhaps Love",
          "Follow Me",
          "I Guess He’d Rather Be in Colorado",
          "Calypso",
          "I’m Sorry",
          "Poems, Prayers, & Promises",
          "Today",
          "Back Home Again",
          "I’ve Been Working On The Railroad",
          "Casey’s Last Ride",
          "For Baby (For Bobbie)",
          "Grandma’s Feather Bed",
          "Rhymes & Reasons",
          "Homegrown Tomatoes",
          "Wild Montana Skies",
          "The Mountain Song",
          "This Old Guitar",
          "Prisoners",
          "Matthew",
          "The Ballad of Richard Nixon",
          "Windsong",
          "Looking For Space"
         ],
         "type": "scatter",
         "x": {
          "bdata": "tzobQTJGEkGP9zBBDXgEQePfBUGmZSJBBcsQQcZxBkEGRNRA/VYKQZeqBEF0bf9AvNZoQfDFNEFiTw1BsLsaQT9PLEH8ZCxBpCgQQR92LUFGXPNAojomQY6FAEFjRT9BJM7XQFzgGUGUBftA3M4qQd7x80BNOTNB",
          "dtype": "f4"
         },
         "y": {
          "bdata": "93+WQOGPBkCCIaZA0IDAQLwsvUBz76xAKr8eQExTIUDsWLdAtETTPxFBxkDoPfRAagjnQIDzI0B5skhANi6aQAY+nkAJQndAm/IfQJ+vRkBtLOlAqYW3QJEUw0Aop5dAXkOxQAQ+nECPJcBA/bwJQcvS6UCPcCpA",
          "dtype": "f4"
         }
        }
       ],
       "layout": {
        "height": 750,
        "template": {
         "data": {
          "bar": [
           {
            "error_x": {
             "color": "#2a3f5f"
            },
            "error_y": {
             "color": "#2a3f5f"
            },
            "marker": {
             "line": {
              "color": "#E5ECF6",
              "width": 0.5
             },
             "pattern": {
              "fillmode": "overlay",
              "size": 10,
              "solidity": 0.2
             }
            },
            "type": "bar"
           }
          ],
          "barpolar": [
           {
            "marker": {
             "line": {
              "color": "#E5ECF6",
              "width": 0.5
             },
             "pattern": {
              "fillmode": "overlay",
              "size": 10,
              "solidity": 0.2
             }
            },
            "type": "barpolar"
           }
          ],
          "carpet": [
           {
            "aaxis": {
             "endlinecolor": "#2a3f5f",
             "gridcolor": "white",
             "linecolor": "white",
             "minorgridcolor": "white",
             "startlinecolor": "#2a3f5f"
            },
            "baxis": {
             "endlinecolor": "#2a3f5f",
             "gridcolor": "white",
             "linecolor": "white",
             "minorgridcolor": "white",
             "startlinecolor": "#2a3f5f"
            },
            "type": "carpet"
           }
          ],
          "choropleth": [
           {
            "colorbar": {
             "outlinewidth": 0,
             "ticks": ""
            },
            "type": "choropleth"
           }
          ],
          "contour": [
           {
            "colorbar": {
             "outlinewidth": 0,
             "ticks": ""
            },
            "colorscale": [
             [
              0,
              "#0d0887"
             ],
             [
              0.1111111111111111,
              "#46039f"
             ],
             [
              0.2222222222222222,
              "#7201a8"
             ],
             [
              0.3333333333333333,
              "#9c179e"
             ],
             [
              0.4444444444444444,
              "#bd3786"
             ],
             [
              0.5555555555555556,
              "#d8576b"
             ],
             [
              0.6666666666666666,
              "#ed7953"
             ],
             [
              0.7777777777777778,
              "#fb9f3a"
             ],
             [
              0.8888888888888888,
              "#fdca26"
             ],
             [
              1,
              "#f0f921"
             ]
            ],
            "type": "contour"
           }
          ],
          "contourcarpet": [
           {
            "colorbar": {
             "outlinewidth": 0,
             "ticks": ""
            },
            "type": "contourcarpet"
           }
          ],
          "heatmap": [
           {
            "colorbar": {
             "outlinewidth": 0,
             "ticks": ""
            },
            "colorscale": [
             [
              0,
              "#0d0887"
             ],
             [
              0.1111111111111111,
              "#46039f"
             ],
             [
              0.2222222222222222,
              "#7201a8"
             ],
             [
              0.3333333333333333,
              "#9c179e"
             ],
             [
              0.4444444444444444,
              "#bd3786"
             ],
             [
              0.5555555555555556,
              "#d8576b"
             ],
             [
              0.6666666666666666,
              "#ed7953"
             ],
             [
              0.7777777777777778,
              "#fb9f3a"
             ],
             [
              0.8888888888888888,
              "#fdca26"
             ],
             [
              1,
              "#f0f921"
             ]
            ],
            "type": "heatmap"
           }
          ],
          "histogram": [
           {
            "marker": {
             "pattern": {
              "fillmode": "overlay",
              "size": 10,
              "solidity": 0.2
             }
            },
            "type": "histogram"
           }
          ],
          "histogram2d": [
           {
            "colorbar": {
             "outlinewidth": 0,
             "ticks": ""
            },
            "colorscale": [
             [
              0,
              "#0d0887"
             ],
             [
              0.1111111111111111,
              "#46039f"
             ],
             [
              0.2222222222222222,
              "#7201a8"
             ],
             [
              0.3333333333333333,
              "#9c179e"
             ],
             [
              0.4444444444444444,
              "#bd3786"
             ],
             [
              0.5555555555555556,
              "#d8576b"
             ],
             [
              0.6666666666666666,
              "#ed7953"
             ],
             [
              0.7777777777777778,
              "#fb9f3a"
             ],
             [
              0.8888888888888888,
              "#fdca26"
             ],
             [
              1,
              "#f0f921"
             ]
            ],
            "type": "histogram2d"
           }
          ],
          "histogram2dcontour": [
           {
            "colorbar": {
             "outlinewidth": 0,
             "ticks": ""
            },
            "colorscale": [
             [
              0,
              "#0d0887"
             ],
             [
              0.1111111111111111,
              "#46039f"
             ],
             [
              0.2222222222222222,
              "#7201a8"
             ],
             [
              0.3333333333333333,
              "#9c179e"
             ],
             [
              0.4444444444444444,
              "#bd3786"
             ],
             [
              0.5555555555555556,
              "#d8576b"
             ],
             [
              0.6666666666666666,
              "#ed7953"
             ],
             [
              0.7777777777777778,
              "#fb9f3a"
             ],
             [
              0.8888888888888888,
              "#fdca26"
             ],
             [
              1,
              "#f0f921"
             ]
            ],
            "type": "histogram2dcontour"
           }
          ],
          "mesh3d": [
           {
            "colorbar": {
             "outlinewidth": 0,
             "ticks": ""
            },
            "type": "mesh3d"
           }
          ],
          "parcoords": [
           {
            "line": {
             "colorbar": {
              "outlinewidth": 0,
              "ticks": ""
             }
            },
            "type": "parcoords"
           }
          ],
          "pie": [
           {
            "automargin": true,
            "type": "pie"
           }
          ],
          "scatter": [
           {
            "fillpattern": {
             "fillmode": "overlay",
             "size": 10,
             "solidity": 0.2
            },
            "type": "scatter"
           }
          ],
          "scatter3d": [
           {
            "line": {
             "colorbar": {
              "outlinewidth": 0,
              "ticks": ""
             }
            },
            "marker": {
             "colorbar": {
              "outlinewidth": 0,
              "ticks": ""
             }
            },
            "type": "scatter3d"
           }
          ],
          "scattercarpet": [
           {
            "marker": {
             "colorbar": {
              "outlinewidth": 0,
              "ticks": ""
             }
            },
            "type": "scattercarpet"
           }
          ],
          "scattergeo": [
           {
            "marker": {
             "colorbar": {
              "outlinewidth": 0,
              "ticks": ""
             }
            },
            "type": "scattergeo"
           }
          ],
          "scattergl": [
           {
            "marker": {
             "colorbar": {
              "outlinewidth": 0,
              "ticks": ""
             }
            },
            "type": "scattergl"
           }
          ],
          "scattermap": [
           {
            "marker": {
             "colorbar": {
              "outlinewidth": 0,
              "ticks": ""
             }
            },
            "type": "scattermap"
           }
          ],
          "scattermapbox": [
           {
            "marker": {
             "colorbar": {
              "outlinewidth": 0,
              "ticks": ""
             }
            },
            "type": "scattermapbox"
           }
          ],
          "scatterpolar": [
           {
            "marker": {
             "colorbar": {
              "outlinewidth": 0,
              "ticks": ""
             }
            },
            "type": "scatterpolar"
           }
          ],
          "scatterpolargl": [
           {
            "marker": {
             "colorbar": {
              "outlinewidth": 0,
              "ticks": ""
             }
            },
            "type": "scatterpolargl"
           }
          ],
          "scatterternary": [
           {
            "marker": {
             "colorbar": {
              "outlinewidth": 0,
              "ticks": ""
             }
            },
            "type": "scatterternary"
           }
          ],
          "surface": [
           {
            "colorbar": {
             "outlinewidth": 0,
             "ticks": ""
            },
            "colorscale": [
             [
              0,
              "#0d0887"
             ],
             [
              0.1111111111111111,
              "#46039f"
             ],
             [
              0.2222222222222222,
              "#7201a8"
             ],
             [
              0.3333333333333333,
              "#9c179e"
             ],
             [
              0.4444444444444444,
              "#bd3786"
             ],
             [
              0.5555555555555556,
              "#d8576b"
             ],
             [
              0.6666666666666666,
              "#ed7953"
             ],
             [
              0.7777777777777778,
              "#fb9f3a"
             ],
             [
              0.8888888888888888,
              "#fdca26"
             ],
             [
              1,
              "#f0f921"
             ]
            ],
            "type": "surface"
           }
          ],
          "table": [
           {
            "cells": {
             "fill": {
              "color": "#EBF0F8"
             },
             "line": {
              "color": "white"
             }
            },
            "header": {
             "fill": {
              "color": "#C8D4E3"
             },
             "line": {
              "color": "white"
             }
            },
            "type": "table"
           }
          ]
         },
         "layout": {
          "annotationdefaults": {
           "arrowcolor": "#2a3f5f",
           "arrowhead": 0,
           "arrowwidth": 1
          },
          "autotypenumbers": "strict",
          "coloraxis": {
           "colorbar": {
            "outlinewidth": 0,
            "ticks": ""
           }
          },
          "colorscale": {
           "diverging": [
            [
             0,
             "#8e0152"
            ],
            [
             0.1,
             "#c51b7d"
            ],
            [
             0.2,
             "#de77ae"
            ],
            [
             0.3,
             "#f1b6da"
            ],
            [
             0.4,
             "#fde0ef"
            ],
            [
             0.5,
             "#f7f7f7"
            ],
            [
             0.6,
             "#e6f5d0"
            ],
            [
             0.7,
             "#b8e186"
            ],
            [
             0.8,
             "#7fbc41"
            ],
            [
             0.9,
             "#4d9221"
            ],
            [
             1,
             "#276419"
            ]
           ],
           "sequential": [
            [
             0,
             "#0d0887"
            ],
            [
             0.1111111111111111,
             "#46039f"
            ],
            [
             0.2222222222222222,
             "#7201a8"
            ],
            [
             0.3333333333333333,
             "#9c179e"
            ],
            [
             0.4444444444444444,
             "#bd3786"
            ],
            [
             0.5555555555555556,
             "#d8576b"
            ],
            [
             0.6666666666666666,
             "#ed7953"
            ],
            [
             0.7777777777777778,
             "#fb9f3a"
            ],
            [
             0.8888888888888888,
             "#fdca26"
            ],
            [
             1,
             "#f0f921"
            ]
           ],
           "sequentialminus": [
            [
             0,
             "#0d0887"
            ],
            [
             0.1111111111111111,
             "#46039f"
            ],
            [
             0.2222222222222222,
             "#7201a8"
            ],
            [
             0.3333333333333333,
             "#9c179e"
            ],
            [
             0.4444444444444444,
             "#bd3786"
            ],
            [
             0.5555555555555556,
             "#d8576b"
            ],
            [
             0.6666666666666666,
             "#ed7953"
            ],
            [
             0.7777777777777778,
             "#fb9f3a"
            ],
            [
             0.8888888888888888,
             "#fdca26"
            ],
            [
             1,
             "#f0f921"
            ]
           ]
          },
          "colorway": [
           "#636efa",
           "#EF553B",
           "#00cc96",
           "#ab63fa",
           "#FFA15A",
           "#19d3f3",
           "#FF6692",
           "#B6E880",
           "#FF97FF",
           "#FECB52"
          ],
          "font": {
           "color": "#2a3f5f"
          },
          "geo": {
           "bgcolor": "white",
           "lakecolor": "white",
           "landcolor": "#E5ECF6",
           "showlakes": true,
           "showland": true,
           "subunitcolor": "white"
          },
          "hoverlabel": {
           "align": "left"
          },
          "hovermode": "closest",
          "mapbox": {
           "style": "light"
          },
          "paper_bgcolor": "white",
          "plot_bgcolor": "#E5ECF6",
          "polar": {
           "angularaxis": {
            "gridcolor": "white",
            "linecolor": "white",
            "ticks": ""
           },
           "bgcolor": "#E5ECF6",
           "radialaxis": {
            "gridcolor": "white",
            "linecolor": "white",
            "ticks": ""
           }
          },
          "scene": {
           "xaxis": {
            "backgroundcolor": "#E5ECF6",
            "gridcolor": "white",
            "gridwidth": 2,
            "linecolor": "white",
            "showbackground": true,
            "ticks": "",
            "zerolinecolor": "white"
           },
           "yaxis": {
            "backgroundcolor": "#E5ECF6",
            "gridcolor": "white",
            "gridwidth": 2,
            "linecolor": "white",
            "showbackground": true,
            "ticks": "",
            "zerolinecolor": "white"
           },
           "zaxis": {
            "backgroundcolor": "#E5ECF6",
            "gridcolor": "white",
            "gridwidth": 2,
            "linecolor": "white",
            "showbackground": true,
            "ticks": "",
            "zerolinecolor": "white"
           }
          },
          "shapedefaults": {
           "line": {
            "color": "#2a3f5f"
           }
          },
          "ternary": {
           "aaxis": {
            "gridcolor": "white",
            "linecolor": "white",
            "ticks": ""
           },
           "baxis": {
            "gridcolor": "white",
            "linecolor": "white",
            "ticks": ""
           },
           "bgcolor": "#E5ECF6",
           "caxis": {
            "gridcolor": "white",
            "linecolor": "white",
            "ticks": ""
           }
          },
          "title": {
           "x": 0.05
          },
          "xaxis": {
           "automargin": true,
           "gridcolor": "white",
           "linecolor": "white",
           "ticks": "",
           "title": {
            "standoff": 15
           },
           "zerolinecolor": "white",
           "zerolinewidth": 2
          },
          "yaxis": {
           "automargin": true,
           "gridcolor": "white",
           "linecolor": "white",
           "ticks": "",
           "title": {
            "standoff": 15
           },
           "zerolinecolor": "white",
           "zerolinewidth": 2
          }
         }
        },
        "title": {
         "text": "Low dimensional view of embedded lyrics"
        },
        "width": 750
       }
      }
     },
     "metadata": {},
     "output_type": "display_data"
    }
   ],
   "source": [
    "# Let's highlight an artist's songs just for fun:\n",
    "artist_highlight = 'John Denver'\n",
    "artist_idxs = lyrics[lyrics['Artist']==artist_highlight].index.to_list()\n",
    "\n",
    "fig_clustering = go.Figure()\n",
    "\n",
    "fig_clustering.add_trace(go.Scatter(\n",
    "    x=two_d_rep[:, 0],\n",
    "    y=two_d_rep[:,1],\n",
    "    mode='markers',\n",
    "    marker=dict(size=6),\n",
    "    text=lyrics['Title'],\n",
    "    hoverinfo='text',\n",
    "    name = 'All artists'\n",
    "))\n",
    "\n",
    "fig_clustering.add_trace(go.Scatter(\n",
    "    x=two_d_rep[artist_idxs, 0],\n",
    "    y=two_d_rep[artist_idxs,1],\n",
    "    mode='markers',\n",
    "    marker=dict(size=6, color='crimson'),\n",
    "    text = lyrics['Title'].iloc[artist_idxs],\n",
    "    hoverinfo = 'text',\n",
    "    name = artist_highlight\n",
    "))\n",
    "\n",
    "fig_clustering.update_layout(\n",
    "    height=750, width=750,\n",
    "    title='Low dimensional view of embedded lyrics',\n",
    ")\n",
    "\n",
    "fig_clustering.show()"
   ]
  },
  {
   "cell_type": "markdown",
   "id": "d0a9ec79",
   "metadata": {},
   "source": [
    "### Create Index"
   ]
  },
  {
   "cell_type": "markdown",
   "id": "8f36a19f",
   "metadata": {},
   "source": [
    "OK, back to our main task. Now we have this collection of high-dimensional embeddings. It's time to create our index! As a reminder, an index is a data structure which efficiently allows us to find the most similar vectors in our collection to one reference point (usually, a user's query). See slides if you need a refresher."
   ]
  },
  {
   "cell_type": "markdown",
   "id": "20b130eb",
   "metadata": {},
   "source": [
    "Creating a fass index takes one line!"
   ]
  },
  {
   "cell_type": "code",
   "execution_count": 31,
   "id": "6ad13b65",
   "metadata": {},
   "outputs": [
    {
     "name": "stdout",
     "output_type": "stream",
     "text": [
      "True\n",
      "0\n"
     ]
    }
   ],
   "source": [
    "# We need the dimension of our embeddings\n",
    "d_emb = len(embeddings[0])\n",
    "\n",
    "# Create a faiss index\n",
    "faiss_index = faiss.IndexFlatIP(d_emb) # <-- creating the d-dimensional index (empty for now)\n",
    "print(faiss_index.is_trained)\n",
    "print(faiss_index.ntotal)"
   ]
  },
  {
   "cell_type": "markdown",
   "id": "4e5ffe09",
   "metadata": {},
   "source": [
    "We will talk about the meaning of `FaltIP` later. For now, just know that **only because our embeddings are normalized** this index works with the cosine similarity."
   ]
  },
  {
   "cell_type": "markdown",
   "id": "cce28e2e",
   "metadata": {},
   "source": [
    "### Add embeddings to index"
   ]
  },
  {
   "cell_type": "code",
   "execution_count": 32,
   "id": "2043ee05",
   "metadata": {},
   "outputs": [],
   "source": [
    "faiss_index.add(embeddings)"
   ]
  },
  {
   "cell_type": "code",
   "execution_count": 33,
   "id": "dd68b982",
   "metadata": {},
   "outputs": [
    {
     "name": "stdout",
     "output_type": "stream",
     "text": [
      "True\n",
      "745\n"
     ]
    }
   ],
   "source": [
    "print(faiss_index.is_trained)\n",
    "print(faiss_index.ntotal)"
   ]
  },
  {
   "cell_type": "markdown",
   "id": "f4141e39",
   "metadata": {},
   "source": [
    "### Search"
   ]
  },
  {
   "cell_type": "code",
   "execution_count": 34,
   "id": "40920151",
   "metadata": {},
   "outputs": [
    {
     "name": "stdout",
     "output_type": "stream",
     "text": [
      "Query embedding info:\n",
      "\n",
      "Type: <class 'numpy.ndarray'>\n",
      "Shape: (768,)\n"
     ]
    }
   ],
   "source": [
    "# Make a query and embed it, don't forget to normalize!\n",
    "query_1 = \"Life is good and I will survive. I am happy that things turned out this way\"\n",
    "qemb_1 = emb_model.encode(query_1, normalize_embeddings=True)\n",
    "\n",
    "# Let's remind ourselves how the embedding is returned:\n",
    "print(f\"Query embedding info:\\n\\nType: {type(qemb_1)}\\nShape: {qemb_1.shape}\")"
   ]
  },
  {
   "cell_type": "markdown",
   "id": "ed08177b",
   "metadata": {},
   "source": [
    "In theory, we can ask `faiss` to find the closest songs to it with just one line of code:"
   ]
  },
  {
   "cell_type": "markdown",
   "id": "6c9a6959",
   "metadata": {},
   "source": [
    "```python\n",
    "faiss_index.search(qemb_1, 1)\n",
    "```"
   ]
  },
  {
   "cell_type": "markdown",
   "id": "a3e3db20",
   "metadata": {},
   "source": [
    "However, the above will produce an error because `faiss` expects a (n,d) numpy array, but when we encode only one query we get a (d,) numpy array back. Therefore, we need to reshape!"
   ]
  },
  {
   "cell_type": "code",
   "execution_count": 35,
   "id": "771d9098",
   "metadata": {},
   "outputs": [
    {
     "name": "stdout",
     "output_type": "stream",
     "text": [
      "Query embedding info:\n",
      "\n",
      "Type: <class 'numpy.ndarray'>\n",
      "Shape: (1, 768)\n"
     ]
    }
   ],
   "source": [
    "qemb_1 = qemb_1.reshape((1, qemb_1.shape[0])) # reshape into (1,d)\n",
    "\n",
    "print(f\"Query embedding info:\\n\\nType: {type(qemb_1)}\\nShape: {qemb_1.shape}\")"
   ]
  },
  {
   "cell_type": "markdown",
   "id": "74cb6bee",
   "metadata": {},
   "source": [
    "Now we can search!"
   ]
  },
  {
   "cell_type": "code",
   "execution_count": 36,
   "id": "2100ec60",
   "metadata": {},
   "outputs": [
    {
     "data": {
      "text/plain": [
       "(array([[0.42986214]], dtype=float32), array([[294]]))"
      ]
     },
     "execution_count": 36,
     "metadata": {},
     "output_type": "execute_result"
    }
   ],
   "source": [
    "faiss_index.search(qemb_1, 1) # the 1 indicates how many close neighbors to find."
   ]
  },
  {
   "cell_type": "markdown",
   "id": "c087539f",
   "metadata": {},
   "source": [
    "The first element [[.43]] is the cosine similarity between the first song and its closest neighbor. The second element [[294]] is the index (song number) of such neighbor."
   ]
  },
  {
   "cell_type": "code",
   "execution_count": 37,
   "id": "c2fc1e3f",
   "metadata": {},
   "outputs": [
    {
     "name": "stdout",
     "output_type": "stream",
     "text": [
      "The cosine similarity to the closest neighbor is: 0.43\n",
      "\n",
      "And the neighbor is:\n",
      "Artist                                         Eric Clapton\n",
      "Title                                       I’ll Be Alright\n",
      "Lyrics    I'll be alright\\nI'll be alright\\nI'll be alri...\n",
      "Name: 294, dtype: object\n"
     ]
    }
   ],
   "source": [
    "neighbor_sim, neighbor_idx = faiss_index.search(qemb_1, 1)\n",
    "\n",
    "print(f\"The cosine similarity to the closest neighbor is: {neighbor_sim[0,0]:.2f}\\n\")\n",
    "print(f\"And the neighbor is:\\n{lyrics.iloc[294]}\")"
   ]
  },
  {
   "cell_type": "markdown",
   "id": "e3bc9c43",
   "metadata": {},
   "source": [
    "If we wanted to find the k closest neighors:"
   ]
  },
  {
   "cell_type": "code",
   "execution_count": 38,
   "id": "b5cae602",
   "metadata": {},
   "outputs": [
    {
     "data": {
      "text/plain": [
       "(array([[0.42986214, 0.41438007, 0.3375955 ]], dtype=float32),\n",
       " array([[294, 608, 566]]))"
      ]
     },
     "execution_count": 38,
     "metadata": {},
     "output_type": "execute_result"
    }
   ],
   "source": [
    "k = 3\n",
    "faiss_index.search(qemb_1, k)"
   ]
  },
  {
   "cell_type": "markdown",
   "id": "ca178193",
   "metadata": {},
   "source": [
    "### Searching multiple queries"
   ]
  },
  {
   "cell_type": "markdown",
   "id": "8a8b21d0",
   "metadata": {},
   "source": [
    "You can search for multiple queries at the same time, however, some `faiss` versions are buggy when that happens. To avoid any complications, we'll just have to search individually for each query."
   ]
  },
  {
   "cell_type": "code",
   "execution_count": 39,
   "id": "1a86d9d1",
   "metadata": {},
   "outputs": [],
   "source": [
    "# Let's make a helper function that automatically normalized and reshapes embeddings for us:\n",
    "def embed_reshape(query):\n",
    "    qemb = emb_model.encode(query, normalize_embeddings=True)\n",
    "    qemb = qemb.reshape((1, qemb.shape[0]))\n",
    "    return qemb"
   ]
  },
  {
   "cell_type": "code",
   "execution_count": 40,
   "id": "6825088b",
   "metadata": {},
   "outputs": [],
   "source": [
    "query_1 = \"Life is good and I will survive. I am happy that things turned out this way\"\n",
    "query_2 = \"Why did you leave me? I am so sad. The world is so cruel.\"\n",
    "queries = [query_1, query_2]"
   ]
  },
  {
   "cell_type": "code",
   "execution_count": 41,
   "id": "208de1d7",
   "metadata": {},
   "outputs": [],
   "source": [
    "# Embed the queries, remember to normalize\n",
    "qembs = [embed_reshape(q) for q in queries]"
   ]
  },
  {
   "cell_type": "markdown",
   "id": "9ba313d4",
   "metadata": {},
   "source": [
    "Let's find the 4 closest songs to each query."
   ]
  },
  {
   "cell_type": "code",
   "execution_count": 46,
   "id": "0201bfe5",
   "metadata": {},
   "outputs": [],
   "source": [
    "k = 4\n",
    "D_matched = []\n",
    "I_matched = []\n",
    "for qe in qembs:\n",
    "    dists_q_matched, idxs_q_matched = faiss_index.search(qe, k)\n",
    "    D_matched.append(dists_q_matched)\n",
    "    I_matched.append(idxs_q_matched)\n",
    "# distances_q_matched, indices_q_matched = faiss_index.search(qembs, k)"
   ]
  },
  {
   "cell_type": "code",
   "execution_count": 48,
   "id": "5d3b4bf2",
   "metadata": {},
   "outputs": [
    {
     "data": {
      "text/plain": [
       "[array([[0.42986214, 0.41438007, 0.3375955 , 0.33043662]], dtype=float32),\n",
       " array([[0.44099832, 0.43135837, 0.41771904, 0.41135132]], dtype=float32)]"
      ]
     },
     "execution_count": 48,
     "metadata": {},
     "output_type": "execute_result"
    }
   ],
   "source": [
    "D_matched"
   ]
  },
  {
   "cell_type": "code",
   "execution_count": 57,
   "id": "ee49604b",
   "metadata": {},
   "outputs": [
    {
     "data": {
      "text/plain": [
       "array([294, 608, 566, 621])"
      ]
     },
     "execution_count": 57,
     "metadata": {},
     "output_type": "execute_result"
    }
   ],
   "source": [
    "I_matched[0][0]"
   ]
  },
  {
   "cell_type": "code",
   "execution_count": 62,
   "id": "3df30abe",
   "metadata": {},
   "outputs": [
    {
     "name": "stdout",
     "output_type": "stream",
     "text": [
      "Matched song to your query 'Life is good and I will survive. I am happy that things turned out this way':\n",
      "\n",
      "Artist: Eric Clapton\n",
      "Title: I’ll Be Alright\n",
      "Lyrics:I'll be alright\n",
      "I'll be alright\n",
      "I'll be alright someday\n",
      "If in my heart\n",
      "I do not give\n",
      "Then I'll be al\n",
      "\n",
      "Artist: John Denver\n",
      "Title: Poems, Prayers, & Promises\n",
      "Lyrics:I've been lately thinking\n",
      "About my life's time\n",
      "All the things I've done\n",
      "And how it's been\n",
      "And I can'\n",
      "\n",
      "Artist: Ray LaMontagne\n",
      "Title: Part of the Light\n",
      "Lyrics:Why so many people always runnin' 'round\n",
      "Looking for a happiness that can't be found?\n",
      "I don't know\n",
      "I\n",
      "\n",
      "Artist: John Denver\n",
      "Title: Matthew\n",
      "Lyrics:I had an Uncle name of Matthew\n",
      "He was his father's only boy\n",
      "Born just south of Colby, Kansas\n",
      "He was \n",
      "\n"
     ]
    }
   ],
   "source": [
    "# Let's look at matched songs for the first query:\n",
    "print(f\"Matched song to your query \\'{query_1}\\':\\n\")\n",
    "for i in I_matched[0][0]:\n",
    "    artist = lyrics['Artist'].iloc[i]\n",
    "    title = lyrics['Title'].iloc[i]\n",
    "    song_lyrics = lyrics['Lyrics'].iloc[i]\n",
    "    print(f\"Artist: {artist}\\nTitle: {title}\\nLyrics:{song_lyrics[:100]}\\n\")"
   ]
  },
  {
   "cell_type": "code",
   "execution_count": 66,
   "id": "fd1557c3",
   "metadata": {},
   "outputs": [
    {
     "name": "stdout",
     "output_type": "stream",
     "text": [
      "Matched song to your query 'Why did you leave me? I am so sad. The world is so cruel.':\n",
      "\n",
      "Artist: Billie Eilish\n",
      "Title: ​bitches broken hearts\n",
      "Lyrics:You can pretend you don't miss me (Me)\n",
      "You can pretend you don't care\n",
      "All you wanna do is kiss me (M\n",
      "\n",
      "Artist: Queen\n",
      "Title: Too Much Love Will Kill You\n",
      "Lyrics:I'm just the pieces\n",
      "Of the man I used to be\n",
      "Too many bitter tears\n",
      "Are raining down on me\n",
      "I'm far awa\n",
      "\n",
      "Artist: Billie Eilish\n",
      "Title: ​goodbye\n",
      "Lyrics:Please, please\n",
      "Don't leave﻿ me\n",
      "Be\n",
      "\n",
      "It's not true\n",
      "Take me to the rooftop\n",
      "Told you not to worry\n",
      "What d\n",
      "\n",
      "Artist: Queen\n",
      "Title: Love of My Life\n",
      "Lyrics:Love of my life, you've hurt me\n",
      "You've broken my heart\n",
      "And now you leave me\n",
      "\n",
      "Love of my life, can't \n",
      "\n"
     ]
    }
   ],
   "source": [
    "# Let's look at matched songs for the first query:\n",
    "print(f\"Matched song to your query \\'{query_2}\\':\\n\")\n",
    "for i in I_matched[1][0]:\n",
    "    artist = lyrics['Artist'].iloc[i]\n",
    "    title = lyrics['Title'].iloc[i]\n",
    "    song_lyrics = lyrics['Lyrics'].iloc[i]\n",
    "    print(f\"Artist: {artist}\\nTitle: {title}\\nLyrics:{song_lyrics[:100]}\\n\")"
   ]
  },
  {
   "cell_type": "markdown",
   "id": "f284eaee",
   "metadata": {},
   "source": [
    "### RECAP"
   ]
  },
  {
   "cell_type": "markdown",
   "id": "1d0a2ec7",
   "metadata": {},
   "source": [
    "OK, let's do a quick recap, now that we have developed an intuition, we can actually perform the above steps super quickly:"
   ]
  },
  {
   "cell_type": "code",
   "execution_count": 68,
   "id": "d711599e",
   "metadata": {},
   "outputs": [
    {
     "data": {
      "text/plain": [
       "(array([[0.42986214, 0.41438007]], dtype=float32), array([[294, 608]]))"
      ]
     },
     "execution_count": 68,
     "metadata": {},
     "output_type": "execute_result"
    }
   ],
   "source": [
    "# :: Load the data ::\n",
    "data_path = Path(\"data/songs.csv\")\n",
    "lyrics = pd.read_csv(data_path)\n",
    "\n",
    "# :: Create embeddings ::\n",
    "model_name = 'all-mpnet-base-v2' \n",
    "emb_model = SentenceTransformer(model_name)\n",
    "embeddings = emb_model.encode(lyrics['Lyrics'], normalize_embeddings=True)\n",
    "\n",
    "# :: Create index ::\n",
    "d_emb = len(embeddings[0])\n",
    "faiss_index = faiss.IndexFlatIP(d_emb)\n",
    "# Add embeddings to index\n",
    "faiss_index.add(embeddings)\n",
    "\n",
    "# :: Search ::\n",
    "# Make query and embed it\n",
    "query_1 = \"Life is good and I will survive. I am happy that things turned out this way\"\n",
    "qemb_1 = emb_model.encode(query_1, normalize_embeddings=True)\n",
    "# Reshape if necessary\n",
    "qemb_1 = qemb_1.reshape((1, qemb_1.shape[0]))\n",
    "# Search\n",
    "k = 2\n",
    "faiss_index.search(qemb_1, k)"
   ]
  },
  {
   "cell_type": "markdown",
   "id": "8ca0a092",
   "metadata": {},
   "source": [
    "And there you have it!! A full retrieval system in less than 20 lines :-)"
   ]
  },
  {
   "cell_type": "markdown",
   "id": "bc69b13b",
   "metadata": {},
   "source": [
    "### (Optional) A note about indexes"
   ]
  },
  {
   "cell_type": "markdown",
   "id": "c0729ade",
   "metadata": {},
   "source": [
    "**IndexFlatIP vs IndexFlatL2**\n",
    "\n",
    "IP stands for *inner product*, while L2 stands for *L2 norm* (euclidean distance). In general, these may produce different results, so you need to choose carefully. A simple heuristic is:\n",
    "- Text data: `cosine similarity`.\n",
    "- Image data: `euclidean distance`.\n",
    "\n",
    "But, you should still do some research on the model you are using, the data type, and what you care about (direction, magnitude, etc.). More details on the slides.\n",
    "\n",
    "**Cosine Similarity, Inner Product, Normalization**\n",
    "\n",
    "If and only if your vectors are *normalized*, the cosine similarity is the same as the inner product. In our case, since our embeddings are normalized, we can use `IndexFlatIP` and it will be equivalent to using the cosine similarity, which is what we want.\n",
    "\n",
    "**Flat vs Other Indexes**\n",
    "\n",
    "Our flat index is not the most computationally efficient. It doesn't quantize vectors (see slides) and all searches are brute force (that is, it will compare a query to all vectors in the index). For our toy dataset this is fine, but for larger datasets you should use other indices. Different libraries have implementations of different indices, for example `faiss` has the hierarchical navigable small world index `IndexHNSWFlat`, which is more search efficient, but returns approximate results.\n",
    "\n",
    "We can't go over all index types in this workshop, but here's a handy table for the ones `faiss` offers:\n",
    "https://github.com/facebookresearch/faiss/wiki/Faiss-indexes."
   ]
  },
  {
   "cell_type": "markdown",
   "id": "87071f72",
   "metadata": {},
   "source": [
    "### (Optional) Save index on disc"
   ]
  },
  {
   "cell_type": "markdown",
   "id": "0f497f75",
   "metadata": {},
   "source": [
    "In general you will create a large index, and store it on disk for further use. This could be purely for convenience (you don't need to create a new index every time you use your RAG system) but will be vital if your index is quite large and memory becomes a limitation."
   ]
  },
  {
   "cell_type": "code",
   "execution_count": null,
   "id": "2c1dbed6",
   "metadata": {},
   "outputs": [],
   "source": [
    "# Saving to a .index file\n",
    "index_directory = 'rag_workshop.index'\n",
    "faiss.write_index(faiss_index, index_directory)"
   ]
  },
  {
   "cell_type": "markdown",
   "id": "e22acdde",
   "metadata": {},
   "source": [
    "If you need to read it later on, you can use `faiss.read_index(index_directory, faiss.IO_FLAG_MMAP)`, the MMAP flag tells it not to load the full index into memory."
   ]
  },
  {
   "cell_type": "markdown",
   "id": "ae448314",
   "metadata": {},
   "source": [
    "## Section 2 -  Adding Generation"
   ]
  },
  {
   "cell_type": "markdown",
   "id": "b72ffb04",
   "metadata": {},
   "source": [
    "OK, we are done with the R of RAG. Time to get the A done!\n",
    "\n",
    "For this, we need a generation model and a library that helps us run such model.\n",
    "\n",
    "I recommend either using `transformers` or `ollama`"
   ]
  },
  {
   "cell_type": "code",
   "execution_count": null,
   "id": "d8c03ee5",
   "metadata": {},
   "outputs": [],
   "source": [
    "# The transformers way, you'll need to provide an access token though\n",
    "# generation_model = \"meta-llama/Llama-3.2-1B\" # you can also try \"google/gemma-2-2b\" for example\n",
    "# gen_ppln = pipeline(task=\"text-generation\", model=generation_model)"
   ]
  },
  {
   "cell_type": "code",
   "execution_count": 76,
   "id": "1c8ca557",
   "metadata": {},
   "outputs": [
    {
     "name": "stdout",
     "output_type": "stream",
     "text": [
      "The sky appears blue to us during the daytime because of a phenomenon called Rayleigh scattering. Here's what happens:\n",
      "\n",
      "1. **Sunlight enters Earth's atmosphere**: When sunlight enters our atmosphere, it consists of a spectrum of colors, including all the colors of the visible light spectrum.\n",
      "2. **Light interacts with tiny molecules**: The shorter (blue) wavelengths of light are scattered more than the longer (red) wavelengths by the tiny molecules of gases in the atmosphere, such as nitrogen and oxygen.\n",
      "3. **Scattered light is dispersed in all directions**: As a result of this scattering, the blue light is dispersed in all directions and reaches our eyes from all parts of the sky.\n",
      "4. **Our eyes perceive the blue color**: Because our eyes are most sensitive to blue light, we perceive the sky as blue.\n",
      "\n",
      "Now, why doesn't the sky appear pink? There are a few reasons:\n",
      "\n",
      "1. **Pink light has a longer wavelength**: Pink light has a longer wavelength than blue light, which means it is less scattered by the tiny molecules in the atmosphere.\n",
      "2. **Less scattering of pink light**: As a result, pink light travels through the atmosphere with much less scattering, so we don't see as much of it reaching our eyes from all parts of the sky.\n",
      "3. **Sunset and sunrise colors**: During sunset and sunrise, the sky can take on hues of orange, red, and pink due to the scattering of light by atmospheric particles and water droplets. However, this is not because the sky itself is pink; rather, it's the way that light interacts with these particles.\n",
      "\n",
      "In summary, the sky appears blue during the day because of Rayleigh scattering, which scatters shorter wavelengths (like blue) more than longer wavelengths (like red). The relatively less scattering of pink light means we don't see as much of it reaching our eyes from all parts of the sky.\n"
     ]
    }
   ],
   "source": [
    "generation_model = \"llama3.2\"\n",
    "\n",
    "# The ollama way:\n",
    "test_reponse = ollama.generate(\n",
    "    model=generation_model,\n",
    "    prompt=\"Why is the sky blue and not pink?\"\n",
    ")\n",
    "\n",
    "print(test_reponse.response)"
   ]
  },
  {
   "cell_type": "markdown",
   "id": "07579b45",
   "metadata": {},
   "source": [
    "### Creating a system prompt"
   ]
  },
  {
   "cell_type": "markdown",
   "id": "a9771ba9",
   "metadata": {},
   "source": []
  },
  {
   "cell_type": "markdown",
   "id": "6c47a4a9",
   "metadata": {},
   "source": [
    "### Connecting retrieval and generation"
   ]
  },
  {
   "cell_type": "markdown",
   "id": "12b1c119",
   "metadata": {},
   "source": []
  },
  {
   "cell_type": "markdown",
   "id": "48761f27",
   "metadata": {},
   "source": [
    "### Evaluation"
   ]
  },
  {
   "cell_type": "markdown",
   "id": "bc81bf73",
   "metadata": {},
   "source": []
  },
  {
   "cell_type": "markdown",
   "id": "6e1a61bf",
   "metadata": {},
   "source": [
    "### Structured Output (Optional)"
   ]
  },
  {
   "cell_type": "markdown",
   "id": "ed8c0e88",
   "metadata": {},
   "source": []
  },
  {
   "cell_type": "markdown",
   "id": "e04cfc1d",
   "metadata": {},
   "source": [
    "## Section 3 - Full Piepeline with transformers (or something else)"
   ]
  },
  {
   "cell_type": "markdown",
   "id": "bd6fd47f",
   "metadata": {},
   "source": []
  },
  {
   "cell_type": "markdown",
   "id": "df216c47",
   "metadata": {},
   "source": [
    "## (Optional Sections)"
   ]
  },
  {
   "cell_type": "markdown",
   "id": "039445db",
   "metadata": {},
   "source": [
    "**Tokenization**\n",
    "\n",
    "Tokenization is the process of transforming words into \"tokens\",  which are subdivisions of words and the actual units a model operates with. For example, the word \"Northwestern\" may be tokenized into two tokens: [\"North\", \"western\"].\n",
    "\n",
    "Usually, the embedding model (see below) will take care of tokenization for you. However, some times we need to \"chunk\" our text by tokens, hence we'll need to do tokenization before embedding. This can be done using HuggingFace's `AutoTokenizer`.\n",
    "\n",
    "**Chunking**\n",
    "\n",
    "Chunking is the process of splitting the text into smaller, manageable portions (chunks), which will be embedded and stored for retrieval. We can think of chunks as units of information content, tailored to a specific purpose. Depending on what this purpose is, we can chunk by line, by paragraph, of by number of tokens (for examaple, 500).\n",
    "\n",
    "There is a tradeoff in how you choose your chunks, small chunks may miss context, while larger chunks \n",
    "lose resolution.\n",
    "\n",
    "It is recommended that chunks have overlapping content so that context is preserved. For example, if we have chunks of 500 tokens each, we can overlap them so that the last 100 tokens of one chunk are the first 100 tokens of the next chunk."
   ]
  },
  {
   "cell_type": "markdown",
   "id": "ed70a94c",
   "metadata": {},
   "source": [
    "<span style = \"color:red\">ADD FIGURE HERE</span>"
   ]
  },
  {
   "cell_type": "markdown",
   "id": "c3ed53c6",
   "metadata": {},
   "source": [
    "#### Chunking (Optional)"
   ]
  },
  {
   "cell_type": "markdown",
   "id": "6ea48153",
   "metadata": {},
   "source": [
    "What should we chunk by?\n",
    "\n",
    "In our case, since we are dealing with lyrics, chunking by stanzas could work as a nice middle. Note that we could also chunk by line, or not chunk at all, and work with the lyrics as a whole.\n",
    "\n",
    "However ... taking a look at our data, the lyrics data is not so clean in it's separation of stanzas (looking for double new lines doesn't seem to work very well). Hence, we're going to have to do it by number of words."
   ]
  },
  {
   "cell_type": "markdown",
   "id": "ef42afb7",
   "metadata": {},
   "source": [
    "You can try to figure out how to do the chunking manually, or, you can use libraries like [SO AND SO]. Here's a manual chunking function in case you want to follow the logic more closely:"
   ]
  },
  {
   "cell_type": "code",
   "execution_count": null,
   "id": "625ae493",
   "metadata": {},
   "outputs": [],
   "source": [
    "# Let's create a chunking function\n",
    "def chunk_lyrics(song:str, chunk_size:int, overlap:int = 10) -> list:\n",
    "    words = song.split()\n",
    "    chunks = []\n",
    "    step = chunk_size - overlap\n",
    "    for start in range(0, len(words), step):\n",
    "        end = min(start + chunk_size, len(words))\n",
    "        chunk = \" \".join(words[start:end])\n",
    "        chunks.append(chunk)\n",
    "    return chunks"
   ]
  },
  {
   "cell_type": "markdown",
   "id": "9cd2ea17",
   "metadata": {},
   "source": [
    "We can test it out:"
   ]
  },
  {
   "cell_type": "code",
   "execution_count": null,
   "id": "7de97054",
   "metadata": {},
   "outputs": [
    {
     "data": {
      "text/plain": [
       "\"Vintage tee, brand new phone High heels on cobblestones When you are young, they assume you know nothing Sequin smile, black lipstick Sensual politics When you are young, they assume you know nothing But I knew you Dancin' in your Levi's Drunk under a streetlight, I I knew you Hand under my sweatshirt Baby, kiss it better, I And when I felt like I was an old cardigan Under someone's bed You put me on and said I was your favorite A friend to all is a friend to none Chase two girls, lose the one When you are young,\""
      ]
     },
     "metadata": {},
     "output_type": "display_data"
    }
   ],
   "source": [
    "chunk_lyrics(lyrics['Lyrics'].iloc[0], chunk_size=100)[0]"
   ]
  },
  {
   "cell_type": "markdown",
   "id": "fb420e33",
   "metadata": {},
   "source": [
    "Now let's make a new dataframe of lyrics that adds all the chunks per song:"
   ]
  },
  {
   "cell_type": "code",
   "execution_count": null,
   "id": "8b557796",
   "metadata": {},
   "outputs": [],
   "source": [
    "lyrics_chunked = []\n",
    "for i_song, song in lyrics.iterrows():\n",
    "    chunk_list = chunk_lyrics(song['Lyrics'], chunk_size=100)\n",
    "    for i_ch, chunk in enumerate(chunk_list):\n",
    "        lyrics_chunked.append(\n",
    "            {\n",
    "                'Song_id': i_song,\n",
    "                'Chunk_id': f\"{i_song}_{i_ch}\",\n",
    "                'Artist': song['Artist'],\n",
    "                'Title': song['Title'],\n",
    "                'chunk': chunk\n",
    "            }\n",
    "        )\n",
    "lyrics_chunked = pd.DataFrame(lyrics_chunked)"
   ]
  },
  {
   "cell_type": "code",
   "execution_count": null,
   "id": "cbcd7e35",
   "metadata": {},
   "outputs": [
    {
     "data": {
      "text/html": [
       "<div>\n",
       "<style scoped>\n",
       "    .dataframe tbody tr th:only-of-type {\n",
       "        vertical-align: middle;\n",
       "    }\n",
       "\n",
       "    .dataframe tbody tr th {\n",
       "        vertical-align: top;\n",
       "    }\n",
       "\n",
       "    .dataframe thead th {\n",
       "        text-align: right;\n",
       "    }\n",
       "</style>\n",
       "<table border=\"1\" class=\"dataframe\">\n",
       "  <thead>\n",
       "    <tr style=\"text-align: right;\">\n",
       "      <th></th>\n",
       "      <th>Song_id</th>\n",
       "      <th>Chunk_id</th>\n",
       "      <th>Artist</th>\n",
       "      <th>Title</th>\n",
       "      <th>chunk</th>\n",
       "    </tr>\n",
       "  </thead>\n",
       "  <tbody>\n",
       "    <tr>\n",
       "      <th>0</th>\n",
       "      <td>0</td>\n",
       "      <td>0_0</td>\n",
       "      <td>Taylor Swift</td>\n",
       "      <td>cardigan</td>\n",
       "      <td>Vintage tee, brand new phone High heels on cob...</td>\n",
       "    </tr>\n",
       "    <tr>\n",
       "      <th>1</th>\n",
       "      <td>0</td>\n",
       "      <td>0_1</td>\n",
       "      <td>Taylor Swift</td>\n",
       "      <td>cardigan</td>\n",
       "      <td>Chase two girls, lose the one When you are you...</td>\n",
       "    </tr>\n",
       "    <tr>\n",
       "      <th>2</th>\n",
       "      <td>0</td>\n",
       "      <td>0_2</td>\n",
       "      <td>Taylor Swift</td>\n",
       "      <td>cardigan</td>\n",
       "      <td>on the last train Marked me like a bloodstain,...</td>\n",
       "    </tr>\n",
       "    <tr>\n",
       "      <th>3</th>\n",
       "      <td>0</td>\n",
       "      <td>0_3</td>\n",
       "      <td>Taylor Swift</td>\n",
       "      <td>cardigan</td>\n",
       "      <td>grocery line I knew you'd miss me once the thr...</td>\n",
       "    </tr>\n",
       "    <tr>\n",
       "      <th>4</th>\n",
       "      <td>1</td>\n",
       "      <td>1_0</td>\n",
       "      <td>Taylor Swift</td>\n",
       "      <td>exile</td>\n",
       "      <td>I can see you standing, honey With his arms ar...</td>\n",
       "    </tr>\n",
       "  </tbody>\n",
       "</table>\n",
       "</div>"
      ],
      "text/plain": [
       "   Song_id Chunk_id        Artist     Title  \\\n",
       "0        0      0_0  Taylor Swift  cardigan   \n",
       "1        0      0_1  Taylor Swift  cardigan   \n",
       "2        0      0_2  Taylor Swift  cardigan   \n",
       "3        0      0_3  Taylor Swift  cardigan   \n",
       "4        1      1_0  Taylor Swift     exile   \n",
       "\n",
       "                                               chunk  \n",
       "0  Vintage tee, brand new phone High heels on cob...  \n",
       "1  Chase two girls, lose the one When you are you...  \n",
       "2  on the last train Marked me like a bloodstain,...  \n",
       "3  grocery line I knew you'd miss me once the thr...  \n",
       "4  I can see you standing, honey With his arms ar...  "
      ]
     },
     "metadata": {},
     "output_type": "display_data"
    }
   ],
   "source": [
    "lyrics_chunked.head()"
   ]
  },
  {
   "cell_type": "markdown",
   "id": "279339d9",
   "metadata": {},
   "source": []
  }
 ],
 "metadata": {
  "kernelspec": {
   "display_name": ".venv",
   "language": "python",
   "name": "python3"
  },
  "language_info": {
   "codemirror_mode": {
    "name": "ipython",
    "version": 3
   },
   "file_extension": ".py",
   "mimetype": "text/x-python",
   "name": "python",
   "nbconvert_exporter": "python",
   "pygments_lexer": "ipython3",
   "version": "3.13.3"
  }
 },
 "nbformat": 4,
 "nbformat_minor": 5
}
