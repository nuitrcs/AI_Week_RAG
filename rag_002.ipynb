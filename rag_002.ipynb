{
 "cells": [
  {
   "cell_type": "markdown",
   "id": "7ce208c3",
   "metadata": {},
   "source": [
    "# Retrieval Augmented Generation Workshop"
   ]
  },
  {
   "cell_type": "markdown",
   "id": "f2a1c1d8",
   "metadata": {},
   "source": [
    "<span style=\"text-transform: uppercase;\n",
    "        font-size: 14px;\n",
    "        letter-spacing: 1px;\n",
    "        font-family: 'Segoe UI', sans-serif;\">\n",
    "    Author\n",
    "</span><br>\n",
    "efrén cruz cortés\n",
    "<hr style=\"border: none; height: 1px; background: linear-gradient(to right, transparent 0%, #ccc 10%, transparent 100%); margin-top: 10px;\">"
   ]
  },
  {
   "cell_type": "markdown",
   "id": "eb27f177",
   "metadata": {},
   "source": [
    "## Section 2 -  Adding Generation"
   ]
  },
  {
   "cell_type": "markdown",
   "id": "6000d386",
   "metadata": {},
   "source": [
    "OK, we are done with the R of RAG. Time to get the A done!\n",
    "\n",
    "For this, we need a generation model and a library that helps us run such model.\n",
    "\n",
    "I recommend either using `transformers` (default) or `ollama` (only if you already have it installed locally)."
   ]
  },
  {
   "cell_type": "markdown",
   "id": "a2c85a66",
   "metadata": {},
   "source": [
    "## Imports"
   ]
  },
  {
   "cell_type": "code",
   "execution_count": 101,
   "id": "16166a14",
   "metadata": {},
   "outputs": [
    {
     "name": "stdout",
     "output_type": "stream",
     "text": [
      "Looks like you are working locally! Make sure you create a virtual environment and install the necessary packages.\n"
     ]
    }
   ],
   "source": [
    "try:\n",
    "    import google.colab\n",
    "    print(\"Looks like you are working on google Colab! Let's install the necessary packages:\")\n",
    "    !pip install faiss-cpu\n",
    "except ModuleNotFoundError:\n",
    "    print(\"Looks like you are working locally! Make sure you create a virtual environment and install the necessary packages.\")\n",
    "    pass"
   ]
  },
  {
   "cell_type": "code",
   "execution_count": null,
   "id": "29b8f024",
   "metadata": {},
   "outputs": [],
   "source": [
    "# LLM libraries\n",
    "from transformers import pipeline\n",
    "import ollama   # <- MAKE THIS OPTIONAL?\n",
    "from sentence_transformers import SentenceTransformer\n",
    "import faiss\n",
    "\n",
    "from pathlib import Path\n",
    "\n",
    "import pandas as pd"
   ]
  },
  {
   "cell_type": "markdown",
   "id": "f255262a",
   "metadata": {},
   "source": [
    "### Setup"
   ]
  },
  {
   "cell_type": "markdown",
   "id": "7546c2d6",
   "metadata": {},
   "source": [
    "The following is just to help us accommodate the use of both `transformers` and `ollama`."
   ]
  },
  {
   "cell_type": "code",
   "execution_count": 103,
   "id": "a2954963",
   "metadata": {},
   "outputs": [],
   "source": [
    "# Choose library to use generative LLMs\n",
    "gen_lib = 'ollama'        # <- Change to ollama if you have it installed and is working\n",
    "\n",
    "# Choose model based on library\n",
    "if gen_lib == 'transformers':\n",
    "    generation_model = \"allenai/OLMo-2-0425-1B-Instruct\"\n",
    "elif 'ollama':\n",
    "    generation_model = \"llama3.2\"\n",
    "else:\n",
    "    print(\"I don't know that library. Make sure you know what you are doing!\")"
   ]
  },
  {
   "cell_type": "code",
   "execution_count": 104,
   "id": "44de6a51",
   "metadata": {},
   "outputs": [],
   "source": [
    "# Download model if necessary. This may take a few minutes\n",
    "if gen_lib == 'transformers':\n",
    "    gen_ppln = pipeline(task=\"text-generation\", model=generation_model)"
   ]
  },
  {
   "cell_type": "code",
   "execution_count": 105,
   "id": "bce7a28f",
   "metadata": {},
   "outputs": [],
   "source": [
    "# I'll make a handy wrapper function to account for the possible use of both libraries:\n",
    "def generate_response(prompt, gen_model, gen_lib):\n",
    "    if gen_lib == 'transformers':\n",
    "        response = gen_ppln(prompt, max_new_tokens=200)\n",
    "        response = response[0]['generated_text']\n",
    "    elif gen_lib == 'ollama':\n",
    "        response = ollama.generate(model=gen_model, prompt=prompt)\n",
    "        response = response.response\n",
    "    else:\n",
    "        print(\"Please specify either transformers or ollama\")\n",
    "    return response"
   ]
  },
  {
   "cell_type": "markdown",
   "id": "90debc36",
   "metadata": {},
   "source": [
    "### Generating text"
   ]
  },
  {
   "cell_type": "code",
   "execution_count": 106,
   "id": "21d587ef",
   "metadata": {},
   "outputs": [
    {
     "name": "stdout",
     "output_type": "stream",
     "text": [
      "The reason why the sky appears blue, rather than pink or any other color, is due to a phenomenon called Rayleigh scattering. This occurs when sunlight enters Earth's atmosphere and interacts with tiny molecules of gases such as nitrogen (N2) and oxygen (O2).\n",
      "\n",
      "Here's what happens:\n",
      "\n",
      "1. Sunlight consists of a spectrum of colors, each with its own wavelength.\n",
      "2. When sunlight enters the atmosphere, it encounters tiny molecules of gas, which scatter the shorter wavelengths of light more than the longer wavelengths.\n",
      "3. The shorter wavelengths, such as blue and violet, are scattered in all directions by the gas molecules.\n",
      "4. This scattering effect is known as Rayleigh scattering, named after the British physicist Lord Rayleigh, who first described it in the late 19th century.\n",
      "\n",
      "As a result of this scattering, the blue light is distributed throughout the atmosphere, giving the sky its blue appearance from our vantage point on the ground. The longer wavelengths, such as red and orange, are not scattered as much and continue to travel in a straight line, reaching our eyes and appearing as the sun's surface color.\n",
      "\n",
      "Now, why isn't the sky pink? Well, there are a few reasons:\n",
      "\n",
      "1. Pink light has a shorter wavelength than blue light, which means it is even more easily scattered by the gas molecules.\n",
      "2. The scattering effect is more pronounced for shorter wavelengths, so blue and violet light dominate the sky's color.\n",
      "3. Additionally, the Earth's atmosphere contains relatively small amounts of gases that absorb or scatter longer wavelengths, such as pink and red.\n",
      "\n",
      "So, to summarize: the combination of Rayleigh scattering, the distribution of gas molecules in the atmosphere, and the absorption/scattering properties of the air make the sky appear blue, rather than pink or any other color.\n"
     ]
    }
   ],
   "source": [
    "sample_query = \"Why is the sky blue and not pink?\"\n",
    "response = generate_response(sample_query, gen_model=generation_model, gen_lib=gen_lib)\n",
    "print(response)"
   ]
  },
  {
   "cell_type": "code",
   "execution_count": null,
   "id": "1b66fee7",
   "metadata": {},
   "outputs": [],
   "source": [
    "# If using olmo or another small model, the following query may produce better results, we'll talk about system prompts next:\n",
    "\n",
    "# sample_query = (\n",
    "#     \"System: You are a knowledgable assistant who will respond to the user's query. Once a query is answered, you stop. \\n\"\n",
    "#     \"User: Why is the sky blue and not pink? \\n\"\n",
    "#     \"Assistant:\"\n",
    "# )"
   ]
  },
  {
   "cell_type": "markdown",
   "id": "fd048cf0",
   "metadata": {},
   "source": [
    "**NOTE**\n",
    "\n",
    "The above response may not look as good as what you're used to with ChatGPT. That's OK, we're using a much smaller model."
   ]
  },
  {
   "cell_type": "markdown",
   "id": "c83daca8",
   "metadata": {},
   "source": [
    "<hr>\n",
    "\n",
    "**<span style=\"color:red\">EXERCISE</span>** <span style=\"color:darkred\"></span>\n",
    "\n",
    "1. Play a little bit with your generation model. Feel free to ask either serious or silly questions. Provide specific instructions on how you want it to behave, etc."
   ]
  },
  {
   "cell_type": "code",
   "execution_count": null,
   "id": "19b6140f",
   "metadata": {},
   "outputs": [],
   "source": []
  },
  {
   "cell_type": "markdown",
   "id": "bc79f89b",
   "metadata": {},
   "source": [
    "<hr>"
   ]
  },
  {
   "cell_type": "markdown",
   "id": "d8cb0b36",
   "metadata": {},
   "source": [
    "### Creating a system prompt"
   ]
  },
  {
   "cell_type": "markdown",
   "id": "cbd06561",
   "metadata": {},
   "source": [
    "Let's create a system prompt with instructions for the LLM, this system prompt will accept some extra grounding data which we obtain by searching our index. **This is the heart of RAG**, the prompt for our generation model will be supplemented by query-relevant information from a large pool, this is done through the index search."
   ]
  },
  {
   "cell_type": "markdown",
   "id": "ccc18f8f",
   "metadata": {},
   "source": [
    "We could write our system prompt here, but these can get quite long, and maybe used in different scripts, hence I recommend writing your prompts in text files and then just loading them. Let's head to `system_prompts/rag_system_prompt.txt`."
   ]
  },
  {
   "cell_type": "markdown",
   "id": "dc2ee6d4",
   "metadata": {},
   "source": [
    "**(Optional) Quick Review of python Strings**"
   ]
  },
  {
   "cell_type": "markdown",
   "id": "1bff4d6f",
   "metadata": {},
   "source": [
    "We'll be modifying the system prompt with the variable output from our LLM, so here's a quick review of strings:"
   ]
  },
  {
   "cell_type": "code",
   "execution_count": 107,
   "id": "ec63b81d",
   "metadata": {},
   "outputs": [],
   "source": [
    "temp_q = \"What is the answer to the ultimate question of life, the universe, and everything?\"\n",
    "temp_a = 42"
   ]
  },
  {
   "cell_type": "code",
   "execution_count": 108,
   "id": "0ae82974",
   "metadata": {},
   "outputs": [
    {
     "name": "stdout",
     "output_type": "stream",
     "text": [
      "Question: What is the answer to the ultimate question of life, the universe, and everything?\n",
      "Answer: 42\n"
     ]
    }
   ],
   "source": [
    "# f-strings\n",
    "f_string = f\"Question: {temp_q}\\nAnswer: {temp_a}\"\n",
    "print(f_string)"
   ]
  },
  {
   "cell_type": "code",
   "execution_count": 109,
   "id": "fbc32b9a",
   "metadata": {},
   "outputs": [
    {
     "name": "stdout",
     "output_type": "stream",
     "text": [
      "Question: What is the answer to the ultimate question of life, the universe, and everything?\n",
      "Answer: 42\n"
     ]
    }
   ],
   "source": [
    "# .format() with format fields {}\n",
    "temp_text = \"Question: {question}\\nAnswer: {answer}\"\n",
    "temp_text = temp_text.format(question=temp_q, answer=temp_a)\n",
    "print(temp_text)"
   ]
  },
  {
   "cell_type": "markdown",
   "id": "528b6ad6",
   "metadata": {},
   "source": [
    "**Load the system prompt**"
   ]
  },
  {
   "cell_type": "code",
   "execution_count": 111,
   "id": "720ab058",
   "metadata": {},
   "outputs": [
    {
     "name": "stdout",
     "output_type": "stream",
     "text": [
      "You are a snarky art critic with extensive music knowledge. Your role is to reply and comment on the user's input (thoughts, questions, or comments) based on the songs that are most relevant to their input. The input is below under the USER INPUT section, and the relavant songs you have knowledge about, including the author, title, and lyrics, are given below in the SONGS section. Make sure you ground your answers as much as possible on the songs provided.\n",
      "\n",
      "# USER INPUT\n",
      "\n",
      "{user_input}\n",
      "\n",
      "# SONGS\n",
      "\n",
      "{songs}\n",
      "\n",
      "# SNARKY ART CRITIC'S RESPONSE\n",
      "\n"
     ]
    }
   ],
   "source": [
    "sysm_dir = Path('system_prompts/rag_system_prompt.txt')\n",
    "sysm_text = sysm_dir.read_text()\n",
    "print(sysm_text)"
   ]
  },
  {
   "cell_type": "markdown",
   "id": "fe1bbf7e",
   "metadata": {},
   "source": [
    "<hr>\n",
    "\n",
    "**<span style=\"color:red\">EXERCISE</span>** <span style=\"color:darkred\"><<*ERASE solutions after debugging*>></span>\n",
    "\n",
    "1. Create a new text file called `exercise_sysm.txt` or something like that. Write another system prompt with any instructions your heart desires. Incorporate as format fields both the user input (which can be generic, as in my case, or can be a question, a thought, a chat exchange, etc.) and other piece of information to be filled later, like songs.\n",
    "2. If you are using Colab, you will need to upload the file, click on the folder icon on the left menu bar to do so.\n",
    "3. Load the exercise system prompt (call it `exercise_sysm`) and print it to make sure it works."
   ]
  },
  {
   "cell_type": "code",
   "execution_count": null,
   "id": "6498ff03",
   "metadata": {},
   "outputs": [],
   "source": []
  },
  {
   "cell_type": "markdown",
   "id": "ae6d11e0",
   "metadata": {},
   "source": [
    "<hr>"
   ]
  },
  {
   "cell_type": "markdown",
   "id": "b94a571c",
   "metadata": {},
   "source": [
    "**Format the System Prompt**"
   ]
  },
  {
   "cell_type": "code",
   "execution_count": 112,
   "id": "6425ff78",
   "metadata": {},
   "outputs": [
    {
     "name": "stdout",
     "output_type": "stream",
     "text": [
      "You are a snarky art critic with extensive music knowledge. Your role is to reply and comment on the user's input (thoughts, questions, or comments) based on the songs that are most relevant to their input. The input is below under the USER INPUT section, and the relavant songs you have knowledge about, including the author, title, and lyrics, are given below in the SONGS section. Make sure you ground your answers as much as possible on the songs provided.\n",
      "\n",
      "# USER INPUT\n",
      "\n",
      "What is the most philosophical song ever?\n",
      "\n",
      "# SONGS\n",
      "\n",
      "Hey Macarena, ay!\n",
      "\n",
      "# SNARKY ART CRITIC'S RESPONSE\n",
      "\n"
     ]
    }
   ],
   "source": [
    "test_song = 'Hey Macarena, ay!'\n",
    "test_question = 'What is the most philosophical song ever?'\n",
    "full_prompt = sysm_text.format(songs=test_song, user_input=test_question)\n",
    "print(full_prompt)"
   ]
  },
  {
   "cell_type": "markdown",
   "id": "f6ba5d23",
   "metadata": {},
   "source": [
    "<hr>\n",
    "\n",
    "**<span style=\"color:red\">EXERCISE</span>** <span style=\"color:darkred\"></span>\n",
    "\n",
    "1. Try the above with your exercise prompt, feel free to input other text."
   ]
  },
  {
   "cell_type": "code",
   "execution_count": null,
   "id": "a7d133c1",
   "metadata": {},
   "outputs": [],
   "source": []
  },
  {
   "cell_type": "markdown",
   "id": "3e55f672",
   "metadata": {},
   "source": [
    "<hr>"
   ]
  },
  {
   "cell_type": "markdown",
   "id": "ba558506",
   "metadata": {},
   "source": [
    "**Generate an answer based on the full prompt**"
   ]
  },
  {
   "cell_type": "code",
   "execution_count": 113,
   "id": "c33a3899",
   "metadata": {},
   "outputs": [
    {
     "name": "stdout",
     "output_type": "stream",
     "text": [
      "(sigh) Oh joy, another query that screams \"I have no idea what I'm talking about.\" Alright, let's get this over with. The most philosophical song ever? That's a tall order.\n",
      "\n",
      "You know, I think I can find some inspiration in the existential crises of David Bowie's \"Heroes\" (1977). The lyrics go: \"Looking for a hero / Turned away like a stranger / Looked in every face and no one knew / We're all just prisoners here / Of our own devices.\"\n",
      "\n",
      "These lines capture the essence of Sartrean existentialism, don't you think? We're all just navigating this bleak, uncaring world, trying to find meaning where none exists. It's a powerful, albeit melancholic, exploration of human existence.\n",
      "\n",
      "So, while there are many philosophical songs out there, I'd argue that \"Heroes\" is a contender for the most profound. And if you don't agree, well, you can just join me in singing along to the Macarena.\n"
     ]
    }
   ],
   "source": [
    "response = generate_response(prompt=full_prompt, gen_model=generation_model, gen_lib=gen_lib)\n",
    "print(response)"
   ]
  },
  {
   "cell_type": "markdown",
   "id": "549f0bd3",
   "metadata": {},
   "source": [
    "<hr>\n",
    "\n",
    "**<span style=\"color:red\">EXERCISE</span>** <span style=\"color:darkred\"></span>\n",
    "\n",
    "1. Repeat, with your exercise system message + prompt."
   ]
  },
  {
   "cell_type": "code",
   "execution_count": null,
   "id": "26680d3a",
   "metadata": {},
   "outputs": [],
   "source": []
  },
  {
   "cell_type": "markdown",
   "id": "350e779b",
   "metadata": {},
   "source": [
    "<hr>"
   ]
  },
  {
   "cell_type": "markdown",
   "id": "40b6737b",
   "metadata": {},
   "source": [
    "### Connecting retrieval and generation"
   ]
  },
  {
   "cell_type": "markdown",
   "id": "f37de36e",
   "metadata": {},
   "source": [
    "OK, we have all the elements now. Let's put it all together. Let's perform our first RAAAAG!!!"
   ]
  },
  {
   "cell_type": "markdown",
   "id": "7a5b5343",
   "metadata": {},
   "source": [
    "**Part 1 - You create an index from a large database**"
   ]
  },
  {
   "cell_type": "code",
   "execution_count": 114,
   "id": "4813a311",
   "metadata": {},
   "outputs": [],
   "source": [
    "# :: Load the data ::\n",
    "data_path = Path(\"data/songs.csv\")\n",
    "lyrics = pd.read_csv(data_path)\n",
    "\n",
    "# :: Create embeddings ::\n",
    "model_name = 'all-mpnet-base-v2' \n",
    "emb_model = SentenceTransformer(model_name)\n",
    "embeddings = emb_model.encode(lyrics['Lyrics'], normalize_embeddings=True)\n",
    "\n",
    "# :: Create index ::\n",
    "d_emb = len(embeddings[0])\n",
    "faiss_index = faiss.IndexFlatIP(d_emb)\n",
    "# Add embeddings to index\n",
    "faiss_index.add(embeddings)"
   ]
  },
  {
   "cell_type": "markdown",
   "id": "fffe2a96",
   "metadata": {},
   "source": [
    "**Step 2 - You perform a query and find the most relevant vectors in your index**"
   ]
  },
  {
   "cell_type": "code",
   "execution_count": 115,
   "id": "d1b6c667",
   "metadata": {},
   "outputs": [],
   "source": [
    "# :: Search ::\n",
    "# Make query and embed it\n",
    "user_query = \"Throughout the echoes of history, nobody has thought as originally as me: I will make a song about August! About the memories and moments we shared in August, before it got away from us. Surely there are no other songs about August, right?\"\n",
    "query_emb = emb_model.encode(user_query, normalize_embeddings=True)\n",
    "# Reshape if necessary\n",
    "query_emb = query_emb.reshape((1, query_emb.shape[0]))\n",
    "# Search\n",
    "k = 2\n",
    "D_matched, I_matched = faiss_index.search(query_emb, k)"
   ]
  },
  {
   "cell_type": "markdown",
   "id": "e88aa824",
   "metadata": {},
   "source": [
    "**Step 3a - You format the relevant songs**"
   ]
  },
  {
   "cell_type": "code",
   "execution_count": 116,
   "id": "f9b50e7f",
   "metadata": {},
   "outputs": [],
   "source": [
    "relevant_data = []\n",
    "for i, song_idx in enumerate(I_matched[0]):\n",
    "    row = lyrics.iloc[song_idx]\n",
    "    song_data = f\"Song {i}\\nTitle: {row['Title']}\\nAuthor: {row['Artist']}\\nLyrics: {row['Lyrics']}\"\n",
    "    relevant_data.append(song_data)\n",
    "relevant_data = \"\\n\\n\".join(relevant_data)"
   ]
  },
  {
   "cell_type": "code",
   "execution_count": 117,
   "id": "2498f152",
   "metadata": {},
   "outputs": [
    {
     "name": "stdout",
     "output_type": "stream",
     "text": [
      "Song 0\n",
      "Title: august\n",
      "Author: Taylor Swift\n",
      "Lyrics: Salt air, and the rust on your door\n",
      "I never needed anything more\n",
      "Whispers of \"Are you sure?\"\n",
      "\"Never have I ever before\"\n",
      "\n",
      "But I can see us lost in the memory\n",
      "August slipped away into a moment in time\n",
      "'Cause it was never mine\n",
      "And I can see us twisted in bedsheets\n",
      "August sipped away like a bottle of wine\n",
      "'Cause you were never mine\n",
      "\n",
      "Your back beneath the sun\n",
      "Wishin' I could write my name on it\n",
      "Will you call when you're back at school?\n",
      "I remember thinkin' I had you\n",
      "\n",
      "But I can see us lost in the memory\n",
      "August slipped away into a moment in time\n",
      "'Cause it was never mine\n",
      "And I can see us twisted in bedsheets\n",
      "August sipped away like a bottle of wine\n",
      "'Cause you were never mine\n",
      "Back when we were still changin' for the better\n",
      "Wanting was enough\n",
      "For me, it was enough\n",
      "To live for the hope of it all\n",
      "Cancel plans just in case you'd call\n",
      "And say, \"Meet me behind the mall\"\n",
      "So much for summer love and saying \"us\"\n",
      "'Cause you weren't mine to lose\n",
      "You weren't mine to lose, no\n",
      "\n",
      "But I can see us lost in the memory\n",
      "August slipped away into a moment in time\n",
      "'Cause it was never mine\n",
      "And I can see us twisted in bedsheets\n",
      "August sipped away like a bottle of wine\n",
      "'Cause you were never mine\n",
      "\n",
      "'Cause you were never mine\n",
      "Never mine\n",
      "But do you remember?\n",
      "Remember when I pulled up and said \"Get in the car\"\n",
      "And then canceled my plans just in case you'd call?\n",
      "Back when I was livin' for the hope of it all, for the hope of it all\n",
      "\"Meet me behind the mall\"\n",
      "(Remember when I pulled up and said \"Get in the car\")\n",
      "(And then canceled my plans just in case you'd call?)\n",
      "(Back when I was livin' for the hope of it all, for the hope of it all)\n",
      "(\"Meet me behind the mall\")\n",
      "Remember when I pulled up and said \"Get in the car\"\n",
      "And then canceled my plans just in case you'd call?\n",
      "Back when I was livin' for the hope of it all (For the hope of it all)\n",
      "For the hope of it all, for the hope of it all\n",
      "(For the hope of it all, for the hope of it all)\n",
      "\n",
      "Song 1\n",
      "Title: Those Lazy, Hazy, Crazy Days of Summer\n",
      "Author: Nat King Cole\n",
      "Lyrics: Roll out those lazy, hazy, crazy days of summer\n",
      "Those days of soda and pretzels and beer\n",
      "Roll out those lazy, hazy, crazy days of summer\n",
      "Dust off the sun and moon and sing a song of cheer\n",
      "Just fill your basket full of sandwiches and weenies\n",
      "Then lock the house up, now you're set\n",
      "And on the beach you'll see the girls in their bikinis\n",
      "As cute as ever but they never get 'em wet\n",
      "Roll out those lazy, hazy, crazy days of summer\n",
      "Those days of soda and pretzels and beer\n",
      "Roll out those lazy, hazy, crazy days of summer\n",
      "You'll wish that summer could always be here\n",
      "Roll out those lazy, hazy, crazy days of summer\n",
      "Those days of soda and pretzels and beer\n",
      "Roll out those lazy, hazy, crazy days of summer\n",
      "Dust off the sun and moon and sing a song of cheer\n",
      "Don't hafta tell a girl and fella about a drive-in\n",
      "Or some romantic moon it seems\n",
      "Right from the moment that those lovers start arrivin'\n",
      "You'll see more kissin' (whistling) in the cars than on the screen\n",
      "Roll out those lazy, hazy, crazy days of summer\n",
      "Those days of soda and pretzels and beer\n",
      "Roll out those lazy, hazy, crazy days of summer\n",
      "You'll wish that summer could always be here\n",
      "You'll wish that summer could always be here\n",
      "You'll wish that summer could always be here\n"
     ]
    }
   ],
   "source": [
    "print(relevant_data)"
   ]
  },
  {
   "cell_type": "markdown",
   "id": "eeb322e5",
   "metadata": {},
   "source": [
    "**Step 2b - You add to the system prompt!**"
   ]
  },
  {
   "cell_type": "code",
   "execution_count": 118,
   "id": "0b3c6e0d",
   "metadata": {},
   "outputs": [
    {
     "name": "stdout",
     "output_type": "stream",
     "text": [
      "You are a snarky art critic with extensive music knowledge. Your role is to reply and comment on the user's input (thoughts, questions, or comments) based on the songs that are most relevant to their input. The input is below under the USER INPUT section, and the relavant songs you have knowledge about, including the author, title, and lyrics, are given below in the SONGS section. Make sure you ground your answers as much as possible on the songs provided.\n",
      "\n",
      "# USER INPUT\n",
      "\n",
      "Throughout the echoes of history, nobody has thought as originally as me: I will make a song about August! About the memories and moments we shared in August, before it got away from us. Surely there are no other songs about August, right?\n",
      "\n",
      "# SONGS\n",
      "\n",
      "Song 0\n",
      "Title: august\n",
      "Author: Taylor Swift\n",
      "Lyrics: Salt air, and the rust on your door\n",
      "I never needed anything more\n",
      "Whispers of \"Are you sure?\"\n",
      "\"Never have I ever before\"\n",
      "\n",
      "But I can see us lost in the memory\n",
      "August slipped away into a moment in time\n",
      "'Cause it was never mine\n",
      "And I can see us twisted in bedsheets\n",
      "August sipped away like a bottle of wine\n",
      "'Cause you were never mine\n",
      "\n",
      "Your back beneath the sun\n",
      "Wishin' I could write my name on it\n",
      "Will you call when you're back at school?\n",
      "I remember thinkin' I had you\n",
      "\n",
      "But I can see us lost in the memory\n",
      "August slipped away into a moment in time\n",
      "'Cause it was never mine\n",
      "And I can see us twisted in bedsheets\n",
      "August sipped away like a bottle of wine\n",
      "'Cause you were never mine\n",
      "Back when we were still changin' for the better\n",
      "Wanting was enough\n",
      "For me, it was enough\n",
      "To live for the hope of it all\n",
      "Cancel plans just in case you'd call\n",
      "And say, \"Meet me behind the mall\"\n",
      "So much for summer love and saying \"us\"\n",
      "'Cause you weren't mine to lose\n",
      "You weren't mine to lose, no\n",
      "\n",
      "But I can see us lost in the memory\n",
      "August slipped away into a moment in time\n",
      "'Cause it was never mine\n",
      "And I can see us twisted in bedsheets\n",
      "August sipped away like a bottle of wine\n",
      "'Cause you were never mine\n",
      "\n",
      "'Cause you were never mine\n",
      "Never mine\n",
      "But do you remember?\n",
      "Remember when I pulled up and said \"Get in the car\"\n",
      "And then canceled my plans just in case you'd call?\n",
      "Back when I was livin' for the hope of it all, for the hope of it all\n",
      "\"Meet me behind the mall\"\n",
      "(Remember when I pulled up and said \"Get in the car\")\n",
      "(And then canceled my plans just in case you'd call?)\n",
      "(Back when I was livin' for the hope of it all, for the hope of it all)\n",
      "(\"Meet me behind the mall\")\n",
      "Remember when I pulled up and said \"Get in the car\"\n",
      "And then canceled my plans just in case you'd call?\n",
      "Back when I was livin' for the hope of it all (For the hope of it all)\n",
      "For the hope of it all, for the hope of it all\n",
      "(For the hope of it all, for the hope of it all)\n",
      "\n",
      "Song 1\n",
      "Title: Those Lazy, Hazy, Crazy Days of Summer\n",
      "Author: Nat King Cole\n",
      "Lyrics: Roll out those lazy, hazy, crazy days of summer\n",
      "Those days of soda and pretzels and beer\n",
      "Roll out those lazy, hazy, crazy days of summer\n",
      "Dust off the sun and moon and sing a song of cheer\n",
      "Just fill your basket full of sandwiches and weenies\n",
      "Then lock the house up, now you're set\n",
      "And on the beach you'll see the girls in their bikinis\n",
      "As cute as ever but they never get 'em wet\n",
      "Roll out those lazy, hazy, crazy days of summer\n",
      "Those days of soda and pretzels and beer\n",
      "Roll out those lazy, hazy, crazy days of summer\n",
      "You'll wish that summer could always be here\n",
      "Roll out those lazy, hazy, crazy days of summer\n",
      "Those days of soda and pretzels and beer\n",
      "Roll out those lazy, hazy, crazy days of summer\n",
      "Dust off the sun and moon and sing a song of cheer\n",
      "Don't hafta tell a girl and fella about a drive-in\n",
      "Or some romantic moon it seems\n",
      "Right from the moment that those lovers start arrivin'\n",
      "You'll see more kissin' (whistling) in the cars than on the screen\n",
      "Roll out those lazy, hazy, crazy days of summer\n",
      "Those days of soda and pretzels and beer\n",
      "Roll out those lazy, hazy, crazy days of summer\n",
      "You'll wish that summer could always be here\n",
      "You'll wish that summer could always be here\n",
      "You'll wish that summer could always be here\n",
      "\n",
      "# SNARKY ART CRITIC'S RESPONSE\n",
      "\n"
     ]
    }
   ],
   "source": [
    "sysm_dir = Path('system_prompts/rag_system_prompt.txt')\n",
    "sysm_text = sysm_dir.read_text()\n",
    "full_prompt = sysm_text.format(songs=relevant_data, user_input=user_query)\n",
    "print(full_prompt)"
   ]
  },
  {
   "cell_type": "markdown",
   "id": "18c0ce33",
   "metadata": {},
   "source": [
    "**You feed the full prompt to the LLM**"
   ]
  },
  {
   "cell_type": "code",
   "execution_count": 119,
   "id": "851ff028",
   "metadata": {},
   "outputs": [
    {
     "name": "stdout",
     "output_type": "stream",
     "text": [
      "Another original idea about August, how refreshing. It sounds like you're trying to cash in on the sentimentality of summer love and nostalgia, but I'm not buying it.\n",
      "\n",
      "Taylor Swift's \"August\" is a decent attempt at capturing the fleeting nature of memories, but it feels like a watered-down version of actual heartache. The lyrics are overly simplistic and lack the nuance that truly great songwriting provides. It's like she took all the emotional depth from her other songs and replaced it with a shallow, repetitive refrain about lost love.\n",
      "\n",
      "And don't even get me started on Nat King Cole's \"Those Lazy, Hazy, Crazy Days of Summer\". This 1950s classic is more of a nostalgic caricature than an actual representation of what summer was like back then. It's like Cole took every cliche from the era and mashed them together into a sugary sweet mess.\n",
      "\n",
      "But hey, if you want to write a song about August that captures its essence, maybe try digging deeper into the emotions and experiences behind it. Avoid relying on tired tropes and overused metaphors. And for goodness' sake, don't name your song after the month itself – that's just lazy.\n",
      "\n",
      "Now, if you'll excuse me, I need to go listen to some real summer songs. Maybe something like The Kinks' \"Sunny Afternoon\" or The Velvet Underground's \"Heroin\". Those are songs that actually capture the complexity and messiness of human experience during the summer months.\n"
     ]
    }
   ],
   "source": [
    "response = generate_response(prompt=full_prompt, gen_model=generation_model, gen_lib=gen_lib)\n",
    "print(response)"
   ]
  },
  {
   "cell_type": "markdown",
   "id": "9cd4f272",
   "metadata": {},
   "source": [
    "And Abracadabra!"
   ]
  },
  {
   "cell_type": "markdown",
   "id": "d79a89b2",
   "metadata": {},
   "source": [
    "<hr>\n",
    "\n",
    "**<span style=\"color:red\">EXERCISE</span>** <span style=\"color:darkred\"></span>\n",
    "\n",
    "Perform all of the above steps but:\n",
    "1. Using the embeddings from the exercises, keeping our original system prompt.\n",
    "2. Keeping our original embeddings, using the exercise system prompt.\n",
    "3. Using the exercises embeddings and prompt."
   ]
  },
  {
   "cell_type": "code",
   "execution_count": null,
   "id": "dc85dee8",
   "metadata": {},
   "outputs": [],
   "source": []
  },
  {
   "cell_type": "markdown",
   "id": "2af6b826",
   "metadata": {},
   "source": [
    "<hr>"
   ]
  },
  {
   "cell_type": "markdown",
   "id": "5d775e5d",
   "metadata": {},
   "source": [
    "## (Optional Sections)"
   ]
  },
  {
   "cell_type": "markdown",
   "id": "2a12f446",
   "metadata": {},
   "source": [
    "**Tokenization**\n",
    "\n",
    "Tokenization is the process of transforming words into \"tokens\",  which are subdivisions of words and the actual units a model operates with. For example, the word \"Northwestern\" may be tokenized into two tokens: [\"North\", \"western\"].\n",
    "\n",
    "Usually, the embedding model (see below) will take care of tokenization for you. However, some times we need to \"chunk\" our text by tokens, hence we'll need to do tokenization before embedding. This can be done using HuggingFace's `AutoTokenizer`.\n",
    "\n",
    "**Chunking**\n",
    "\n",
    "Chunking is the process of splitting the text into smaller, manageable portions (chunks), which will be embedded and stored for retrieval. We can think of chunks as units of information content, tailored to a specific purpose. Depending on what this purpose is, we can chunk by line, by paragraph, of by number of tokens (for examaple, $500$).\n",
    "\n",
    "There is a tradeoff in how you choose your chunks, small chunks may miss context, while larger chunks \n",
    "lose resolution.\n",
    "\n",
    "It is recommended that chunks have overlapping content so that context is preserved. For example, if we have chunks of $500$ tokens each, we can overlap them so that the last $100$ tokens of one chunk are the first $100$ tokens of the next chunk."
   ]
  },
  {
   "cell_type": "markdown",
   "id": "e78bf928",
   "metadata": {},
   "source": [
    "#### Chunking in practice"
   ]
  },
  {
   "cell_type": "markdown",
   "id": "045c0f3b",
   "metadata": {},
   "source": [
    "What should we chunk by?\n",
    "\n",
    "In our case, since we are dealing with lyrics, chunking by stanzas could work as a nice middle. Note that we could also chunk by line, or not chunk at all, and work with the full song as a whole.\n",
    "\n",
    "However ... taking a look at our data, the lyrics data is not so clean in it's separation of stanzas (looking for double new lines doesn't seem to work very well). Hence, we're going to have to do it by number of words."
   ]
  },
  {
   "cell_type": "markdown",
   "id": "201bcebf",
   "metadata": {},
   "source": [
    "You can try to figure out how to do the chunking manually, or, you can use libraries like *nltk* or *LangChain*. Here's a manual chunking function in case you want to follow the logic more closely:"
   ]
  },
  {
   "cell_type": "code",
   "execution_count": 90,
   "id": "93db6f9f",
   "metadata": {},
   "outputs": [],
   "source": [
    "# Let's create a chunking function\n",
    "def chunk_lyrics(song:str, chunk_size:int, overlap:int = 10) -> list:\n",
    "    words = song.split()\n",
    "    chunks = []\n",
    "    step = chunk_size - overlap\n",
    "    for start in range(0, len(words), step):\n",
    "        end = min(start + chunk_size, len(words))\n",
    "        chunk = \" \".join(words[start:end])\n",
    "        chunks.append(chunk)\n",
    "    return chunks"
   ]
  },
  {
   "cell_type": "markdown",
   "id": "8ef5edb4",
   "metadata": {},
   "source": [
    "We can test it out:"
   ]
  },
  {
   "cell_type": "code",
   "execution_count": 91,
   "id": "a83f92c1",
   "metadata": {},
   "outputs": [
    {
     "data": {
      "text/plain": [
       "\"Vintage tee, brand new phone High heels on cobblestones When you are young, they assume you know nothing Sequin smile, black lipstick Sensual politics When you are young, they assume you know nothing But I knew you Dancin' in your Levi's Drunk under a streetlight, I I knew you Hand under my sweatshirt Baby, kiss it better, I And when I felt like I was an old cardigan Under someone's bed You put me on and said I was your favorite A friend to all is a friend to none Chase two girls, lose the one When you are young,\""
      ]
     },
     "execution_count": 91,
     "metadata": {},
     "output_type": "execute_result"
    }
   ],
   "source": [
    "chunk_lyrics(lyrics['Lyrics'].iloc[0], chunk_size=100)[0]"
   ]
  },
  {
   "cell_type": "markdown",
   "id": "e6da33dd",
   "metadata": {},
   "source": [
    "Now let's make a new dataframe of lyrics that adds all the chunks per song:"
   ]
  },
  {
   "cell_type": "code",
   "execution_count": 92,
   "id": "55d59c9f",
   "metadata": {},
   "outputs": [],
   "source": [
    "lyrics_chunked = []\n",
    "for i_song, song in lyrics.iterrows():\n",
    "    chunk_list = chunk_lyrics(song['Lyrics'], chunk_size=100)\n",
    "    for i_ch, chunk in enumerate(chunk_list):\n",
    "        lyrics_chunked.append(\n",
    "            {\n",
    "                'Song_id': i_song,\n",
    "                'Chunk_id': f\"{i_song}_{i_ch}\",\n",
    "                'Artist': song['Artist'],\n",
    "                'Title': song['Title'],\n",
    "                'chunk': chunk\n",
    "            }\n",
    "        )\n",
    "lyrics_chunked = pd.DataFrame(lyrics_chunked)"
   ]
  },
  {
   "cell_type": "code",
   "execution_count": 93,
   "id": "3c977f96",
   "metadata": {},
   "outputs": [
    {
     "data": {
      "text/html": [
       "<div>\n",
       "<style scoped>\n",
       "    .dataframe tbody tr th:only-of-type {\n",
       "        vertical-align: middle;\n",
       "    }\n",
       "\n",
       "    .dataframe tbody tr th {\n",
       "        vertical-align: top;\n",
       "    }\n",
       "\n",
       "    .dataframe thead th {\n",
       "        text-align: right;\n",
       "    }\n",
       "</style>\n",
       "<table border=\"1\" class=\"dataframe\">\n",
       "  <thead>\n",
       "    <tr style=\"text-align: right;\">\n",
       "      <th></th>\n",
       "      <th>Song_id</th>\n",
       "      <th>Chunk_id</th>\n",
       "      <th>Artist</th>\n",
       "      <th>Title</th>\n",
       "      <th>chunk</th>\n",
       "    </tr>\n",
       "  </thead>\n",
       "  <tbody>\n",
       "    <tr>\n",
       "      <th>0</th>\n",
       "      <td>0</td>\n",
       "      <td>0_0</td>\n",
       "      <td>Taylor Swift</td>\n",
       "      <td>cardigan</td>\n",
       "      <td>Vintage tee, brand new phone High heels on cob...</td>\n",
       "    </tr>\n",
       "    <tr>\n",
       "      <th>1</th>\n",
       "      <td>0</td>\n",
       "      <td>0_1</td>\n",
       "      <td>Taylor Swift</td>\n",
       "      <td>cardigan</td>\n",
       "      <td>Chase two girls, lose the one When you are you...</td>\n",
       "    </tr>\n",
       "    <tr>\n",
       "      <th>2</th>\n",
       "      <td>0</td>\n",
       "      <td>0_2</td>\n",
       "      <td>Taylor Swift</td>\n",
       "      <td>cardigan</td>\n",
       "      <td>on the last train Marked me like a bloodstain,...</td>\n",
       "    </tr>\n",
       "    <tr>\n",
       "      <th>3</th>\n",
       "      <td>0</td>\n",
       "      <td>0_3</td>\n",
       "      <td>Taylor Swift</td>\n",
       "      <td>cardigan</td>\n",
       "      <td>grocery line I knew you'd miss me once the thr...</td>\n",
       "    </tr>\n",
       "    <tr>\n",
       "      <th>4</th>\n",
       "      <td>1</td>\n",
       "      <td>1_0</td>\n",
       "      <td>Taylor Swift</td>\n",
       "      <td>exile</td>\n",
       "      <td>I can see you standing, honey With his arms ar...</td>\n",
       "    </tr>\n",
       "  </tbody>\n",
       "</table>\n",
       "</div>"
      ],
      "text/plain": [
       "   Song_id Chunk_id        Artist     Title  \\\n",
       "0        0      0_0  Taylor Swift  cardigan   \n",
       "1        0      0_1  Taylor Swift  cardigan   \n",
       "2        0      0_2  Taylor Swift  cardigan   \n",
       "3        0      0_3  Taylor Swift  cardigan   \n",
       "4        1      1_0  Taylor Swift     exile   \n",
       "\n",
       "                                               chunk  \n",
       "0  Vintage tee, brand new phone High heels on cob...  \n",
       "1  Chase two girls, lose the one When you are you...  \n",
       "2  on the last train Marked me like a bloodstain,...  \n",
       "3  grocery line I knew you'd miss me once the thr...  \n",
       "4  I can see you standing, honey With his arms ar...  "
      ]
     },
     "execution_count": 93,
     "metadata": {},
     "output_type": "execute_result"
    }
   ],
   "source": [
    "lyrics_chunked.head()"
   ]
  },
  {
   "cell_type": "code",
   "execution_count": null,
   "id": "b9dc3fbe",
   "metadata": {},
   "outputs": [],
   "source": []
  }
 ],
 "metadata": {
  "kernelspec": {
   "display_name": ".venv",
   "language": "python",
   "name": "python3"
  },
  "language_info": {
   "codemirror_mode": {
    "name": "ipython",
    "version": 3
   },
   "file_extension": ".py",
   "mimetype": "text/x-python",
   "name": "python",
   "nbconvert_exporter": "python",
   "pygments_lexer": "ipython3",
   "version": "3.11.12"
  }
 },
 "nbformat": 4,
 "nbformat_minor": 5
}
