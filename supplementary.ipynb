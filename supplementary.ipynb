{
 "cells": [
  {
   "cell_type": "markdown",
   "id": "fd12aede",
   "metadata": {},
   "source": [
    "# Supplementary Material for RAG Workshop"
   ]
  },
  {
   "cell_type": "markdown",
   "id": "3a859b2e",
   "metadata": {},
   "source": [
    "<span style=\"text-transform: uppercase;\n",
    "        font-size: 14px;\n",
    "        letter-spacing: 1px;\n",
    "        font-family: 'Segoe UI', sans-serif;\">\n",
    "    Author\n",
    "</span><br>\n",
    "efrén cruz cortés\n",
    "<hr style=\"border: none; height: 1px; background: linear-gradient(to right, transparent 0%, #ccc 10%, transparent 100%); margin-top: 10px;\">"
   ]
  },
  {
   "cell_type": "markdown",
   "id": "82eef19e",
   "metadata": {},
   "source": [
    "## Imports"
   ]
  },
  {
   "cell_type": "code",
   "execution_count": 1,
   "id": "07a56c19",
   "metadata": {},
   "outputs": [],
   "source": [
    "# ML/AI libraries\n",
    "from sentence_transformers import SentenceTransformer\n",
    "from umap import UMAP\n",
    "\n",
    "# 3rd party python libraries\n",
    "import pandas as pd\n",
    "import numpy as np\n",
    "\n",
    "# python libraries\n",
    "from pathlib import Path\n",
    "import os\n",
    "\n",
    "# visualization\n",
    "import plotly.express as px\n",
    "import plotly.graph_objects as go"
   ]
  },
  {
   "cell_type": "markdown",
   "id": "3d410563",
   "metadata": {},
   "source": [
    "## Visualize songs"
   ]
  },
  {
   "cell_type": "code",
   "execution_count": 2,
   "id": "61bdcaf8",
   "metadata": {},
   "outputs": [],
   "source": [
    "# Get data\n",
    "data_path = Path(\"data/songs.csv\")\n",
    "lyrics = pd.read_csv(data_path)\n",
    "\n",
    "# Create embeddings\n",
    "model_name = 'all-mpnet-base-v2'\n",
    "emb_model = SentenceTransformer(model_name)\n",
    "embeddings = emb_model.encode(lyrics['Lyrics'])"
   ]
  },
  {
   "cell_type": "code",
   "execution_count": 3,
   "id": "32a3ad2c",
   "metadata": {},
   "outputs": [],
   "source": [
    "# Pick artists to compare\n",
    "n_heatmap = 5\n",
    "a_artist = 'Taylor Swift'\n",
    "b_artist = 'Bob Dylan'"
   ]
  },
  {
   "cell_type": "code",
   "execution_count": 4,
   "id": "5814fc7c",
   "metadata": {},
   "outputs": [
    {
     "data": {
      "text/html": [
       "<div>\n",
       "<style scoped>\n",
       "    .dataframe tbody tr th:only-of-type {\n",
       "        vertical-align: middle;\n",
       "    }\n",
       "\n",
       "    .dataframe tbody tr th {\n",
       "        vertical-align: top;\n",
       "    }\n",
       "\n",
       "    .dataframe thead th {\n",
       "        text-align: right;\n",
       "    }\n",
       "</style>\n",
       "<table border=\"1\" class=\"dataframe\">\n",
       "  <thead>\n",
       "    <tr style=\"text-align: right;\">\n",
       "      <th></th>\n",
       "      <th>Artist</th>\n",
       "      <th>Title</th>\n",
       "      <th>Lyrics</th>\n",
       "    </tr>\n",
       "  </thead>\n",
       "  <tbody>\n",
       "    <tr>\n",
       "      <th>0</th>\n",
       "      <td>Taylor Swift</td>\n",
       "      <td>cardigan</td>\n",
       "      <td>Vintage tee, brand new phone\\nHigh heels on co...</td>\n",
       "    </tr>\n",
       "    <tr>\n",
       "      <th>1</th>\n",
       "      <td>Taylor Swift</td>\n",
       "      <td>exile</td>\n",
       "      <td>I can see you standing, honey\\nWith his arms a...</td>\n",
       "    </tr>\n",
       "    <tr>\n",
       "      <th>2</th>\n",
       "      <td>Taylor Swift</td>\n",
       "      <td>Lover</td>\n",
       "      <td>We could leave the Christmas lights up 'til Ja...</td>\n",
       "    </tr>\n",
       "    <tr>\n",
       "      <th>3</th>\n",
       "      <td>Taylor Swift</td>\n",
       "      <td>the 1</td>\n",
       "      <td>I'm doing good, I'm on some new shit\\nBeen say...</td>\n",
       "    </tr>\n",
       "    <tr>\n",
       "      <th>4</th>\n",
       "      <td>Taylor Swift</td>\n",
       "      <td>Look What You Made Me Do</td>\n",
       "      <td>I don't like your little games\\nDon't like you...</td>\n",
       "    </tr>\n",
       "  </tbody>\n",
       "</table>\n",
       "</div>"
      ],
      "text/plain": [
       "         Artist                     Title  \\\n",
       "0  Taylor Swift                  cardigan   \n",
       "1  Taylor Swift                     exile   \n",
       "2  Taylor Swift                     Lover   \n",
       "3  Taylor Swift                     the 1   \n",
       "4  Taylor Swift  Look What You Made Me Do   \n",
       "\n",
       "                                              Lyrics  \n",
       "0  Vintage tee, brand new phone\\nHigh heels on co...  \n",
       "1  I can see you standing, honey\\nWith his arms a...  \n",
       "2  We could leave the Christmas lights up 'til Ja...  \n",
       "3  I'm doing good, I'm on some new shit\\nBeen say...  \n",
       "4  I don't like your little games\\nDon't like you...  "
      ]
     },
     "execution_count": 4,
     "metadata": {},
     "output_type": "execute_result"
    }
   ],
   "source": [
    "# Taylor's lyrics:\n",
    "lyrics[lyrics['Artist']==a_artist].head(n_heatmap)"
   ]
  },
  {
   "cell_type": "code",
   "execution_count": 5,
   "id": "34a5e6c6",
   "metadata": {},
   "outputs": [
    {
     "data": {
      "text/html": [
       "<div>\n",
       "<style scoped>\n",
       "    .dataframe tbody tr th:only-of-type {\n",
       "        vertical-align: middle;\n",
       "    }\n",
       "\n",
       "    .dataframe tbody tr th {\n",
       "        vertical-align: top;\n",
       "    }\n",
       "\n",
       "    .dataframe thead th {\n",
       "        text-align: right;\n",
       "    }\n",
       "</style>\n",
       "<table border=\"1\" class=\"dataframe\">\n",
       "  <thead>\n",
       "    <tr style=\"text-align: right;\">\n",
       "      <th></th>\n",
       "      <th>Artist</th>\n",
       "      <th>Title</th>\n",
       "      <th>Lyrics</th>\n",
       "    </tr>\n",
       "  </thead>\n",
       "  <tbody>\n",
       "    <tr>\n",
       "      <th>575</th>\n",
       "      <td>Bob Dylan</td>\n",
       "      <td>Murder Most Foul</td>\n",
       "      <td>'Twas a dark day in Dallas, November '63\\nA da...</td>\n",
       "    </tr>\n",
       "    <tr>\n",
       "      <th>576</th>\n",
       "      <td>Bob Dylan</td>\n",
       "      <td>Blowin’ in the Wind</td>\n",
       "      <td>How many roads must a man walk down\\nBefore yo...</td>\n",
       "    </tr>\n",
       "    <tr>\n",
       "      <th>577</th>\n",
       "      <td>Bob Dylan</td>\n",
       "      <td>The Times They Are A-Changin’</td>\n",
       "      <td>Come gather 'round people, wherever you roam\\n...</td>\n",
       "    </tr>\n",
       "    <tr>\n",
       "      <th>578</th>\n",
       "      <td>Bob Dylan</td>\n",
       "      <td>All Along the Watchtower</td>\n",
       "      <td>\"There must be some way out of here\"\\nSaid the...</td>\n",
       "    </tr>\n",
       "    <tr>\n",
       "      <th>579</th>\n",
       "      <td>Bob Dylan</td>\n",
       "      <td>Like a Rolling Stone</td>\n",
       "      <td>Once upon a time you dressed so fine\\nThrew th...</td>\n",
       "    </tr>\n",
       "  </tbody>\n",
       "</table>\n",
       "</div>"
      ],
      "text/plain": [
       "        Artist                          Title  \\\n",
       "575  Bob Dylan               Murder Most Foul   \n",
       "576  Bob Dylan            Blowin’ in the Wind   \n",
       "577  Bob Dylan  The Times They Are A-Changin’   \n",
       "578  Bob Dylan       All Along the Watchtower   \n",
       "579  Bob Dylan           Like a Rolling Stone   \n",
       "\n",
       "                                                Lyrics  \n",
       "575  'Twas a dark day in Dallas, November '63\\nA da...  \n",
       "576  How many roads must a man walk down\\nBefore yo...  \n",
       "577  Come gather 'round people, wherever you roam\\n...  \n",
       "578  \"There must be some way out of here\"\\nSaid the...  \n",
       "579  Once upon a time you dressed so fine\\nThrew th...  "
      ]
     },
     "execution_count": 5,
     "metadata": {},
     "output_type": "execute_result"
    }
   ],
   "source": [
    "# Dylan's lyrics:\n",
    "lyrics[lyrics['Artist']==b_artist].head(n_heatmap)"
   ]
  },
  {
   "cell_type": "code",
   "execution_count": null,
   "id": "658a2aee",
   "metadata": {},
   "outputs": [],
   "source": [
    "# Let's save the indices for easy access\n",
    "a_idxs = lyrics[lyrics['Artist']==a_artist].index.to_list()[:n_heatmap]\n",
    "b_idxs = lyrics[lyrics['Artist']==b_artist].index.to_list()[:n_heatmap]\n",
    "\n",
    "# subset embeddings\n",
    "a_embs = embeddings[a_idxs]\n",
    "b_embs = embeddings[b_idxs]\n",
    "both_embs = np.concatenate((a_embs, b_embs), axis=0)\n",
    "\n",
    "# extract titles for our visualization\n",
    "a_titles = lyrics['Title'].iloc[a_idxs].to_list()\n",
    "b_titles = lyrics['Title'].iloc[b_idxs].to_list()\n",
    "# truncating text\n",
    "a_titles = [title[:20] for title in a_titles]\n",
    "b_titles = [title[:20] for title in b_titles]\n",
    "both_titles = a_titles + b_titles"
   ]
  },
  {
   "cell_type": "markdown",
   "id": "892d89e8",
   "metadata": {},
   "source": [
    "### Similarity Heatmap"
   ]
  },
  {
   "cell_type": "code",
   "execution_count": null,
   "id": "5960cf58",
   "metadata": {},
   "outputs": [],
   "source": [
    "# compute their similarity, we want to visualize this with a heatmap\n",
    "fl_sim_matrix = emb_model.similarity(both_embs, both_embs)"
   ]
  },
  {
   "cell_type": "code",
   "execution_count": 25,
   "id": "5d4243d2",
   "metadata": {},
   "outputs": [
    {
     "data": {
      "application/vnd.plotly.v1+json": {
       "config": {
        "plotlyServerURL": "https://plot.ly"
       },
       "data": [
        {
         "coloraxis": "coloraxis",
         "hovertemplate": "x: %{x}<br>y: %{y}<br>color: %{z}<extra></extra>",
         "name": "0",
         "texttemplate": "%{z:.2f}",
         "type": "heatmap",
         "x": [
          "cardigan",
          "exile",
          "Lover",
          "the 1",
          "Look What You Made M",
          "Murder Most Foul",
          "Blowin’ in the Wind",
          "The Times They Are A",
          "All Along the Watcht",
          "Like a Rolling Stone"
         ],
         "xaxis": "x",
         "y": [
          "cardigan",
          "exile",
          "Lover",
          "the 1",
          "Look What You Made M",
          "Murder Most Foul",
          "Blowin’ in the Wind",
          "The Times They Are A",
          "All Along the Watcht",
          "Like a Rolling Stone"
         ],
         "yaxis": "y",
         "z": {
          "bdata": "/P9/PzjH5D7XpRs/y+kXP5lICT9wDqk+q/wfPk8roz7H5Fo+O38qPzjH5D4BAIA/dQEJP80wBj9LMho/5sWZPtO8gz6BjLs+Z1C8PvBOGT/XpRs/dQEJPwQAgD/7pRI/Kj3vPsrAYj7lX4M+WuaVPknjRT4ZYhY/y+kXP80wBj/7pRI/9v9/P9DvCj+7fo4+xrg1Pjz+oT6oZ10+PNgxP5lICT9LMho/Kj3vPtDvCj8FAIA/GpymPsn4Zz56usI+0123PvumHz9wDqk+5sWZPsrAYj67fo4+GpymPv7/fz9OxDU+nAGKPqWHoD4PH7M+q/wfPtO8gz7lX4M+xrg1Psn4Zz5OxDU+BwCAPyL6sj4BiKw+UL18Pk8roz6BjLs+WuaVPjz+oT56usI+nAGKPiL6sj4IAIA/bOy0PsWU3T7H5Fo+Z1C8PknjRT6oZ10+0123PqWHoD4BiKw+bOy0PgAAgD88/b0+O38qP/BOGT8ZYhY/PNgxP/umHz8PH7M+UL18PsWU3T48/b0+AACAPw==",
          "dtype": "f4",
          "shape": "10, 10"
         }
        }
       ],
       "layout": {
        "annotations": [
         {
          "font": {
           "color": "black",
           "size": 16
          },
          "showarrow": false,
          "text": "Taylor Swift",
          "x": 2,
          "xref": "x",
          "y": 1.07,
          "yref": "paper"
         },
         {
          "font": {
           "color": "black",
           "size": 16
          },
          "showarrow": false,
          "text": "Bob Dylan",
          "x": 7,
          "xref": "x",
          "y": 1.07,
          "yref": "paper"
         },
         {
          "font": {
           "color": "black",
           "size": 16
          },
          "showarrow": false,
          "text": "Taylor Swift",
          "textangle": -90,
          "x": -0.015,
          "xref": "paper",
          "y": 2,
          "yref": "y"
         },
         {
          "font": {
           "color": "black",
           "size": 16
          },
          "showarrow": false,
          "text": "Bob Dylan",
          "textangle": -90,
          "x": -0.015,
          "xref": "paper",
          "y": 7,
          "yref": "y"
         }
        ],
        "coloraxis": {
         "colorscale": [
          [
           0,
           "#440154"
          ],
          [
           0.1111111111111111,
           "#482878"
          ],
          [
           0.2222222222222222,
           "#3e4989"
          ],
          [
           0.3333333333333333,
           "#31688e"
          ],
          [
           0.4444444444444444,
           "#26828e"
          ],
          [
           0.5555555555555556,
           "#1f9e89"
          ],
          [
           0.6666666666666666,
           "#35b779"
          ],
          [
           0.7777777777777778,
           "#6ece58"
          ],
          [
           0.8888888888888888,
           "#b5de2b"
          ],
          [
           1,
           "#fde725"
          ]
         ]
        },
        "height": 675,
        "margin": {
         "b": 50,
         "l": 50,
         "r": 50,
         "t": 100
        },
        "template": {
         "data": {
          "bar": [
           {
            "error_x": {
             "color": "#2a3f5f"
            },
            "error_y": {
             "color": "#2a3f5f"
            },
            "marker": {
             "line": {
              "color": "#E5ECF6",
              "width": 0.5
             },
             "pattern": {
              "fillmode": "overlay",
              "size": 10,
              "solidity": 0.2
             }
            },
            "type": "bar"
           }
          ],
          "barpolar": [
           {
            "marker": {
             "line": {
              "color": "#E5ECF6",
              "width": 0.5
             },
             "pattern": {
              "fillmode": "overlay",
              "size": 10,
              "solidity": 0.2
             }
            },
            "type": "barpolar"
           }
          ],
          "carpet": [
           {
            "aaxis": {
             "endlinecolor": "#2a3f5f",
             "gridcolor": "white",
             "linecolor": "white",
             "minorgridcolor": "white",
             "startlinecolor": "#2a3f5f"
            },
            "baxis": {
             "endlinecolor": "#2a3f5f",
             "gridcolor": "white",
             "linecolor": "white",
             "minorgridcolor": "white",
             "startlinecolor": "#2a3f5f"
            },
            "type": "carpet"
           }
          ],
          "choropleth": [
           {
            "colorbar": {
             "outlinewidth": 0,
             "ticks": ""
            },
            "type": "choropleth"
           }
          ],
          "contour": [
           {
            "colorbar": {
             "outlinewidth": 0,
             "ticks": ""
            },
            "colorscale": [
             [
              0,
              "#0d0887"
             ],
             [
              0.1111111111111111,
              "#46039f"
             ],
             [
              0.2222222222222222,
              "#7201a8"
             ],
             [
              0.3333333333333333,
              "#9c179e"
             ],
             [
              0.4444444444444444,
              "#bd3786"
             ],
             [
              0.5555555555555556,
              "#d8576b"
             ],
             [
              0.6666666666666666,
              "#ed7953"
             ],
             [
              0.7777777777777778,
              "#fb9f3a"
             ],
             [
              0.8888888888888888,
              "#fdca26"
             ],
             [
              1,
              "#f0f921"
             ]
            ],
            "type": "contour"
           }
          ],
          "contourcarpet": [
           {
            "colorbar": {
             "outlinewidth": 0,
             "ticks": ""
            },
            "type": "contourcarpet"
           }
          ],
          "heatmap": [
           {
            "colorbar": {
             "outlinewidth": 0,
             "ticks": ""
            },
            "colorscale": [
             [
              0,
              "#0d0887"
             ],
             [
              0.1111111111111111,
              "#46039f"
             ],
             [
              0.2222222222222222,
              "#7201a8"
             ],
             [
              0.3333333333333333,
              "#9c179e"
             ],
             [
              0.4444444444444444,
              "#bd3786"
             ],
             [
              0.5555555555555556,
              "#d8576b"
             ],
             [
              0.6666666666666666,
              "#ed7953"
             ],
             [
              0.7777777777777778,
              "#fb9f3a"
             ],
             [
              0.8888888888888888,
              "#fdca26"
             ],
             [
              1,
              "#f0f921"
             ]
            ],
            "type": "heatmap"
           }
          ],
          "histogram": [
           {
            "marker": {
             "pattern": {
              "fillmode": "overlay",
              "size": 10,
              "solidity": 0.2
             }
            },
            "type": "histogram"
           }
          ],
          "histogram2d": [
           {
            "colorbar": {
             "outlinewidth": 0,
             "ticks": ""
            },
            "colorscale": [
             [
              0,
              "#0d0887"
             ],
             [
              0.1111111111111111,
              "#46039f"
             ],
             [
              0.2222222222222222,
              "#7201a8"
             ],
             [
              0.3333333333333333,
              "#9c179e"
             ],
             [
              0.4444444444444444,
              "#bd3786"
             ],
             [
              0.5555555555555556,
              "#d8576b"
             ],
             [
              0.6666666666666666,
              "#ed7953"
             ],
             [
              0.7777777777777778,
              "#fb9f3a"
             ],
             [
              0.8888888888888888,
              "#fdca26"
             ],
             [
              1,
              "#f0f921"
             ]
            ],
            "type": "histogram2d"
           }
          ],
          "histogram2dcontour": [
           {
            "colorbar": {
             "outlinewidth": 0,
             "ticks": ""
            },
            "colorscale": [
             [
              0,
              "#0d0887"
             ],
             [
              0.1111111111111111,
              "#46039f"
             ],
             [
              0.2222222222222222,
              "#7201a8"
             ],
             [
              0.3333333333333333,
              "#9c179e"
             ],
             [
              0.4444444444444444,
              "#bd3786"
             ],
             [
              0.5555555555555556,
              "#d8576b"
             ],
             [
              0.6666666666666666,
              "#ed7953"
             ],
             [
              0.7777777777777778,
              "#fb9f3a"
             ],
             [
              0.8888888888888888,
              "#fdca26"
             ],
             [
              1,
              "#f0f921"
             ]
            ],
            "type": "histogram2dcontour"
           }
          ],
          "mesh3d": [
           {
            "colorbar": {
             "outlinewidth": 0,
             "ticks": ""
            },
            "type": "mesh3d"
           }
          ],
          "parcoords": [
           {
            "line": {
             "colorbar": {
              "outlinewidth": 0,
              "ticks": ""
             }
            },
            "type": "parcoords"
           }
          ],
          "pie": [
           {
            "automargin": true,
            "type": "pie"
           }
          ],
          "scatter": [
           {
            "fillpattern": {
             "fillmode": "overlay",
             "size": 10,
             "solidity": 0.2
            },
            "type": "scatter"
           }
          ],
          "scatter3d": [
           {
            "line": {
             "colorbar": {
              "outlinewidth": 0,
              "ticks": ""
             }
            },
            "marker": {
             "colorbar": {
              "outlinewidth": 0,
              "ticks": ""
             }
            },
            "type": "scatter3d"
           }
          ],
          "scattercarpet": [
           {
            "marker": {
             "colorbar": {
              "outlinewidth": 0,
              "ticks": ""
             }
            },
            "type": "scattercarpet"
           }
          ],
          "scattergeo": [
           {
            "marker": {
             "colorbar": {
              "outlinewidth": 0,
              "ticks": ""
             }
            },
            "type": "scattergeo"
           }
          ],
          "scattergl": [
           {
            "marker": {
             "colorbar": {
              "outlinewidth": 0,
              "ticks": ""
             }
            },
            "type": "scattergl"
           }
          ],
          "scattermap": [
           {
            "marker": {
             "colorbar": {
              "outlinewidth": 0,
              "ticks": ""
             }
            },
            "type": "scattermap"
           }
          ],
          "scattermapbox": [
           {
            "marker": {
             "colorbar": {
              "outlinewidth": 0,
              "ticks": ""
             }
            },
            "type": "scattermapbox"
           }
          ],
          "scatterpolar": [
           {
            "marker": {
             "colorbar": {
              "outlinewidth": 0,
              "ticks": ""
             }
            },
            "type": "scatterpolar"
           }
          ],
          "scatterpolargl": [
           {
            "marker": {
             "colorbar": {
              "outlinewidth": 0,
              "ticks": ""
             }
            },
            "type": "scatterpolargl"
           }
          ],
          "scatterternary": [
           {
            "marker": {
             "colorbar": {
              "outlinewidth": 0,
              "ticks": ""
             }
            },
            "type": "scatterternary"
           }
          ],
          "surface": [
           {
            "colorbar": {
             "outlinewidth": 0,
             "ticks": ""
            },
            "colorscale": [
             [
              0,
              "#0d0887"
             ],
             [
              0.1111111111111111,
              "#46039f"
             ],
             [
              0.2222222222222222,
              "#7201a8"
             ],
             [
              0.3333333333333333,
              "#9c179e"
             ],
             [
              0.4444444444444444,
              "#bd3786"
             ],
             [
              0.5555555555555556,
              "#d8576b"
             ],
             [
              0.6666666666666666,
              "#ed7953"
             ],
             [
              0.7777777777777778,
              "#fb9f3a"
             ],
             [
              0.8888888888888888,
              "#fdca26"
             ],
             [
              1,
              "#f0f921"
             ]
            ],
            "type": "surface"
           }
          ],
          "table": [
           {
            "cells": {
             "fill": {
              "color": "#EBF0F8"
             },
             "line": {
              "color": "white"
             }
            },
            "header": {
             "fill": {
              "color": "#C8D4E3"
             },
             "line": {
              "color": "white"
             }
            },
            "type": "table"
           }
          ]
         },
         "layout": {
          "annotationdefaults": {
           "arrowcolor": "#2a3f5f",
           "arrowhead": 0,
           "arrowwidth": 1
          },
          "autotypenumbers": "strict",
          "coloraxis": {
           "colorbar": {
            "outlinewidth": 0,
            "ticks": ""
           }
          },
          "colorscale": {
           "diverging": [
            [
             0,
             "#8e0152"
            ],
            [
             0.1,
             "#c51b7d"
            ],
            [
             0.2,
             "#de77ae"
            ],
            [
             0.3,
             "#f1b6da"
            ],
            [
             0.4,
             "#fde0ef"
            ],
            [
             0.5,
             "#f7f7f7"
            ],
            [
             0.6,
             "#e6f5d0"
            ],
            [
             0.7,
             "#b8e186"
            ],
            [
             0.8,
             "#7fbc41"
            ],
            [
             0.9,
             "#4d9221"
            ],
            [
             1,
             "#276419"
            ]
           ],
           "sequential": [
            [
             0,
             "#0d0887"
            ],
            [
             0.1111111111111111,
             "#46039f"
            ],
            [
             0.2222222222222222,
             "#7201a8"
            ],
            [
             0.3333333333333333,
             "#9c179e"
            ],
            [
             0.4444444444444444,
             "#bd3786"
            ],
            [
             0.5555555555555556,
             "#d8576b"
            ],
            [
             0.6666666666666666,
             "#ed7953"
            ],
            [
             0.7777777777777778,
             "#fb9f3a"
            ],
            [
             0.8888888888888888,
             "#fdca26"
            ],
            [
             1,
             "#f0f921"
            ]
           ],
           "sequentialminus": [
            [
             0,
             "#0d0887"
            ],
            [
             0.1111111111111111,
             "#46039f"
            ],
            [
             0.2222222222222222,
             "#7201a8"
            ],
            [
             0.3333333333333333,
             "#9c179e"
            ],
            [
             0.4444444444444444,
             "#bd3786"
            ],
            [
             0.5555555555555556,
             "#d8576b"
            ],
            [
             0.6666666666666666,
             "#ed7953"
            ],
            [
             0.7777777777777778,
             "#fb9f3a"
            ],
            [
             0.8888888888888888,
             "#fdca26"
            ],
            [
             1,
             "#f0f921"
            ]
           ]
          },
          "colorway": [
           "#636efa",
           "#EF553B",
           "#00cc96",
           "#ab63fa",
           "#FFA15A",
           "#19d3f3",
           "#FF6692",
           "#B6E880",
           "#FF97FF",
           "#FECB52"
          ],
          "font": {
           "color": "#2a3f5f"
          },
          "geo": {
           "bgcolor": "white",
           "lakecolor": "white",
           "landcolor": "#E5ECF6",
           "showlakes": true,
           "showland": true,
           "subunitcolor": "white"
          },
          "hoverlabel": {
           "align": "left"
          },
          "hovermode": "closest",
          "mapbox": {
           "style": "light"
          },
          "paper_bgcolor": "white",
          "plot_bgcolor": "#E5ECF6",
          "polar": {
           "angularaxis": {
            "gridcolor": "white",
            "linecolor": "white",
            "ticks": ""
           },
           "bgcolor": "#E5ECF6",
           "radialaxis": {
            "gridcolor": "white",
            "linecolor": "white",
            "ticks": ""
           }
          },
          "scene": {
           "xaxis": {
            "backgroundcolor": "#E5ECF6",
            "gridcolor": "white",
            "gridwidth": 2,
            "linecolor": "white",
            "showbackground": true,
            "ticks": "",
            "zerolinecolor": "white"
           },
           "yaxis": {
            "backgroundcolor": "#E5ECF6",
            "gridcolor": "white",
            "gridwidth": 2,
            "linecolor": "white",
            "showbackground": true,
            "ticks": "",
            "zerolinecolor": "white"
           },
           "zaxis": {
            "backgroundcolor": "#E5ECF6",
            "gridcolor": "white",
            "gridwidth": 2,
            "linecolor": "white",
            "showbackground": true,
            "ticks": "",
            "zerolinecolor": "white"
           }
          },
          "shapedefaults": {
           "line": {
            "color": "#2a3f5f"
           }
          },
          "ternary": {
           "aaxis": {
            "gridcolor": "white",
            "linecolor": "white",
            "ticks": ""
           },
           "baxis": {
            "gridcolor": "white",
            "linecolor": "white",
            "ticks": ""
           },
           "bgcolor": "#E5ECF6",
           "caxis": {
            "gridcolor": "white",
            "linecolor": "white",
            "ticks": ""
           }
          },
          "title": {
           "x": 0.05
          },
          "xaxis": {
           "automargin": true,
           "gridcolor": "white",
           "linecolor": "white",
           "ticks": "",
           "title": {
            "standoff": 15
           },
           "zerolinecolor": "white",
           "zerolinewidth": 2
          },
          "yaxis": {
           "automargin": true,
           "gridcolor": "white",
           "linecolor": "white",
           "ticks": "",
           "title": {
            "standoff": 15
           },
           "zerolinecolor": "white",
           "zerolinewidth": 2
          }
         }
        },
        "title": {
         "text": "Cosine Similarity Among Taylor Swift and Bob Dylan Lyrics"
        },
        "width": 950,
        "xaxis": {
         "anchor": "y",
         "constrain": "domain",
         "domain": [
          0,
          1
         ],
         "scaleanchor": "y",
         "tickangle": 45
        },
        "yaxis": {
         "anchor": "x",
         "autorange": "reversed",
         "constrain": "domain",
         "domain": [
          0,
          1
         ]
        }
       }
      }
     },
     "metadata": {},
     "output_type": "display_data"
    }
   ],
   "source": [
    "fig = px.imshow(\n",
    "    fl_sim_matrix,\n",
    "    x=both_titles,\n",
    "    y=both_titles,\n",
    "    color_continuous_scale=\"Viridis\",\n",
    "    text_auto=\".2f\"\n",
    ")\n",
    "\n",
    "img_w = 950\n",
    "img_h = 675\n",
    "fig.update_layout(\n",
    "    title=f\"Cosine Similarity Among {a_artist} and {b_artist} Lyrics\",\n",
    "    width=img_w,\n",
    "    height=img_h,\n",
    "    xaxis=dict(tickangle=45),\n",
    "    margin=dict(l=50, r=50, t=100, b=50)\n",
    ")\n",
    "\n",
    "names_ycols = 1.07\n",
    "names_xrows = -.015\n",
    "font_params = dict(size=16, color=\"black\")\n",
    "fig.add_annotation(\n",
    "    x=2,\n",
    "    y=names_ycols,  # above the top ticks\n",
    "    text=a_artist,\n",
    "    showarrow=False,\n",
    "    font=font_params,\n",
    "    xref=\"x\",\n",
    "    yref=\"paper\"\n",
    ")\n",
    "fig.add_annotation(\n",
    "    x=7,\n",
    "    y=names_ycols,\n",
    "    text=b_artist,\n",
    "    showarrow=False,\n",
    "    font=font_params,\n",
    "    xref=\"x\",\n",
    "    yref=\"paper\"\n",
    ")\n",
    "\n",
    "fig.add_annotation(\n",
    "    x=names_xrows,\n",
    "    y=2,\n",
    "    text=a_artist,\n",
    "    showarrow=False,\n",
    "    font=font_params,\n",
    "    textangle=-90,\n",
    "    xref=\"paper\",\n",
    "    yref=\"y\"\n",
    ")\n",
    "fig.add_annotation(\n",
    "    x=names_xrows,\n",
    "    y=7,\n",
    "    text=b_artist,\n",
    "    showarrow=False,\n",
    "    font=font_params,\n",
    "    textangle=-90,\n",
    "    xref=\"paper\",\n",
    "    yref=\"y\"\n",
    ")\n",
    "\n",
    "fig.show()"
   ]
  },
  {
   "cell_type": "code",
   "execution_count": 27,
   "id": "e82fd953",
   "metadata": {},
   "outputs": [
    {
     "name": "stderr",
     "output_type": "stream",
     "text": [
      "huggingface/tokenizers: The current process just got forked, after parallelism has already been used. Disabling parallelism to avoid deadlocks...\n",
      "To disable this warning, you can either:\n",
      "\t- Avoid using `tokenizers` before the fork if possible\n",
      "\t- Explicitly set the environment variable TOKENIZERS_PARALLELISM=(true | false)\n"
     ]
    }
   ],
   "source": [
    "# save figure\n",
    "fig_params = {\"width\":img_w, \"height\":img_h, \"scale\":2}\n",
    "fig.write_image('images/taylor_dylan_heatmap.png', **fig_params)"
   ]
  },
  {
   "cell_type": "markdown",
   "id": "d4d72b4f",
   "metadata": {},
   "source": [
    "OK, the warning above is fun. The code below addresses it but is there just for fun."
   ]
  },
  {
   "cell_type": "code",
   "execution_count": 28,
   "id": "8b2af0cc",
   "metadata": {},
   "outputs": [],
   "source": [
    "# save current tokenizers setting\n",
    "prev_setting = os.environ.get(\"TOKENIZERS_PARALLELISM\", None)\n",
    "\n",
    "# disable parallelism before the fork step (in this case, saving the figure)\n",
    "os.environ[\"TOKENIZERS_PARALLELISM\"] = \"false\"\n",
    "\n",
    "# save figure, this step does the forking\n",
    "fig.write_image('images/taylor_dylan_heatmap.png', **fig_params)\n",
    "\n",
    "# restore the previous setting\n",
    "if prev_setting is None:\n",
    "    del os.environ[\"TOKENIZERS_PARALLELISM\"]\n",
    "else:\n",
    "    os.environ[\"TOKENIZERS_PARALLELISM\"] = prev_setting"
   ]
  },
  {
   "cell_type": "markdown",
   "id": "07afc02f",
   "metadata": {},
   "source": [
    "### Dimensionality reduction"
   ]
  },
  {
   "cell_type": "code",
   "execution_count": 30,
   "id": "0b6085e7",
   "metadata": {},
   "outputs": [],
   "source": [
    "dimred_model = UMAP(\n",
    "    n_neighbors=3,  # umap hyper-parameter\n",
    "    n_components=2, # dimension we are reducing to\n",
    "    metric='cosine'\n",
    ")\n",
    "\n",
    "two_d_rep = dimred_model.fit_transform(embeddings)"
   ]
  },
  {
   "cell_type": "code",
   "execution_count": 37,
   "id": "18365775",
   "metadata": {},
   "outputs": [
    {
     "data": {
      "application/vnd.plotly.v1+json": {
       "config": {
        "plotlyServerURL": "https://plot.ly"
       },
       "data": [
        {
         "hoverinfo": "text",
         "marker": {
          "size": 6
         },
         "mode": "markers",
         "text": [
          "cardigan",
          "exile",
          "Lover",
          "the 1",
          "Look What You Made Me Do",
          "betty",
          "august",
          "End Game",
          "You Need To Calm Down",
          "ME!",
          "Blank Space",
          "Ready for It?",
          "champagne problems",
          "willow",
          "my tears ricochet",
          "invisible string",
          "Cruel Summer",
          "the last great american dynasty",
          "Delicate",
          "Call It What You Want",
          "seven",
          "Style",
          "illicit affairs",
          "this is me trying",
          "Love Story",
          "evermore",
          "Gorgeous",
          "happiness",
          "peace",
          "mad woman",
          "mirrorball",
          "tolerate it",
          "The Man",
          "Don't Blame Me",
          "I Did Something Bad",
          "Dress",
          "no body, no crime",
          "ivy",
          "gold rush",
          "hoax",
          "Getaway Car",
          "All Too Well",
          "epiphany",
          "The Archer",
          "Mr. Perfectly Fine (Taylors Version) [From the Vault]",
          "Miss Americana & The Heartbreak Prince",
          "London Boy",
          "Bad Blood",
          "Cornelia Street",
          "Wildest Dreams",
          "​when the party’s over",
          "​bad guy",
          "​everything i wanted",
          "​idontwannabeyouanymore",
          "​bury a friend",
          "​i love you",
          "Your Power",
          "​wish you were gay",
          "No Time To Die",
          "Therefore I Am",
          "​​ocean eyes",
          "Happier Than Ever",
          "​my future",
          "​bellyache",
          "​you should see me in a crown",
          "​xanny",
          "​all the good girls go to hell",
          "​ilomilo",
          "COPYCAT",
          "​my strange addiction",
          "​listen before i go",
          "​watch",
          "​hostage",
          "​my boy",
          "Six Feet Under",
          "8",
          "​bitches broken hearts",
          "​​come out and play",
          "Bored",
          "NDA",
          "​​party favor",
          "6.18.18*",
          "​goodbye",
          "The End of the World",
          "Male Fantasy",
          "Lost Cause",
          "Oxytocin",
          "Billie Bossa Nova",
          "Getting Older",
          "Halley’s Comet",
          "WHEN I WAS OLDER",
          "I Didn’t Change My Number",
          "Not My Responsibility",
          "GOLDWING",
          "!!!!!!!",
          "OverHeated",
          "Everybody Dies",
          "​sHE’s brOKen",
          "Fingers Crossed",
          "​limbo*",
          "Let It Be",
          "Yesterday",
          "Come Together",
          "Hey Jude",
          "Here Comes the Sun",
          "Something",
          "A Day in the Life",
          "Blackbird",
          "I Am the Walrus",
          "Eleanor Rigby",
          "In My Life",
          "While My Guitar Gently Weeps",
          "Lucy in the Sky with Diamonds",
          "Across the Universe",
          "Strawberry Fields Forever",
          "With a Little Help from My Friends",
          "Michelle",
          "Help!",
          "I Want to Hold Your Hand",
          "Ob-La-Di, Ob-La-Da",
          "Yellow Submarine",
          "Norwegian Wood (This Bird Has Flown)",
          "Don’t Let Me Down",
          "When I’m Sixty-Four",
          "Rocky Raccoon",
          "Oh! Darling",
          "Back in the U.S.S.R.",
          "Happiness is a Warm Gun",
          "Golden Slumbers",
          "Penny Lane",
          "Helter Skelter",
          "All You Need Is Love",
          "Maxwell’s Silver Hammer",
          "She Loves You",
          "Revolution",
          "Space Oddity",
          "★ (Blackstar)",
          "Heroes",
          "Life on Mars?",
          "Starman",
          "Lazarus",
          "Changes",
          "The Man Who Sold the World",
          "Girl Loves Me",
          "Ashes to Ashes",
          "Moonage Daydream",
          "Ziggy Stardust",
          "Modern Love",
          "Five Years",
          "’Tis a Pity She Was a Whore",
          "I Can’t Give Everything Away",
          "Rock ‘n’ Roll Suicide",
          "Dollar Days",
          "Rebel Rebel",
          "Young Americans",
          "Station to Station",
          "Suffragette City",
          "Let’s Dance",
          "Oh! You Pretty Things",
          "Sue (Or in a Season of Crime)",
          "Soul Love",
          "China Girl",
          "Valentine’s Day",
          "Fame",
          "Sound and Vision",
          "Lady Stardust",
          "The Next Day",
          "Quicksand",
          "Diamond Dogs",
          "Queen Bitch",
          "I’m Afraid of Americans",
          "Golden Years",
          "Scary Monsters (and Super Creeps)",
          "Star",
          "Time",
          "Hang on to Yourself",
          "Sweet Thing",
          "It Ain’t Easy",
          "Cat People (Putting Out Fire)",
          "The Jean Genie",
          "Love Is Lost",
          "Where Are We Now?",
          "The Stars (Are Out Tonight)",
          "Andy Warhol",
          "The Bewlay Brothers",
          "We Didn’t Start the Fire",
          "Piano Man",
          "Vienna",
          "Uptown Girl",
          "The Longest Time",
          "She’s Always a Woman",
          "Movin’ Out (Anthony’s Song)",
          "Just the Way You Are",
          "Only the Good Die Young",
          "Scenes from an Italian Restaurant",
          "New York State of Mind",
          "My Life",
          "Honesty",
          "The Stranger",
          "Goodnight Saigon",
          "It’s Still Rock and Roll to Me",
          "Allentown",
          "Captain Jack",
          "And So it Goes",
          "Big Shot",
          "The Downeaster “Alexa”",
          "An Innocent Man",
          "Zanzibar",
          "You May Be Right",
          "The River of Dreams",
          "Lullabye (Goodnight, My Angel)",
          "Leningrad",
          "Miami 2017 (Seen the Lights Go Out on Broadway)",
          "Summer, Highland Falls",
          "Why Should I Worry",
          "She’s Got a Way",
          "Don’t Ask Me Why",
          "Pressure",
          "A Matter of Trust",
          "The Entertainer",
          "Tell Her About it",
          "Keeping the Faith",
          "The Ballad of Billy the Kid",
          "Say Goodbye to Hollywood",
          "Tomorrow Is Today",
          "James",
          "All for Leyna",
          "You’re My Home",
          "Laura",
          "Prelude / Angry Young Man",
          "Stiletto",
          "I Go to Extremes",
          "Everybody Loves You Now",
          "C’Etait Toi (You Were the One)",
          "Get It Right The First Time",
          "Shape of You",
          "Perfect",
          "Castle on the Hill",
          "Happier",
          "Supermarket Flowers",
          "Thinking Out Loud",
          "Galway Girl",
          "Dive",
          "Photograph",
          "Don’t",
          "The A Team",
          "South of the Border",
          "I See Fire",
          "Beautiful People",
          "Eraser",
          "Remember the Name",
          "Afterglow",
          "New Man",
          "How Would You Feel (Paean)",
          "Nancy Mulligan",
          "Tears In Heaven",
          "Cocaine",
          "Wonderful Tonight",
          "Change the World",
          "I Shot the Sheriff",
          "My Father’s Eyes",
          "Let It Rain",
          "Lay Down Sally",
          "Let It Grow",
          "Layla (unplugged)",
          "Old Love",
          "Promises",
          "Before You Accuse Me",
          "Little Wing",
          "Have You Ever Loved A Woman",
          "It’s in the Way That You Use It",
          "Circus",
          "Magnolia",
          "Crossroads",
          "Pretending",
          "The Core",
          "I Will Be There",
          "After Midnight",
          "Bad Love",
          "Next Time You See Her",
          "Tulsa Time",
          "Autumn Leaves",
          "Please Be with Me",
          "Goodnight Irene",
          "Motherless Children",
          "Key To The Highway",
          "River of Tears",
          "Holy Mother",
          "Forever Man",
          "Knockin’ On Heaven’s Door",
          "Sign Language",
          "If I Could Change The World",
          "Running on Faith (Unplugged version)",
          "Somebody’s Knockin’",
          "I’ll Be Alright",
          "Mainline Florida",
          "Can’t Find My Way Home",
          "May You Never",
          "Willie and the Hand Jive",
          "Blue Eyes Blue",
          "Double Trouble",
          "Train to Nowhere",
          "Running On Faith",
          "Hello Old Friend",
          "I’m Tore Down",
          "Born in the U.S.A.",
          "Born to Run",
          "Dancing in the Dark",
          "I’m on Fire",
          "Thunder Road",
          "Blinded by the Light",
          "The River",
          "Atlantic City",
          "Hungry Heart",
          "Jungleland",
          "Glory Days",
          "Badlands",
          "My Hometown",
          "Streets of Philadelphia",
          "Backstreets",
          "The Ghost of Tom Joad",
          "Secret Garden",
          "Tenth Avenue Freeze Out",
          "Racing in the Street",
          "Nebraska",
          "I’m Goin’ Down",
          "If I Was the Priest",
          "Growin’ Up",
          "Rosalita (Come Out Tonight)",
          "Darkness on the Edge of Town",
          "The Rising",
          "Spirit in the Night",
          "When You Need Me",
          "Western Stars",
          "State Trooper",
          "American Skin (41 Shots)",
          "Tougher Than the Rest",
          "Letter to You",
          "The Promised Land",
          "4th of July, Asbury Park (Sandy)",
          "Janey Needs a Shooter",
          "I’ll See You in My Dreams",
          "No Surrender",
          "Fire",
          "Downbound Train",
          "Riptide",
          "Georgia",
          "Mess Is Mine",
          "I’m with You",
          "Fire and the Flood",
          "Lay It on Me",
          "Saturday Sun",
          "Like Gold",
          "Call If You Need Me",
          "We’re Going Home",
          "From Afar",
          "Take Your Time",
          "Wasted Time",
          "Alone With Me",
          "Straight Into Your Arms",
          "Red Eye",
          "Crashing Into You",
          "First Time",
          "One of These Days",
          "Emmylou",
          "Missing Piece",
          "Bonnie & Clyde",
          "Little Boy",
          "Who Am I",
          "My Kind of Man",
          "Where We Start",
          "Great Summer",
          "Snaggletooth",
          "We All Die Trying to Get It Right",
          "Winds of Change",
          "Young and Beautiful",
          "Summertime Sadness",
          "Love",
          "Lust for Life",
          "Born to Die",
          "Video Games",
          "West Coast",
          "Norman fucking Rockwell",
          "High By The Beach",
          "​hope is a dangerous thing for a woman like me to have - but i have it",
          "Cherry",
          "Mariners Apartment Complex",
          "Venice Bitch",
          "Ultraviolence",
          "Carmen",
          "Off to the Races",
          "Blue Jeans",
          "National Anthem",
          "Doin’ Time",
          "Fuck it I love you",
          "Summer Bummer",
          "Ride Monologue",
          "Love song",
          "Brooklyn Baby",
          "Cinnamon Girl",
          "Ride",
          "The greatest",
          "Happiness is a butterfly",
          "Cola",
          "Get Free",
          "Summer of ’69",
          "Heaven",
          "(Everything I Do) I Do It for You",
          "Have You Ever Really Loved a Woman?",
          "Please Forgive Me",
          "Run to You",
          "When You Love Someone",
          "Sound the Bugle",
          "When You’re Gone",
          "Here I Am",
          "Please Stay",
          "All For Love",
          "Straight from the Heart",
          "Empty Spaces/What Shall We Do Now?",
          "Shine a Light",
          "I Finally Found Someone",
          "You Can’t Take Me",
          "When You Really Love A Woman",
          "It’s Only Love",
          "Cuts Like a Knife",
          "Christmas Time",
          "I Will Always Return (Finale)",
          "Somebody",
          "Diana",
          "I Will Always Return",
          "Nothing I’ve Ever Known",
          "The Only Thing That Looks Good on Me Is You",
          "Cloud Number Nine",
          "You Belong to Me",
          "Brothers Under the Sun",
          "Hallelujah",
          "You Want It Darker",
          "Suzanne",
          "Chelsea Hotel No. 2",
          "Famous Blue Raincoat",
          "Dance Me to the End of Love",
          "Everybody Knows",
          "Anthem",
          "So Long, Marianne",
          "The Future",
          "Treaty",
          "Nevermind",
          "Bird on the Wire",
          "A Thousand Kisses Deep (spoken word)",
          "The Partisan",
          "Avalanche",
          "The Stranger Song",
          "A Thousand Kisses Deep",
          "Hey, That’s No Way to Say Goodbye",
          "First We Take Manhattan",
          "I’m Your Man",
          "Leaving the Table",
          "One of Us Cannot Be Wrong",
          "Who by Fire",
          "Sisters of Mercy",
          "Take This Waltz",
          "Democracy",
          "On the Level",
          "If It Be Your Will",
          "Is This What You Wanted",
          "In My Secret Life",
          "Traveling Light",
          "Master Song",
          "It Seemed the Better Way",
          "Happens to the Heart",
          "If I Didn’t Have Your Love",
          "Steer Your Way",
          "Closing Time",
          "Last Year’s Man",
          "Thanks for the Dance",
          "The Goal",
          "Lover Lover Lover",
          "Joan of Arc",
          "Waiting for the Miracle",
          "Tower of Song",
          "Dress Rehearsal Rag",
          "Story of Isaac",
          "String Reprise/Treaty",
          "Moving On",
          "The Night of Santiago",
          "L-O-V-E",
          "Smile",
          "Unforgettable",
          "Daisy Bell (Bicycle Built for Two)",
          "Nature Boy",
          "The Christmas Song",
          "Mona Lisa",
          "Chestnuts Roasting on an Open Fire",
          "When I Fall In Love",
          "Orange Colored Sky",
          "(Get Your Kicks On) Route 66 [1946 Version]",
          "Stardust",
          "Too Young",
          "Straighten Up and Fly Right",
          "That’s All",
          "Let There Be Love",
          "On a Bicycle Built for Two",
          "Fascination",
          "The Very Thought of You",
          "Those Lazy, Hazy, Crazy Days of Summer",
          "Autumn Leaves",
          "O Tannenbaum",
          "Pretend",
          "(I Love You) For Sentimental Reasons",
          "Pick Yourself Up",
          "Ramblin’ Rose",
          "Love Me as Though There Were No Tomorrow",
          "Autumn Leaves (French version)",
          "Perfidia",
          "Lush Life",
          "Heathens",
          "Stressed Out",
          "Ride",
          "Chlorine",
          "Nico And The Niners",
          "Car Radio",
          "Heavydirtysoul",
          "Tear in My Heart",
          "My Blood",
          "Morph",
          "Neon Gravestones",
          "Holding On To You",
          "Levitate",
          "Kitchen Sink",
          "Migraine",
          "Message Man",
          "Jumpsuit",
          "Level of Concern",
          "Lane Boy",
          "We Don’t Believe What’s on TV",
          "Ode To Sleep",
          "The Judge",
          "Polarize",
          "Pet Cheetah",
          "Bandito",
          "Smithereens",
          "Guns for Hands",
          "Fairly Local",
          "Doubt",
          "The Hype",
          "Such A Simple Thing",
          "Jolene",
          "Let It Be Me",
          "Trouble",
          "Empty",
          "Hold You in My Arms",
          "You Are The Best Thing",
          "We’ll Make It Through",
          "It’s Always Been You",
          "Hey, No Pressure",
          "Shelter",
          "Burn",
          "Lesson Learned",
          "Hannah",
          "I Was Born to Love You",
          "Be Here Now",
          "Let’s Make It Last",
          "All The Wild Horses",
          "Without Words",
          "Strong Enough",
          "To the Sea",
          "Part of the Light",
          "Forever My Friend",
          "Paper Man",
          "In My Own Way",
          "I Still Care For You",
          "Sarah",
          "Supernova",
          "Homecoming",
          "Can I Stay",
          "Murder Most Foul",
          "Blowin’ in the Wind",
          "The Times They Are A-Changin’",
          "All Along the Watchtower",
          "Like a Rolling Stone",
          "Make You Feel My Love",
          "Hurricane",
          "Don’t Think Twice, It’s All Right",
          "Mr. Tambourine Man",
          "A Hard Rain’s A-Gonna Fall",
          "Subterranean Homesick Blues",
          "Desolation Row",
          "Tangled Up in Blue",
          "Masters of War",
          "Knockin’ on Heaven’s Door",
          "It’s Alright, Ma (I’m Only Bleeding)",
          "Girl from the North Country",
          "Tempest",
          "It’s All Over Now, Baby Blue",
          "Ballad of a Thin Man",
          "Take Me Home, Country Roads",
          "Annie’s Song",
          "Leaving on a Jet Plane",
          "Rocky Mountain High",
          "Home On The Range",
          "Thank God I’m a Country Boy",
          "Sunshine on My Shoulders",
          "My Sweet Lady",
          "Perhaps Love",
          "Follow Me",
          "I Guess He’d Rather Be in Colorado",
          "Calypso",
          "I’m Sorry",
          "Poems, Prayers, & Promises",
          "Today",
          "Back Home Again",
          "I’ve Been Working On The Railroad",
          "Casey’s Last Ride",
          "For Baby (For Bobbie)",
          "Grandma’s Feather Bed",
          "Rhymes & Reasons",
          "Homegrown Tomatoes",
          "Wild Montana Skies",
          "The Mountain Song",
          "This Old Guitar",
          "Prisoners",
          "Matthew",
          "The Ballad of Richard Nixon",
          "Windsong",
          "Looking For Space",
          "Fly Me to the Moon",
          "My Way",
          "That’s Life",
          "New York, New York",
          "The Girl From Ipanema (Garota De Ipanema)",
          "Somethin’ Stupid",
          "The Way You Look Tonight",
          "Come Fly with Me",
          "I’ve Got You Under My Skin",
          "Have Yourself a Merry Little Christmas",
          "My Funny Valentine",
          "It Was a Very Good Year",
          "Strangers in the Night",
          "Blue Moon",
          "Luck Be a Lady",
          "You Make Me Feel So Young",
          "Let It Snow! Let It Snow! Let It Snow!",
          "High Hopes",
          "It Had To Be You",
          "Autumn Leaves",
          "In the Wee Small Hours of the Morning",
          "The Best Is Yet to Come",
          "Quiet Nights of Quiet Stars (Corcovado)",
          "The Lady Is a Tramp",
          "L O V E",
          "I’m a Fool to Want You",
          "Witchcraft",
          "One for My Baby (And One More for the Road)",
          "Jingle Bells",
          "The Shadow Of Your Smile",
          "Bohemian Rhapsody",
          "Don’t Stop Me Now",
          "Love of My Life",
          "Killer Queen",
          "Another One Bites the Dust",
          "We Will Rock You",
          "Radio Ga Ga",
          "We Are the Champions",
          "The Show Must Go On",
          "Somebody to Love",
          "I Want to Break Free",
          "Fat Bottomed Girls",
          "Bicycle Race",
          "Crazy Little Thing Called Love",
          "Hammer to Fall",
          "Good Old-Fashioned Lover Boy",
          "You’re My Best Friend",
          "’39",
          "I Want It All",
          "Save Me",
          "Innuendo",
          "Death on Two Legs (Dedicated to...)",
          "I’m in Love with My Car",
          "A Kind of Magic",
          "Seven Seas of Rhye",
          "The March of the Black Queen",
          "One Vision",
          "Too Much Love Will Kill You",
          "The Prophet’s Song",
          "Flash’s Theme",
          "Your Song",
          "Rocket Man (I Think It’s Going to Be A Long, Long Time)",
          "Goodbye Yellow Brick Road",
          "Tiny Dancer",
          "Bennie And The Jets",
          "I’m Still Standing",
          "Can You Feel the Love Tonight (End Title)",
          "Don’t Let the Sun Go Down on Me",
          "Candle In The Wind",
          "Daniel",
          "Saturday Night’s Alright (For Fighting)",
          "Crocodile Rock",
          "I Guess That’s Why They Call It the Blues",
          "Candle in the Wind 1997",
          "Sacrifice",
          "Levon",
          "Border Song",
          "Mona Lisas and Mad Hatters",
          "Someone Saved My Life Tonight",
          "Honky Cat",
          "The One",
          "The Bitch is Back",
          "Sorry Seems to Be the Hardest Word",
          "Electricity (Billy Elliot)",
          "I Think I’m Going to Kill Myself",
          "Circle of Life",
          "Funeral for a Friend/Love Lies Bleeding",
          "Philadelphia Freedom",
          "All The Girls Love Alice",
          "Take Me to the Pilot",
          "Freedom! ’90",
          "Faith",
          "Father Figure",
          "One More Try",
          "As",
          "Fastlove",
          "I Want Your Sex (Pts. I & II)",
          "Jesus to a Child",
          "Kissing a Fool",
          "Praying For Time",
          "Cowboys and Angels",
          "They Won’t Go When I Go",
          "You Have Been Loved",
          "Amazing",
          "Last Christmas",
          "This Kind Of Love",
          "A Different Corner",
          "Heal the Pain",
          "Spinning the Wheel",
          "Outside",
          "Too Funky",
          "Monkey",
          "Older",
          "Going To A Town",
          "I Can’t Make You Love Me",
          "The First Time Ever I Saw Your Face",
          "Waiting For That Day/You Can’t Always Get What You Want",
          "Shoot the Dog",
          "Star People",
          "Tonight"
         ],
         "type": "scatter",
         "x": {
          "bdata": "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",
          "dtype": "f4"
         },
         "y": {
          "bdata": "GOKtQLIv1EBt4TlAGOtTQN0otUCXw0NA3/ZFQASYpkDSu8NAVEdWQIopnkBMplZAW6k+QPDFekBg56VA71hGQFpALkC7tuJA1yCpQJ20xEDwOY1AboqPQITwnUD62UNATx7NP8vkK0B0OZlATqiXQMwexUDfdLZAi32GQKUhy0At9VpAkXCnQDkYtkDUwT9ATsiXQLDDkUDdbWJAL4y7QDtMg0Ce+z5AvhXHQFo3yEArD1dAqreiQCrsrkDFXZRA38o+QCKfbj/WgYZARly0QHtZYUC/NoRAZMUBQVIbvj8Z7alARhCKQCKcikAhaa5AxqIiQBXXk0D0gYlAPmnLQJLux0BGgapALvfUQJNJmUCG2LVA2+K2QGyQmkB9B35AV8xkQJMZjUBbOjJAgn6BQKJZiEA5OxlA/k2HQEdrnUBtnZlApbtnQEAiskCxQ8ZA3PGPQBEFXEBk0L5AmitKQPmgWUBvlrw/AoaFQLjZmUBQytVALH7aQNODh0DjM6dAqzqxQLvLDkAgZblAiYsiP0IfxkDPX0pAjuzsQNMufEBE81pAnos5QKKD2EBg2HZA1WDmQI1yG0D/ZghAZm6CQPkG4EBWRK9AcsEiQH3AekCOgTdAIrpiQJNpPUAKBfdANmiKQHldDEBVMXpApj0zQN9o1UCjzYRAoNTaP5YL7kBPBeU+rlHhQEOJ/0DTfE4/NRHkQEp1wD8NuslAXDmVQLSR4kAD9/o/DgnWQKM+7UAkfJxAEuO7QLISeUChJPpAWPXqQN8Q+0AZYe9AbsUCQbgm1kAmIslAE7zeQJLSq0D8GcZAycGlQKvk00DfK8ZApVjqQKUACEEo3LdA2kaSQAwLrkDygpdAyg4XQInfnEDj6htAYIPwQF6HBEHgZ9JAHyi5QHCN7UD6vfVADx4lP+dnQkBFid5AXMiqQGMXqUC5/MNAAJj4QEdGUEBG7NlAcQm6QPYS2UCWdxdAi8XXQCa28UArLAlBuCX2QN6YuEDBLMZA/Mk4QLIPOkA78dtAtRQsQInNAEE9gOZAIUcRQY6KlkDtYsI+OFeNP7cWykAwc+BAXZUIQdHM8kBXavQ+sYvsQKgTh0DSv+I+2YXsQO8ypEAF6nJAPzynPmzG6D/LjAlB7k7GQMo6D0G0ITdAgSlgQKWO3kDPoM0/t0njQH6qwj+vztg/JUrUQImC/kAwUT5ACUTGQCvHMUDn6xBAYNayQJe5zkDwsohATwCrQFTTwkBm5zlAPuw1QJOaIUCb7rs/EF7ZPz9JUkB4cc5AFumMP+KR+EDRnWlA8TsEP3wE0D/PmoVAkNtpQGnV80ArKSpAMCvRQJ2cnkDx2VJAnNqOQDNhxT7ACPpAzR2mQH2coUBEI8w/jAanQHs5B0G1y+1ACsPvP3qJ6D9wgMA+n9SRQGO1ckDrLMM/e+udQG2JVD+YWoS/36GAQA06WT/haCBAtGL+QA+cCEB8qVNA1SR1QKa1VkALcqw/pqDHP/6M00AuMb6+6LotQCzexT9A39JA5DPSQMsio0Dn7tBA73z1P5PV7kAHpTVAFMSnQN525T2jQPdATjE7QNN68z9JNfNAawu2QPn0LEDnt2VAFWT4QEczx0CyGI89bIcGQIjlkEA+59dAj50AQX0j+kCUDVRAxqkcQMMG+kD2kkdAyvz2QMDX90ByAgdBiafUP9oJ0EAgjdBAwnK1QMjTAUGd7gZBg6s6QGSiDkFbhvlACYkGQTqRhUAmQPxAHjLeQCbs6UBnNcpAY73qQNo3AUERim5AKXntQIiaAEF5jwZBJKBrQJ/ls0BoRO1A5KwGQecGA0HTfSBAX2bcQAabgECNAMZAMSs6QF85RUCGBTBANrHXPxjPS0Cqg4RA7SceQFFST0BVhMA/cghjQAObgEAgQBdAyT08QL0TI0Dj7rg/CiM1QKLTcEBkXS5AWnm/QIs62T8c1SVA7LTQP6Vt2j+DqWdAo9YxQG8yfUB/tjVA+BwQQAnpBkAQcM4/HTtTP8HhJEAIkuJAR/AtQBauI0DFEaZAzMsEQSH0s0B1OwNBSpSPQBLRnECsbixAsoChQK4U4EAzDsdAmMiTQDVRqkB+rqRABi4xQPYkBUG5rTJAboc0QD02lEA+PKVA1lJ1QN+FzEDc+AJBkh1UQFFpoUDM4NBAtnjQP1Cjnj4nHgU/beN9v2ztuz6zo0JAIYvOPzE7gED7xclAEVVJQAtO4D4jjAY/P17CP4kJxUBBbsZAC66wPx97ckC8uoO/Qs0LP6Yhi0Bud29Aq2g2QFWeekDlsY1ATS8uQC3gVUD61eBA+k6hQLAvy0ALhC9AcxHgQK8E9UAE1nNAdUOtQGV5B0BCwAdBTMy8QEJg4UCVSgtAjlLZQGDmo0C+R9BAJ5fcQFFrkkCzzNRA///TQAX5e0AAfY1AH8sCQJDB1UCgHmVA0YWIQCRxDUBwj/VAC5v+QLzSs0D1ffBA62jtQOytwkAVgrBA703GQOj8bUAlZcZAG+iOQCoH0EBjNaZA+KbwQA1vBUHI5gNBBiwHQYaKg0C/B/BAi8/yQFR+BUGgnZJAiii2QM7k80CnCKRAQ5WiQBb2dkAhGR8/KJKMPanIYT/jBio/14ytQGPnbEAIPd1AmjNuQGdC0j/zMYNAB47oQJlUCkDp2c8/m7goQMmMaj+0x1M/SSgsP7qmjj9aVKA/aaclQFAxvr56YGxA+O0VPd6ihD/6jsRAA27LP7YelT8GMr6+a6MJQI/vskCCpcZA6LlNQPN96kAf181Az1zAQNbOx0Ay5OpA+ESMQH3cdEA4MsxA4o20QO/cy0B6UL5Az5PPQPJGyEDioqhAX8y7QEAsnkDlwNFAyrLjQPW84kCfbulATrfDQLcbskBF/utASmVZQPCB60AF/8lAFxvNQEbOo0C3DHZA0CGxQF6Qc0Bzazy9DJiQQKhiy0Cu/ds+zspwQCFM3T8BWd1A8XQMP1ZCm0BZ/otAomGUQDT3WkCgCms+Gh5RQG51H0B5irZAngzZQEMdIUB75bpAE30nvHD71T7wVBBAKkR1QCh5ZEDaZZ9APNVrQKEVIUDhyAdB6cP6P4Sj6EBlMuhA0KvKQHWt2D/NUgdBGuomQCoT8EDlNbxAdmzgQNbB5EBnU0NACPvNQA4x7kCxYedAr7yJQH9Y4EDNP7xAaHXvQAtW/T/4TaY/89TGQK7xzkDNNs1A2poOQGjH+j/yytg/PA6sQLTAoz+kjM5Aq/LBQGLuj0BiNTdAq14BQEuWCEAzZsdAsU4LQMFy7T8CxhRAhSC/QNQq20D4gdFAHUSHQGhzq0AYtxVAc5XRQAKF5kDH/71ATc8rQPeKiD+rHrFAQNTMQEJoEEEMj2lAEhomQJtLEkBFR5lAVF9fQImfbUAM4hFAdkPfP1uQiz8qTbo/cIEpQAa1nz/Be0pAxs3DQAy5XEDZMb6+hiOUP/wEhz9A9xlA7fzjQPkAKj8XcGhAzlysQD5n+0CDmXBA41cBQNNy7ED4BZpA5RnIP3SxOkCP5OtAHnraQIkHgUA2rG5AL1WEQIdtfEDfJIVAtucAQSlHl0BdFJFAr0naQHdaHkD+rxE/zULAQDeM3UDYpZZASYjBQPLqykBCWpVA/rTRQL/evkB5PuBAbZL0QM1AbEDsCPVABgXlQJv0FUCUPZpAk0opQOwxjEDgvOlAkdFfQPV+G0DcTnJAMk6yQK6Y/ECD9fdAKbT+QK2XvT9KZ8xA7jyRQD9O1kDa09NAQucLQUl7QEAXKM9AuKHeP15w0EACNyFAhWDPQEH+AEEBpx9AFy2nQCmpv0A76eZAYdfnQF9XQj0yXbc+yDyvPnOJwUAGN9c/pmyQQMWLm0DbxK1ARxVhQPrw1EC9+1xAzZO3QFEX0kC9zpNAG5BEQGE95z4wM6VAkGnEPumij0AezhFAGfaVQBJ9JkB0ZLtAC2r1QA+xYkBjrsw/dBpqQCqG6EBVDWdA81RpQA==",
          "dtype": "f4"
         }
        }
       ],
       "layout": {
        "height": 750,
        "template": {
         "data": {
          "bar": [
           {
            "error_x": {
             "color": "#2a3f5f"
            },
            "error_y": {
             "color": "#2a3f5f"
            },
            "marker": {
             "line": {
              "color": "#E5ECF6",
              "width": 0.5
             },
             "pattern": {
              "fillmode": "overlay",
              "size": 10,
              "solidity": 0.2
             }
            },
            "type": "bar"
           }
          ],
          "barpolar": [
           {
            "marker": {
             "line": {
              "color": "#E5ECF6",
              "width": 0.5
             },
             "pattern": {
              "fillmode": "overlay",
              "size": 10,
              "solidity": 0.2
             }
            },
            "type": "barpolar"
           }
          ],
          "carpet": [
           {
            "aaxis": {
             "endlinecolor": "#2a3f5f",
             "gridcolor": "white",
             "linecolor": "white",
             "minorgridcolor": "white",
             "startlinecolor": "#2a3f5f"
            },
            "baxis": {
             "endlinecolor": "#2a3f5f",
             "gridcolor": "white",
             "linecolor": "white",
             "minorgridcolor": "white",
             "startlinecolor": "#2a3f5f"
            },
            "type": "carpet"
           }
          ],
          "choropleth": [
           {
            "colorbar": {
             "outlinewidth": 0,
             "ticks": ""
            },
            "type": "choropleth"
           }
          ],
          "contour": [
           {
            "colorbar": {
             "outlinewidth": 0,
             "ticks": ""
            },
            "colorscale": [
             [
              0,
              "#0d0887"
             ],
             [
              0.1111111111111111,
              "#46039f"
             ],
             [
              0.2222222222222222,
              "#7201a8"
             ],
             [
              0.3333333333333333,
              "#9c179e"
             ],
             [
              0.4444444444444444,
              "#bd3786"
             ],
             [
              0.5555555555555556,
              "#d8576b"
             ],
             [
              0.6666666666666666,
              "#ed7953"
             ],
             [
              0.7777777777777778,
              "#fb9f3a"
             ],
             [
              0.8888888888888888,
              "#fdca26"
             ],
             [
              1,
              "#f0f921"
             ]
            ],
            "type": "contour"
           }
          ],
          "contourcarpet": [
           {
            "colorbar": {
             "outlinewidth": 0,
             "ticks": ""
            },
            "type": "contourcarpet"
           }
          ],
          "heatmap": [
           {
            "colorbar": {
             "outlinewidth": 0,
             "ticks": ""
            },
            "colorscale": [
             [
              0,
              "#0d0887"
             ],
             [
              0.1111111111111111,
              "#46039f"
             ],
             [
              0.2222222222222222,
              "#7201a8"
             ],
             [
              0.3333333333333333,
              "#9c179e"
             ],
             [
              0.4444444444444444,
              "#bd3786"
             ],
             [
              0.5555555555555556,
              "#d8576b"
             ],
             [
              0.6666666666666666,
              "#ed7953"
             ],
             [
              0.7777777777777778,
              "#fb9f3a"
             ],
             [
              0.8888888888888888,
              "#fdca26"
             ],
             [
              1,
              "#f0f921"
             ]
            ],
            "type": "heatmap"
           }
          ],
          "histogram": [
           {
            "marker": {
             "pattern": {
              "fillmode": "overlay",
              "size": 10,
              "solidity": 0.2
             }
            },
            "type": "histogram"
           }
          ],
          "histogram2d": [
           {
            "colorbar": {
             "outlinewidth": 0,
             "ticks": ""
            },
            "colorscale": [
             [
              0,
              "#0d0887"
             ],
             [
              0.1111111111111111,
              "#46039f"
             ],
             [
              0.2222222222222222,
              "#7201a8"
             ],
             [
              0.3333333333333333,
              "#9c179e"
             ],
             [
              0.4444444444444444,
              "#bd3786"
             ],
             [
              0.5555555555555556,
              "#d8576b"
             ],
             [
              0.6666666666666666,
              "#ed7953"
             ],
             [
              0.7777777777777778,
              "#fb9f3a"
             ],
             [
              0.8888888888888888,
              "#fdca26"
             ],
             [
              1,
              "#f0f921"
             ]
            ],
            "type": "histogram2d"
           }
          ],
          "histogram2dcontour": [
           {
            "colorbar": {
             "outlinewidth": 0,
             "ticks": ""
            },
            "colorscale": [
             [
              0,
              "#0d0887"
             ],
             [
              0.1111111111111111,
              "#46039f"
             ],
             [
              0.2222222222222222,
              "#7201a8"
             ],
             [
              0.3333333333333333,
              "#9c179e"
             ],
             [
              0.4444444444444444,
              "#bd3786"
             ],
             [
              0.5555555555555556,
              "#d8576b"
             ],
             [
              0.6666666666666666,
              "#ed7953"
             ],
             [
              0.7777777777777778,
              "#fb9f3a"
             ],
             [
              0.8888888888888888,
              "#fdca26"
             ],
             [
              1,
              "#f0f921"
             ]
            ],
            "type": "histogram2dcontour"
           }
          ],
          "mesh3d": [
           {
            "colorbar": {
             "outlinewidth": 0,
             "ticks": ""
            },
            "type": "mesh3d"
           }
          ],
          "parcoords": [
           {
            "line": {
             "colorbar": {
              "outlinewidth": 0,
              "ticks": ""
             }
            },
            "type": "parcoords"
           }
          ],
          "pie": [
           {
            "automargin": true,
            "type": "pie"
           }
          ],
          "scatter": [
           {
            "fillpattern": {
             "fillmode": "overlay",
             "size": 10,
             "solidity": 0.2
            },
            "type": "scatter"
           }
          ],
          "scatter3d": [
           {
            "line": {
             "colorbar": {
              "outlinewidth": 0,
              "ticks": ""
             }
            },
            "marker": {
             "colorbar": {
              "outlinewidth": 0,
              "ticks": ""
             }
            },
            "type": "scatter3d"
           }
          ],
          "scattercarpet": [
           {
            "marker": {
             "colorbar": {
              "outlinewidth": 0,
              "ticks": ""
             }
            },
            "type": "scattercarpet"
           }
          ],
          "scattergeo": [
           {
            "marker": {
             "colorbar": {
              "outlinewidth": 0,
              "ticks": ""
             }
            },
            "type": "scattergeo"
           }
          ],
          "scattergl": [
           {
            "marker": {
             "colorbar": {
              "outlinewidth": 0,
              "ticks": ""
             }
            },
            "type": "scattergl"
           }
          ],
          "scattermap": [
           {
            "marker": {
             "colorbar": {
              "outlinewidth": 0,
              "ticks": ""
             }
            },
            "type": "scattermap"
           }
          ],
          "scattermapbox": [
           {
            "marker": {
             "colorbar": {
              "outlinewidth": 0,
              "ticks": ""
             }
            },
            "type": "scattermapbox"
           }
          ],
          "scatterpolar": [
           {
            "marker": {
             "colorbar": {
              "outlinewidth": 0,
              "ticks": ""
             }
            },
            "type": "scatterpolar"
           }
          ],
          "scatterpolargl": [
           {
            "marker": {
             "colorbar": {
              "outlinewidth": 0,
              "ticks": ""
             }
            },
            "type": "scatterpolargl"
           }
          ],
          "scatterternary": [
           {
            "marker": {
             "colorbar": {
              "outlinewidth": 0,
              "ticks": ""
             }
            },
            "type": "scatterternary"
           }
          ],
          "surface": [
           {
            "colorbar": {
             "outlinewidth": 0,
             "ticks": ""
            },
            "colorscale": [
             [
              0,
              "#0d0887"
             ],
             [
              0.1111111111111111,
              "#46039f"
             ],
             [
              0.2222222222222222,
              "#7201a8"
             ],
             [
              0.3333333333333333,
              "#9c179e"
             ],
             [
              0.4444444444444444,
              "#bd3786"
             ],
             [
              0.5555555555555556,
              "#d8576b"
             ],
             [
              0.6666666666666666,
              "#ed7953"
             ],
             [
              0.7777777777777778,
              "#fb9f3a"
             ],
             [
              0.8888888888888888,
              "#fdca26"
             ],
             [
              1,
              "#f0f921"
             ]
            ],
            "type": "surface"
           }
          ],
          "table": [
           {
            "cells": {
             "fill": {
              "color": "#EBF0F8"
             },
             "line": {
              "color": "white"
             }
            },
            "header": {
             "fill": {
              "color": "#C8D4E3"
             },
             "line": {
              "color": "white"
             }
            },
            "type": "table"
           }
          ]
         },
         "layout": {
          "annotationdefaults": {
           "arrowcolor": "#2a3f5f",
           "arrowhead": 0,
           "arrowwidth": 1
          },
          "autotypenumbers": "strict",
          "coloraxis": {
           "colorbar": {
            "outlinewidth": 0,
            "ticks": ""
           }
          },
          "colorscale": {
           "diverging": [
            [
             0,
             "#8e0152"
            ],
            [
             0.1,
             "#c51b7d"
            ],
            [
             0.2,
             "#de77ae"
            ],
            [
             0.3,
             "#f1b6da"
            ],
            [
             0.4,
             "#fde0ef"
            ],
            [
             0.5,
             "#f7f7f7"
            ],
            [
             0.6,
             "#e6f5d0"
            ],
            [
             0.7,
             "#b8e186"
            ],
            [
             0.8,
             "#7fbc41"
            ],
            [
             0.9,
             "#4d9221"
            ],
            [
             1,
             "#276419"
            ]
           ],
           "sequential": [
            [
             0,
             "#0d0887"
            ],
            [
             0.1111111111111111,
             "#46039f"
            ],
            [
             0.2222222222222222,
             "#7201a8"
            ],
            [
             0.3333333333333333,
             "#9c179e"
            ],
            [
             0.4444444444444444,
             "#bd3786"
            ],
            [
             0.5555555555555556,
             "#d8576b"
            ],
            [
             0.6666666666666666,
             "#ed7953"
            ],
            [
             0.7777777777777778,
             "#fb9f3a"
            ],
            [
             0.8888888888888888,
             "#fdca26"
            ],
            [
             1,
             "#f0f921"
            ]
           ],
           "sequentialminus": [
            [
             0,
             "#0d0887"
            ],
            [
             0.1111111111111111,
             "#46039f"
            ],
            [
             0.2222222222222222,
             "#7201a8"
            ],
            [
             0.3333333333333333,
             "#9c179e"
            ],
            [
             0.4444444444444444,
             "#bd3786"
            ],
            [
             0.5555555555555556,
             "#d8576b"
            ],
            [
             0.6666666666666666,
             "#ed7953"
            ],
            [
             0.7777777777777778,
             "#fb9f3a"
            ],
            [
             0.8888888888888888,
             "#fdca26"
            ],
            [
             1,
             "#f0f921"
            ]
           ]
          },
          "colorway": [
           "#636efa",
           "#EF553B",
           "#00cc96",
           "#ab63fa",
           "#FFA15A",
           "#19d3f3",
           "#FF6692",
           "#B6E880",
           "#FF97FF",
           "#FECB52"
          ],
          "font": {
           "color": "#2a3f5f"
          },
          "geo": {
           "bgcolor": "white",
           "lakecolor": "white",
           "landcolor": "#E5ECF6",
           "showlakes": true,
           "showland": true,
           "subunitcolor": "white"
          },
          "hoverlabel": {
           "align": "left"
          },
          "hovermode": "closest",
          "mapbox": {
           "style": "light"
          },
          "paper_bgcolor": "white",
          "plot_bgcolor": "#E5ECF6",
          "polar": {
           "angularaxis": {
            "gridcolor": "white",
            "linecolor": "white",
            "ticks": ""
           },
           "bgcolor": "#E5ECF6",
           "radialaxis": {
            "gridcolor": "white",
            "linecolor": "white",
            "ticks": ""
           }
          },
          "scene": {
           "xaxis": {
            "backgroundcolor": "#E5ECF6",
            "gridcolor": "white",
            "gridwidth": 2,
            "linecolor": "white",
            "showbackground": true,
            "ticks": "",
            "zerolinecolor": "white"
           },
           "yaxis": {
            "backgroundcolor": "#E5ECF6",
            "gridcolor": "white",
            "gridwidth": 2,
            "linecolor": "white",
            "showbackground": true,
            "ticks": "",
            "zerolinecolor": "white"
           },
           "zaxis": {
            "backgroundcolor": "#E5ECF6",
            "gridcolor": "white",
            "gridwidth": 2,
            "linecolor": "white",
            "showbackground": true,
            "ticks": "",
            "zerolinecolor": "white"
           }
          },
          "shapedefaults": {
           "line": {
            "color": "#2a3f5f"
           }
          },
          "ternary": {
           "aaxis": {
            "gridcolor": "white",
            "linecolor": "white",
            "ticks": ""
           },
           "baxis": {
            "gridcolor": "white",
            "linecolor": "white",
            "ticks": ""
           },
           "bgcolor": "#E5ECF6",
           "caxis": {
            "gridcolor": "white",
            "linecolor": "white",
            "ticks": ""
           }
          },
          "title": {
           "x": 0.05
          },
          "xaxis": {
           "automargin": true,
           "gridcolor": "white",
           "linecolor": "white",
           "ticks": "",
           "title": {
            "standoff": 15
           },
           "zerolinecolor": "white",
           "zerolinewidth": 2
          },
          "yaxis": {
           "automargin": true,
           "gridcolor": "white",
           "linecolor": "white",
           "ticks": "",
           "title": {
            "standoff": 15
           },
           "zerolinecolor": "white",
           "zerolinewidth": 2
          }
         }
        },
        "title": {
         "text": "Low dimensional view of embedded lyrics"
        },
        "width": 750
       }
      }
     },
     "metadata": {},
     "output_type": "display_data"
    }
   ],
   "source": [
    "fig_clustering = go.Figure()\n",
    "\n",
    "fig_clustering.add_trace(go.Scatter(\n",
    "    x=two_d_rep[:, 0],\n",
    "    y=two_d_rep[:,1],\n",
    "    mode='markers',\n",
    "    marker=dict(size=6),\n",
    "    text=lyrics['Title'],\n",
    "    hoverinfo='text'\n",
    "))\n",
    "\n",
    "fc_w = 750\n",
    "fc_h = 750\n",
    "fig_clustering.update_layout(\n",
    "    height=fc_h, width=fc_w,\n",
    "    title='Low dimensional view of embedded lyrics',\n",
    ")\n",
    "\n",
    "fig_clustering.show()"
   ]
  },
  {
   "cell_type": "code",
   "execution_count": 33,
   "id": "7d8f6060",
   "metadata": {},
   "outputs": [
    {
     "data": {
      "text/plain": [
       "array(['Taylor Swift', 'Billie Eilish', 'The Beatles', 'David Bowie',\n",
       "       'Billy Joel', 'Ed Sheeran', 'Eric Clapton', 'Bruce Springsteen',\n",
       "       'Vance Joy', 'Lana Del Rey', 'Bryan Adams', 'Leonard Cohen',\n",
       "       'Nat King Cole', 'twenty one pilots', 'Ray LaMontagne',\n",
       "       'Bob Dylan', 'John Denver', 'Frank Sinatra', 'Queen', 'Elton John',\n",
       "       'George Michael'], dtype=object)"
      ]
     },
     "execution_count": 33,
     "metadata": {},
     "output_type": "execute_result"
    }
   ],
   "source": [
    "# A reminder of the artists, which one would you like to see?\n",
    "lyrics['Artist'].unique()"
   ]
  },
  {
   "cell_type": "code",
   "execution_count": 38,
   "id": "c13f4fce",
   "metadata": {},
   "outputs": [
    {
     "data": {
      "application/vnd.plotly.v1+json": {
       "config": {
        "plotlyServerURL": "https://plot.ly"
       },
       "data": [
        {
         "hoverinfo": "text",
         "marker": {
          "size": 6
         },
         "mode": "markers",
         "name": "All artists",
         "text": [
          "cardigan",
          "exile",
          "Lover",
          "the 1",
          "Look What You Made Me Do",
          "betty",
          "august",
          "End Game",
          "You Need To Calm Down",
          "ME!",
          "Blank Space",
          "Ready for It?",
          "champagne problems",
          "willow",
          "my tears ricochet",
          "invisible string",
          "Cruel Summer",
          "the last great american dynasty",
          "Delicate",
          "Call It What You Want",
          "seven",
          "Style",
          "illicit affairs",
          "this is me trying",
          "Love Story",
          "evermore",
          "Gorgeous",
          "happiness",
          "peace",
          "mad woman",
          "mirrorball",
          "tolerate it",
          "The Man",
          "Don't Blame Me",
          "I Did Something Bad",
          "Dress",
          "no body, no crime",
          "ivy",
          "gold rush",
          "hoax",
          "Getaway Car",
          "All Too Well",
          "epiphany",
          "The Archer",
          "Mr. Perfectly Fine (Taylors Version) [From the Vault]",
          "Miss Americana & The Heartbreak Prince",
          "London Boy",
          "Bad Blood",
          "Cornelia Street",
          "Wildest Dreams",
          "​when the party’s over",
          "​bad guy",
          "​everything i wanted",
          "​idontwannabeyouanymore",
          "​bury a friend",
          "​i love you",
          "Your Power",
          "​wish you were gay",
          "No Time To Die",
          "Therefore I Am",
          "​​ocean eyes",
          "Happier Than Ever",
          "​my future",
          "​bellyache",
          "​you should see me in a crown",
          "​xanny",
          "​all the good girls go to hell",
          "​ilomilo",
          "COPYCAT",
          "​my strange addiction",
          "​listen before i go",
          "​watch",
          "​hostage",
          "​my boy",
          "Six Feet Under",
          "8",
          "​bitches broken hearts",
          "​​come out and play",
          "Bored",
          "NDA",
          "​​party favor",
          "6.18.18*",
          "​goodbye",
          "The End of the World",
          "Male Fantasy",
          "Lost Cause",
          "Oxytocin",
          "Billie Bossa Nova",
          "Getting Older",
          "Halley’s Comet",
          "WHEN I WAS OLDER",
          "I Didn’t Change My Number",
          "Not My Responsibility",
          "GOLDWING",
          "!!!!!!!",
          "OverHeated",
          "Everybody Dies",
          "​sHE’s brOKen",
          "Fingers Crossed",
          "​limbo*",
          "Let It Be",
          "Yesterday",
          "Come Together",
          "Hey Jude",
          "Here Comes the Sun",
          "Something",
          "A Day in the Life",
          "Blackbird",
          "I Am the Walrus",
          "Eleanor Rigby",
          "In My Life",
          "While My Guitar Gently Weeps",
          "Lucy in the Sky with Diamonds",
          "Across the Universe",
          "Strawberry Fields Forever",
          "With a Little Help from My Friends",
          "Michelle",
          "Help!",
          "I Want to Hold Your Hand",
          "Ob-La-Di, Ob-La-Da",
          "Yellow Submarine",
          "Norwegian Wood (This Bird Has Flown)",
          "Don’t Let Me Down",
          "When I’m Sixty-Four",
          "Rocky Raccoon",
          "Oh! Darling",
          "Back in the U.S.S.R.",
          "Happiness is a Warm Gun",
          "Golden Slumbers",
          "Penny Lane",
          "Helter Skelter",
          "All You Need Is Love",
          "Maxwell’s Silver Hammer",
          "She Loves You",
          "Revolution",
          "Space Oddity",
          "★ (Blackstar)",
          "Heroes",
          "Life on Mars?",
          "Starman",
          "Lazarus",
          "Changes",
          "The Man Who Sold the World",
          "Girl Loves Me",
          "Ashes to Ashes",
          "Moonage Daydream",
          "Ziggy Stardust",
          "Modern Love",
          "Five Years",
          "’Tis a Pity She Was a Whore",
          "I Can’t Give Everything Away",
          "Rock ‘n’ Roll Suicide",
          "Dollar Days",
          "Rebel Rebel",
          "Young Americans",
          "Station to Station",
          "Suffragette City",
          "Let’s Dance",
          "Oh! You Pretty Things",
          "Sue (Or in a Season of Crime)",
          "Soul Love",
          "China Girl",
          "Valentine’s Day",
          "Fame",
          "Sound and Vision",
          "Lady Stardust",
          "The Next Day",
          "Quicksand",
          "Diamond Dogs",
          "Queen Bitch",
          "I’m Afraid of Americans",
          "Golden Years",
          "Scary Monsters (and Super Creeps)",
          "Star",
          "Time",
          "Hang on to Yourself",
          "Sweet Thing",
          "It Ain’t Easy",
          "Cat People (Putting Out Fire)",
          "The Jean Genie",
          "Love Is Lost",
          "Where Are We Now?",
          "The Stars (Are Out Tonight)",
          "Andy Warhol",
          "The Bewlay Brothers",
          "We Didn’t Start the Fire",
          "Piano Man",
          "Vienna",
          "Uptown Girl",
          "The Longest Time",
          "She’s Always a Woman",
          "Movin’ Out (Anthony’s Song)",
          "Just the Way You Are",
          "Only the Good Die Young",
          "Scenes from an Italian Restaurant",
          "New York State of Mind",
          "My Life",
          "Honesty",
          "The Stranger",
          "Goodnight Saigon",
          "It’s Still Rock and Roll to Me",
          "Allentown",
          "Captain Jack",
          "And So it Goes",
          "Big Shot",
          "The Downeaster “Alexa”",
          "An Innocent Man",
          "Zanzibar",
          "You May Be Right",
          "The River of Dreams",
          "Lullabye (Goodnight, My Angel)",
          "Leningrad",
          "Miami 2017 (Seen the Lights Go Out on Broadway)",
          "Summer, Highland Falls",
          "Why Should I Worry",
          "She’s Got a Way",
          "Don’t Ask Me Why",
          "Pressure",
          "A Matter of Trust",
          "The Entertainer",
          "Tell Her About it",
          "Keeping the Faith",
          "The Ballad of Billy the Kid",
          "Say Goodbye to Hollywood",
          "Tomorrow Is Today",
          "James",
          "All for Leyna",
          "You’re My Home",
          "Laura",
          "Prelude / Angry Young Man",
          "Stiletto",
          "I Go to Extremes",
          "Everybody Loves You Now",
          "C’Etait Toi (You Were the One)",
          "Get It Right The First Time",
          "Shape of You",
          "Perfect",
          "Castle on the Hill",
          "Happier",
          "Supermarket Flowers",
          "Thinking Out Loud",
          "Galway Girl",
          "Dive",
          "Photograph",
          "Don’t",
          "The A Team",
          "South of the Border",
          "I See Fire",
          "Beautiful People",
          "Eraser",
          "Remember the Name",
          "Afterglow",
          "New Man",
          "How Would You Feel (Paean)",
          "Nancy Mulligan",
          "Tears In Heaven",
          "Cocaine",
          "Wonderful Tonight",
          "Change the World",
          "I Shot the Sheriff",
          "My Father’s Eyes",
          "Let It Rain",
          "Lay Down Sally",
          "Let It Grow",
          "Layla (unplugged)",
          "Old Love",
          "Promises",
          "Before You Accuse Me",
          "Little Wing",
          "Have You Ever Loved A Woman",
          "It’s in the Way That You Use It",
          "Circus",
          "Magnolia",
          "Crossroads",
          "Pretending",
          "The Core",
          "I Will Be There",
          "After Midnight",
          "Bad Love",
          "Next Time You See Her",
          "Tulsa Time",
          "Autumn Leaves",
          "Please Be with Me",
          "Goodnight Irene",
          "Motherless Children",
          "Key To The Highway",
          "River of Tears",
          "Holy Mother",
          "Forever Man",
          "Knockin’ On Heaven’s Door",
          "Sign Language",
          "If I Could Change The World",
          "Running on Faith (Unplugged version)",
          "Somebody’s Knockin’",
          "I’ll Be Alright",
          "Mainline Florida",
          "Can’t Find My Way Home",
          "May You Never",
          "Willie and the Hand Jive",
          "Blue Eyes Blue",
          "Double Trouble",
          "Train to Nowhere",
          "Running On Faith",
          "Hello Old Friend",
          "I’m Tore Down",
          "Born in the U.S.A.",
          "Born to Run",
          "Dancing in the Dark",
          "I’m on Fire",
          "Thunder Road",
          "Blinded by the Light",
          "The River",
          "Atlantic City",
          "Hungry Heart",
          "Jungleland",
          "Glory Days",
          "Badlands",
          "My Hometown",
          "Streets of Philadelphia",
          "Backstreets",
          "The Ghost of Tom Joad",
          "Secret Garden",
          "Tenth Avenue Freeze Out",
          "Racing in the Street",
          "Nebraska",
          "I’m Goin’ Down",
          "If I Was the Priest",
          "Growin’ Up",
          "Rosalita (Come Out Tonight)",
          "Darkness on the Edge of Town",
          "The Rising",
          "Spirit in the Night",
          "When You Need Me",
          "Western Stars",
          "State Trooper",
          "American Skin (41 Shots)",
          "Tougher Than the Rest",
          "Letter to You",
          "The Promised Land",
          "4th of July, Asbury Park (Sandy)",
          "Janey Needs a Shooter",
          "I’ll See You in My Dreams",
          "No Surrender",
          "Fire",
          "Downbound Train",
          "Riptide",
          "Georgia",
          "Mess Is Mine",
          "I’m with You",
          "Fire and the Flood",
          "Lay It on Me",
          "Saturday Sun",
          "Like Gold",
          "Call If You Need Me",
          "We’re Going Home",
          "From Afar",
          "Take Your Time",
          "Wasted Time",
          "Alone With Me",
          "Straight Into Your Arms",
          "Red Eye",
          "Crashing Into You",
          "First Time",
          "One of These Days",
          "Emmylou",
          "Missing Piece",
          "Bonnie & Clyde",
          "Little Boy",
          "Who Am I",
          "My Kind of Man",
          "Where We Start",
          "Great Summer",
          "Snaggletooth",
          "We All Die Trying to Get It Right",
          "Winds of Change",
          "Young and Beautiful",
          "Summertime Sadness",
          "Love",
          "Lust for Life",
          "Born to Die",
          "Video Games",
          "West Coast",
          "Norman fucking Rockwell",
          "High By The Beach",
          "​hope is a dangerous thing for a woman like me to have - but i have it",
          "Cherry",
          "Mariners Apartment Complex",
          "Venice Bitch",
          "Ultraviolence",
          "Carmen",
          "Off to the Races",
          "Blue Jeans",
          "National Anthem",
          "Doin’ Time",
          "Fuck it I love you",
          "Summer Bummer",
          "Ride Monologue",
          "Love song",
          "Brooklyn Baby",
          "Cinnamon Girl",
          "Ride",
          "The greatest",
          "Happiness is a butterfly",
          "Cola",
          "Get Free",
          "Summer of ’69",
          "Heaven",
          "(Everything I Do) I Do It for You",
          "Have You Ever Really Loved a Woman?",
          "Please Forgive Me",
          "Run to You",
          "When You Love Someone",
          "Sound the Bugle",
          "When You’re Gone",
          "Here I Am",
          "Please Stay",
          "All For Love",
          "Straight from the Heart",
          "Empty Spaces/What Shall We Do Now?",
          "Shine a Light",
          "I Finally Found Someone",
          "You Can’t Take Me",
          "When You Really Love A Woman",
          "It’s Only Love",
          "Cuts Like a Knife",
          "Christmas Time",
          "I Will Always Return (Finale)",
          "Somebody",
          "Diana",
          "I Will Always Return",
          "Nothing I’ve Ever Known",
          "The Only Thing That Looks Good on Me Is You",
          "Cloud Number Nine",
          "You Belong to Me",
          "Brothers Under the Sun",
          "Hallelujah",
          "You Want It Darker",
          "Suzanne",
          "Chelsea Hotel No. 2",
          "Famous Blue Raincoat",
          "Dance Me to the End of Love",
          "Everybody Knows",
          "Anthem",
          "So Long, Marianne",
          "The Future",
          "Treaty",
          "Nevermind",
          "Bird on the Wire",
          "A Thousand Kisses Deep (spoken word)",
          "The Partisan",
          "Avalanche",
          "The Stranger Song",
          "A Thousand Kisses Deep",
          "Hey, That’s No Way to Say Goodbye",
          "First We Take Manhattan",
          "I’m Your Man",
          "Leaving the Table",
          "One of Us Cannot Be Wrong",
          "Who by Fire",
          "Sisters of Mercy",
          "Take This Waltz",
          "Democracy",
          "On the Level",
          "If It Be Your Will",
          "Is This What You Wanted",
          "In My Secret Life",
          "Traveling Light",
          "Master Song",
          "It Seemed the Better Way",
          "Happens to the Heart",
          "If I Didn’t Have Your Love",
          "Steer Your Way",
          "Closing Time",
          "Last Year’s Man",
          "Thanks for the Dance",
          "The Goal",
          "Lover Lover Lover",
          "Joan of Arc",
          "Waiting for the Miracle",
          "Tower of Song",
          "Dress Rehearsal Rag",
          "Story of Isaac",
          "String Reprise/Treaty",
          "Moving On",
          "The Night of Santiago",
          "L-O-V-E",
          "Smile",
          "Unforgettable",
          "Daisy Bell (Bicycle Built for Two)",
          "Nature Boy",
          "The Christmas Song",
          "Mona Lisa",
          "Chestnuts Roasting on an Open Fire",
          "When I Fall In Love",
          "Orange Colored Sky",
          "(Get Your Kicks On) Route 66 [1946 Version]",
          "Stardust",
          "Too Young",
          "Straighten Up and Fly Right",
          "That’s All",
          "Let There Be Love",
          "On a Bicycle Built for Two",
          "Fascination",
          "The Very Thought of You",
          "Those Lazy, Hazy, Crazy Days of Summer",
          "Autumn Leaves",
          "O Tannenbaum",
          "Pretend",
          "(I Love You) For Sentimental Reasons",
          "Pick Yourself Up",
          "Ramblin’ Rose",
          "Love Me as Though There Were No Tomorrow",
          "Autumn Leaves (French version)",
          "Perfidia",
          "Lush Life",
          "Heathens",
          "Stressed Out",
          "Ride",
          "Chlorine",
          "Nico And The Niners",
          "Car Radio",
          "Heavydirtysoul",
          "Tear in My Heart",
          "My Blood",
          "Morph",
          "Neon Gravestones",
          "Holding On To You",
          "Levitate",
          "Kitchen Sink",
          "Migraine",
          "Message Man",
          "Jumpsuit",
          "Level of Concern",
          "Lane Boy",
          "We Don’t Believe What’s on TV",
          "Ode To Sleep",
          "The Judge",
          "Polarize",
          "Pet Cheetah",
          "Bandito",
          "Smithereens",
          "Guns for Hands",
          "Fairly Local",
          "Doubt",
          "The Hype",
          "Such A Simple Thing",
          "Jolene",
          "Let It Be Me",
          "Trouble",
          "Empty",
          "Hold You in My Arms",
          "You Are The Best Thing",
          "We’ll Make It Through",
          "It’s Always Been You",
          "Hey, No Pressure",
          "Shelter",
          "Burn",
          "Lesson Learned",
          "Hannah",
          "I Was Born to Love You",
          "Be Here Now",
          "Let’s Make It Last",
          "All The Wild Horses",
          "Without Words",
          "Strong Enough",
          "To the Sea",
          "Part of the Light",
          "Forever My Friend",
          "Paper Man",
          "In My Own Way",
          "I Still Care For You",
          "Sarah",
          "Supernova",
          "Homecoming",
          "Can I Stay",
          "Murder Most Foul",
          "Blowin’ in the Wind",
          "The Times They Are A-Changin’",
          "All Along the Watchtower",
          "Like a Rolling Stone",
          "Make You Feel My Love",
          "Hurricane",
          "Don’t Think Twice, It’s All Right",
          "Mr. Tambourine Man",
          "A Hard Rain’s A-Gonna Fall",
          "Subterranean Homesick Blues",
          "Desolation Row",
          "Tangled Up in Blue",
          "Masters of War",
          "Knockin’ on Heaven’s Door",
          "It’s Alright, Ma (I’m Only Bleeding)",
          "Girl from the North Country",
          "Tempest",
          "It’s All Over Now, Baby Blue",
          "Ballad of a Thin Man",
          "Take Me Home, Country Roads",
          "Annie’s Song",
          "Leaving on a Jet Plane",
          "Rocky Mountain High",
          "Home On The Range",
          "Thank God I’m a Country Boy",
          "Sunshine on My Shoulders",
          "My Sweet Lady",
          "Perhaps Love",
          "Follow Me",
          "I Guess He’d Rather Be in Colorado",
          "Calypso",
          "I’m Sorry",
          "Poems, Prayers, & Promises",
          "Today",
          "Back Home Again",
          "I’ve Been Working On The Railroad",
          "Casey’s Last Ride",
          "For Baby (For Bobbie)",
          "Grandma’s Feather Bed",
          "Rhymes & Reasons",
          "Homegrown Tomatoes",
          "Wild Montana Skies",
          "The Mountain Song",
          "This Old Guitar",
          "Prisoners",
          "Matthew",
          "The Ballad of Richard Nixon",
          "Windsong",
          "Looking For Space",
          "Fly Me to the Moon",
          "My Way",
          "That’s Life",
          "New York, New York",
          "The Girl From Ipanema (Garota De Ipanema)",
          "Somethin’ Stupid",
          "The Way You Look Tonight",
          "Come Fly with Me",
          "I’ve Got You Under My Skin",
          "Have Yourself a Merry Little Christmas",
          "My Funny Valentine",
          "It Was a Very Good Year",
          "Strangers in the Night",
          "Blue Moon",
          "Luck Be a Lady",
          "You Make Me Feel So Young",
          "Let It Snow! Let It Snow! Let It Snow!",
          "High Hopes",
          "It Had To Be You",
          "Autumn Leaves",
          "In the Wee Small Hours of the Morning",
          "The Best Is Yet to Come",
          "Quiet Nights of Quiet Stars (Corcovado)",
          "The Lady Is a Tramp",
          "L O V E",
          "I’m a Fool to Want You",
          "Witchcraft",
          "One for My Baby (And One More for the Road)",
          "Jingle Bells",
          "The Shadow Of Your Smile",
          "Bohemian Rhapsody",
          "Don’t Stop Me Now",
          "Love of My Life",
          "Killer Queen",
          "Another One Bites the Dust",
          "We Will Rock You",
          "Radio Ga Ga",
          "We Are the Champions",
          "The Show Must Go On",
          "Somebody to Love",
          "I Want to Break Free",
          "Fat Bottomed Girls",
          "Bicycle Race",
          "Crazy Little Thing Called Love",
          "Hammer to Fall",
          "Good Old-Fashioned Lover Boy",
          "You’re My Best Friend",
          "’39",
          "I Want It All",
          "Save Me",
          "Innuendo",
          "Death on Two Legs (Dedicated to...)",
          "I’m in Love with My Car",
          "A Kind of Magic",
          "Seven Seas of Rhye",
          "The March of the Black Queen",
          "One Vision",
          "Too Much Love Will Kill You",
          "The Prophet’s Song",
          "Flash’s Theme",
          "Your Song",
          "Rocket Man (I Think It’s Going to Be A Long, Long Time)",
          "Goodbye Yellow Brick Road",
          "Tiny Dancer",
          "Bennie And The Jets",
          "I’m Still Standing",
          "Can You Feel the Love Tonight (End Title)",
          "Don’t Let the Sun Go Down on Me",
          "Candle In The Wind",
          "Daniel",
          "Saturday Night’s Alright (For Fighting)",
          "Crocodile Rock",
          "I Guess That’s Why They Call It the Blues",
          "Candle in the Wind 1997",
          "Sacrifice",
          "Levon",
          "Border Song",
          "Mona Lisas and Mad Hatters",
          "Someone Saved My Life Tonight",
          "Honky Cat",
          "The One",
          "The Bitch is Back",
          "Sorry Seems to Be the Hardest Word",
          "Electricity (Billy Elliot)",
          "I Think I’m Going to Kill Myself",
          "Circle of Life",
          "Funeral for a Friend/Love Lies Bleeding",
          "Philadelphia Freedom",
          "All The Girls Love Alice",
          "Take Me to the Pilot",
          "Freedom! ’90",
          "Faith",
          "Father Figure",
          "One More Try",
          "As",
          "Fastlove",
          "I Want Your Sex (Pts. I & II)",
          "Jesus to a Child",
          "Kissing a Fool",
          "Praying For Time",
          "Cowboys and Angels",
          "They Won’t Go When I Go",
          "You Have Been Loved",
          "Amazing",
          "Last Christmas",
          "This Kind Of Love",
          "A Different Corner",
          "Heal the Pain",
          "Spinning the Wheel",
          "Outside",
          "Too Funky",
          "Monkey",
          "Older",
          "Going To A Town",
          "I Can’t Make You Love Me",
          "The First Time Ever I Saw Your Face",
          "Waiting For That Day/You Can’t Always Get What You Want",
          "Shoot the Dog",
          "Star People",
          "Tonight"
         ],
         "type": "scatter",
         "x": {
          "bdata": "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",
          "dtype": "f4"
         },
         "y": {
          "bdata": "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",
          "dtype": "f4"
         }
        },
        {
         "hoverinfo": "text",
         "marker": {
          "color": "crimson",
          "size": 6
         },
         "mode": "markers",
         "name": "John Denver",
         "text": [
          "Take Me Home, Country Roads",
          "Annie’s Song",
          "Leaving on a Jet Plane",
          "Rocky Mountain High",
          "Home On The Range",
          "Thank God I’m a Country Boy",
          "Sunshine on My Shoulders",
          "My Sweet Lady",
          "Perhaps Love",
          "Follow Me",
          "I Guess He’d Rather Be in Colorado",
          "Calypso",
          "I’m Sorry",
          "Poems, Prayers, & Promises",
          "Today",
          "Back Home Again",
          "I’ve Been Working On The Railroad",
          "Casey’s Last Ride",
          "For Baby (For Bobbie)",
          "Grandma’s Feather Bed",
          "Rhymes & Reasons",
          "Homegrown Tomatoes",
          "Wild Montana Skies",
          "The Mountain Song",
          "This Old Guitar",
          "Prisoners",
          "Matthew",
          "The Ballad of Richard Nixon",
          "Windsong",
          "Looking For Space"
         ],
         "type": "scatter",
         "x": {
          "bdata": "7vlZQRlZKUGZYGlB1v3wQDR770BVJltBC3QUQTVxGUGx1gZByksfQXGP8ED46RRBfdE/QUr8F0EtIBdBbzFaQb8VcEEqpkNB+ysVQd0HIEEfqxJBLslfQUxm9UB4hmRBgEoGQWcvXEEBsPlA04UvQaPvEkHFMhRB",
          "dtype": "f4"
         },
         "y": {
          "bdata": "C1b9P/hNpj/z1MZArvHOQM02zUDamg5AaMf6P/LK2D88DqxAtMCjP6SMzkCr8sFAYu6PQGI1N0CrXgFAS5YIQDNmx0CxTgtAwXLtPwLGFECFIL9A1CrbQPiB0UAdRIdAaHOrQBi3FUBzldFAAoXmQMf/vUBNzytA",
          "dtype": "f4"
         }
        }
       ],
       "layout": {
        "height": 750,
        "template": {
         "data": {
          "bar": [
           {
            "error_x": {
             "color": "#2a3f5f"
            },
            "error_y": {
             "color": "#2a3f5f"
            },
            "marker": {
             "line": {
              "color": "#E5ECF6",
              "width": 0.5
             },
             "pattern": {
              "fillmode": "overlay",
              "size": 10,
              "solidity": 0.2
             }
            },
            "type": "bar"
           }
          ],
          "barpolar": [
           {
            "marker": {
             "line": {
              "color": "#E5ECF6",
              "width": 0.5
             },
             "pattern": {
              "fillmode": "overlay",
              "size": 10,
              "solidity": 0.2
             }
            },
            "type": "barpolar"
           }
          ],
          "carpet": [
           {
            "aaxis": {
             "endlinecolor": "#2a3f5f",
             "gridcolor": "white",
             "linecolor": "white",
             "minorgridcolor": "white",
             "startlinecolor": "#2a3f5f"
            },
            "baxis": {
             "endlinecolor": "#2a3f5f",
             "gridcolor": "white",
             "linecolor": "white",
             "minorgridcolor": "white",
             "startlinecolor": "#2a3f5f"
            },
            "type": "carpet"
           }
          ],
          "choropleth": [
           {
            "colorbar": {
             "outlinewidth": 0,
             "ticks": ""
            },
            "type": "choropleth"
           }
          ],
          "contour": [
           {
            "colorbar": {
             "outlinewidth": 0,
             "ticks": ""
            },
            "colorscale": [
             [
              0,
              "#0d0887"
             ],
             [
              0.1111111111111111,
              "#46039f"
             ],
             [
              0.2222222222222222,
              "#7201a8"
             ],
             [
              0.3333333333333333,
              "#9c179e"
             ],
             [
              0.4444444444444444,
              "#bd3786"
             ],
             [
              0.5555555555555556,
              "#d8576b"
             ],
             [
              0.6666666666666666,
              "#ed7953"
             ],
             [
              0.7777777777777778,
              "#fb9f3a"
             ],
             [
              0.8888888888888888,
              "#fdca26"
             ],
             [
              1,
              "#f0f921"
             ]
            ],
            "type": "contour"
           }
          ],
          "contourcarpet": [
           {
            "colorbar": {
             "outlinewidth": 0,
             "ticks": ""
            },
            "type": "contourcarpet"
           }
          ],
          "heatmap": [
           {
            "colorbar": {
             "outlinewidth": 0,
             "ticks": ""
            },
            "colorscale": [
             [
              0,
              "#0d0887"
             ],
             [
              0.1111111111111111,
              "#46039f"
             ],
             [
              0.2222222222222222,
              "#7201a8"
             ],
             [
              0.3333333333333333,
              "#9c179e"
             ],
             [
              0.4444444444444444,
              "#bd3786"
             ],
             [
              0.5555555555555556,
              "#d8576b"
             ],
             [
              0.6666666666666666,
              "#ed7953"
             ],
             [
              0.7777777777777778,
              "#fb9f3a"
             ],
             [
              0.8888888888888888,
              "#fdca26"
             ],
             [
              1,
              "#f0f921"
             ]
            ],
            "type": "heatmap"
           }
          ],
          "histogram": [
           {
            "marker": {
             "pattern": {
              "fillmode": "overlay",
              "size": 10,
              "solidity": 0.2
             }
            },
            "type": "histogram"
           }
          ],
          "histogram2d": [
           {
            "colorbar": {
             "outlinewidth": 0,
             "ticks": ""
            },
            "colorscale": [
             [
              0,
              "#0d0887"
             ],
             [
              0.1111111111111111,
              "#46039f"
             ],
             [
              0.2222222222222222,
              "#7201a8"
             ],
             [
              0.3333333333333333,
              "#9c179e"
             ],
             [
              0.4444444444444444,
              "#bd3786"
             ],
             [
              0.5555555555555556,
              "#d8576b"
             ],
             [
              0.6666666666666666,
              "#ed7953"
             ],
             [
              0.7777777777777778,
              "#fb9f3a"
             ],
             [
              0.8888888888888888,
              "#fdca26"
             ],
             [
              1,
              "#f0f921"
             ]
            ],
            "type": "histogram2d"
           }
          ],
          "histogram2dcontour": [
           {
            "colorbar": {
             "outlinewidth": 0,
             "ticks": ""
            },
            "colorscale": [
             [
              0,
              "#0d0887"
             ],
             [
              0.1111111111111111,
              "#46039f"
             ],
             [
              0.2222222222222222,
              "#7201a8"
             ],
             [
              0.3333333333333333,
              "#9c179e"
             ],
             [
              0.4444444444444444,
              "#bd3786"
             ],
             [
              0.5555555555555556,
              "#d8576b"
             ],
             [
              0.6666666666666666,
              "#ed7953"
             ],
             [
              0.7777777777777778,
              "#fb9f3a"
             ],
             [
              0.8888888888888888,
              "#fdca26"
             ],
             [
              1,
              "#f0f921"
             ]
            ],
            "type": "histogram2dcontour"
           }
          ],
          "mesh3d": [
           {
            "colorbar": {
             "outlinewidth": 0,
             "ticks": ""
            },
            "type": "mesh3d"
           }
          ],
          "parcoords": [
           {
            "line": {
             "colorbar": {
              "outlinewidth": 0,
              "ticks": ""
             }
            },
            "type": "parcoords"
           }
          ],
          "pie": [
           {
            "automargin": true,
            "type": "pie"
           }
          ],
          "scatter": [
           {
            "fillpattern": {
             "fillmode": "overlay",
             "size": 10,
             "solidity": 0.2
            },
            "type": "scatter"
           }
          ],
          "scatter3d": [
           {
            "line": {
             "colorbar": {
              "outlinewidth": 0,
              "ticks": ""
             }
            },
            "marker": {
             "colorbar": {
              "outlinewidth": 0,
              "ticks": ""
             }
            },
            "type": "scatter3d"
           }
          ],
          "scattercarpet": [
           {
            "marker": {
             "colorbar": {
              "outlinewidth": 0,
              "ticks": ""
             }
            },
            "type": "scattercarpet"
           }
          ],
          "scattergeo": [
           {
            "marker": {
             "colorbar": {
              "outlinewidth": 0,
              "ticks": ""
             }
            },
            "type": "scattergeo"
           }
          ],
          "scattergl": [
           {
            "marker": {
             "colorbar": {
              "outlinewidth": 0,
              "ticks": ""
             }
            },
            "type": "scattergl"
           }
          ],
          "scattermap": [
           {
            "marker": {
             "colorbar": {
              "outlinewidth": 0,
              "ticks": ""
             }
            },
            "type": "scattermap"
           }
          ],
          "scattermapbox": [
           {
            "marker": {
             "colorbar": {
              "outlinewidth": 0,
              "ticks": ""
             }
            },
            "type": "scattermapbox"
           }
          ],
          "scatterpolar": [
           {
            "marker": {
             "colorbar": {
              "outlinewidth": 0,
              "ticks": ""
             }
            },
            "type": "scatterpolar"
           }
          ],
          "scatterpolargl": [
           {
            "marker": {
             "colorbar": {
              "outlinewidth": 0,
              "ticks": ""
             }
            },
            "type": "scatterpolargl"
           }
          ],
          "scatterternary": [
           {
            "marker": {
             "colorbar": {
              "outlinewidth": 0,
              "ticks": ""
             }
            },
            "type": "scatterternary"
           }
          ],
          "surface": [
           {
            "colorbar": {
             "outlinewidth": 0,
             "ticks": ""
            },
            "colorscale": [
             [
              0,
              "#0d0887"
             ],
             [
              0.1111111111111111,
              "#46039f"
             ],
             [
              0.2222222222222222,
              "#7201a8"
             ],
             [
              0.3333333333333333,
              "#9c179e"
             ],
             [
              0.4444444444444444,
              "#bd3786"
             ],
             [
              0.5555555555555556,
              "#d8576b"
             ],
             [
              0.6666666666666666,
              "#ed7953"
             ],
             [
              0.7777777777777778,
              "#fb9f3a"
             ],
             [
              0.8888888888888888,
              "#fdca26"
             ],
             [
              1,
              "#f0f921"
             ]
            ],
            "type": "surface"
           }
          ],
          "table": [
           {
            "cells": {
             "fill": {
              "color": "#EBF0F8"
             },
             "line": {
              "color": "white"
             }
            },
            "header": {
             "fill": {
              "color": "#C8D4E3"
             },
             "line": {
              "color": "white"
             }
            },
            "type": "table"
           }
          ]
         },
         "layout": {
          "annotationdefaults": {
           "arrowcolor": "#2a3f5f",
           "arrowhead": 0,
           "arrowwidth": 1
          },
          "autotypenumbers": "strict",
          "coloraxis": {
           "colorbar": {
            "outlinewidth": 0,
            "ticks": ""
           }
          },
          "colorscale": {
           "diverging": [
            [
             0,
             "#8e0152"
            ],
            [
             0.1,
             "#c51b7d"
            ],
            [
             0.2,
             "#de77ae"
            ],
            [
             0.3,
             "#f1b6da"
            ],
            [
             0.4,
             "#fde0ef"
            ],
            [
             0.5,
             "#f7f7f7"
            ],
            [
             0.6,
             "#e6f5d0"
            ],
            [
             0.7,
             "#b8e186"
            ],
            [
             0.8,
             "#7fbc41"
            ],
            [
             0.9,
             "#4d9221"
            ],
            [
             1,
             "#276419"
            ]
           ],
           "sequential": [
            [
             0,
             "#0d0887"
            ],
            [
             0.1111111111111111,
             "#46039f"
            ],
            [
             0.2222222222222222,
             "#7201a8"
            ],
            [
             0.3333333333333333,
             "#9c179e"
            ],
            [
             0.4444444444444444,
             "#bd3786"
            ],
            [
             0.5555555555555556,
             "#d8576b"
            ],
            [
             0.6666666666666666,
             "#ed7953"
            ],
            [
             0.7777777777777778,
             "#fb9f3a"
            ],
            [
             0.8888888888888888,
             "#fdca26"
            ],
            [
             1,
             "#f0f921"
            ]
           ],
           "sequentialminus": [
            [
             0,
             "#0d0887"
            ],
            [
             0.1111111111111111,
             "#46039f"
            ],
            [
             0.2222222222222222,
             "#7201a8"
            ],
            [
             0.3333333333333333,
             "#9c179e"
            ],
            [
             0.4444444444444444,
             "#bd3786"
            ],
            [
             0.5555555555555556,
             "#d8576b"
            ],
            [
             0.6666666666666666,
             "#ed7953"
            ],
            [
             0.7777777777777778,
             "#fb9f3a"
            ],
            [
             0.8888888888888888,
             "#fdca26"
            ],
            [
             1,
             "#f0f921"
            ]
           ]
          },
          "colorway": [
           "#636efa",
           "#EF553B",
           "#00cc96",
           "#ab63fa",
           "#FFA15A",
           "#19d3f3",
           "#FF6692",
           "#B6E880",
           "#FF97FF",
           "#FECB52"
          ],
          "font": {
           "color": "#2a3f5f"
          },
          "geo": {
           "bgcolor": "white",
           "lakecolor": "white",
           "landcolor": "#E5ECF6",
           "showlakes": true,
           "showland": true,
           "subunitcolor": "white"
          },
          "hoverlabel": {
           "align": "left"
          },
          "hovermode": "closest",
          "mapbox": {
           "style": "light"
          },
          "paper_bgcolor": "white",
          "plot_bgcolor": "#E5ECF6",
          "polar": {
           "angularaxis": {
            "gridcolor": "white",
            "linecolor": "white",
            "ticks": ""
           },
           "bgcolor": "#E5ECF6",
           "radialaxis": {
            "gridcolor": "white",
            "linecolor": "white",
            "ticks": ""
           }
          },
          "scene": {
           "xaxis": {
            "backgroundcolor": "#E5ECF6",
            "gridcolor": "white",
            "gridwidth": 2,
            "linecolor": "white",
            "showbackground": true,
            "ticks": "",
            "zerolinecolor": "white"
           },
           "yaxis": {
            "backgroundcolor": "#E5ECF6",
            "gridcolor": "white",
            "gridwidth": 2,
            "linecolor": "white",
            "showbackground": true,
            "ticks": "",
            "zerolinecolor": "white"
           },
           "zaxis": {
            "backgroundcolor": "#E5ECF6",
            "gridcolor": "white",
            "gridwidth": 2,
            "linecolor": "white",
            "showbackground": true,
            "ticks": "",
            "zerolinecolor": "white"
           }
          },
          "shapedefaults": {
           "line": {
            "color": "#2a3f5f"
           }
          },
          "ternary": {
           "aaxis": {
            "gridcolor": "white",
            "linecolor": "white",
            "ticks": ""
           },
           "baxis": {
            "gridcolor": "white",
            "linecolor": "white",
            "ticks": ""
           },
           "bgcolor": "#E5ECF6",
           "caxis": {
            "gridcolor": "white",
            "linecolor": "white",
            "ticks": ""
           }
          },
          "title": {
           "x": 0.05
          },
          "xaxis": {
           "automargin": true,
           "gridcolor": "white",
           "linecolor": "white",
           "ticks": "",
           "title": {
            "standoff": 15
           },
           "zerolinecolor": "white",
           "zerolinewidth": 2
          },
          "yaxis": {
           "automargin": true,
           "gridcolor": "white",
           "linecolor": "white",
           "ticks": "",
           "title": {
            "standoff": 15
           },
           "zerolinecolor": "white",
           "zerolinewidth": 2
          }
         }
        },
        "title": {
         "text": "Low dimensional view of embedded lyrics"
        },
        "width": 750
       }
      }
     },
     "metadata": {},
     "output_type": "display_data"
    }
   ],
   "source": [
    "# Let's highlight an artist's songs just for fun:\n",
    "artist_highlight = 'John Denver'\n",
    "artist_idxs = lyrics[lyrics['Artist']==artist_highlight].index.to_list()\n",
    "\n",
    "fig_clustering = go.Figure()\n",
    "\n",
    "fig_clustering.add_trace(go.Scatter(\n",
    "    x=two_d_rep[:, 0],\n",
    "    y=two_d_rep[:,1],\n",
    "    mode='markers',\n",
    "    marker=dict(size=6),\n",
    "    text=lyrics['Title'],\n",
    "    hoverinfo='text',\n",
    "    name = 'All artists'\n",
    "))\n",
    "\n",
    "fig_clustering.add_trace(go.Scatter(\n",
    "    x=two_d_rep[artist_idxs, 0],\n",
    "    y=two_d_rep[artist_idxs,1],\n",
    "    mode='markers',\n",
    "    marker=dict(size=6, color='crimson'),\n",
    "    text = lyrics['Title'].iloc[artist_idxs],\n",
    "    hoverinfo = 'text',\n",
    "    name = artist_highlight\n",
    "))\n",
    "\n",
    "\n",
    "fig_clustering.update_layout(\n",
    "    height=fc_h, width=fc_w,\n",
    "    title='Low dimensional view of embedded lyrics',\n",
    ")\n",
    "\n",
    "fig_clustering.show()"
   ]
  },
  {
   "cell_type": "code",
   "execution_count": null,
   "id": "c4c6752f",
   "metadata": {},
   "outputs": [],
   "source": [
    "# save interactive html (hover)\n",
    "fig_clustering.write_html('images/song_embeddings.html')"
   ]
  },
  {
   "cell_type": "code",
   "execution_count": 40,
   "id": "b2d6b6c5",
   "metadata": {},
   "outputs": [
    {
     "name": "stderr",
     "output_type": "stream",
     "text": [
      "huggingface/tokenizers: The current process just got forked, after parallelism has already been used. Disabling parallelism to avoid deadlocks...\n",
      "To disable this warning, you can either:\n",
      "\t- Avoid using `tokenizers` before the fork if possible\n",
      "\t- Explicitly set the environment variable TOKENIZERS_PARALLELISM=(true | false)\n"
     ]
    }
   ],
   "source": [
    "# save png\n",
    "fig_clustering.write_image('images/song_embeddings.png', height=fc_h, width=fc_w, scale=3)"
   ]
  },
  {
   "cell_type": "code",
   "execution_count": null,
   "id": "c5211385",
   "metadata": {},
   "outputs": [],
   "source": []
  },
  {
   "cell_type": "markdown",
   "id": "0eda15d6",
   "metadata": {},
   "source": [
    "## Shakespeare Data"
   ]
  },
  {
   "cell_type": "markdown",
   "id": "f287f154",
   "metadata": {},
   "source": [
    "Here I will create aggregate versions of the plays. One is by speech, and the other is by context."
   ]
  },
  {
   "cell_type": "code",
   "execution_count": 69,
   "id": "f8bca385",
   "metadata": {},
   "outputs": [],
   "source": [
    "# Load data\n",
    "shakes_file = Path('data/shakespeare_plays.csv')\n",
    "shakes_plays = pd.read_csv(shakes_file)"
   ]
  },
  {
   "cell_type": "markdown",
   "id": "4740609f",
   "metadata": {},
   "source": [
    "### Plays by speech"
   ]
  },
  {
   "cell_type": "code",
   "execution_count": 70,
   "id": "75b97a9d",
   "metadata": {},
   "outputs": [
    {
     "data": {
      "text/html": [
       "<div>\n",
       "<style scoped>\n",
       "    .dataframe tbody tr th:only-of-type {\n",
       "        vertical-align: middle;\n",
       "    }\n",
       "\n",
       "    .dataframe tbody tr th {\n",
       "        vertical-align: top;\n",
       "    }\n",
       "\n",
       "    .dataframe thead th {\n",
       "        text-align: right;\n",
       "    }\n",
       "</style>\n",
       "<table border=\"1\" class=\"dataframe\">\n",
       "  <thead>\n",
       "    <tr style=\"text-align: right;\">\n",
       "      <th></th>\n",
       "      <th>index</th>\n",
       "      <th>play_name</th>\n",
       "      <th>genre</th>\n",
       "      <th>character</th>\n",
       "      <th>act</th>\n",
       "      <th>scene</th>\n",
       "      <th>sentence</th>\n",
       "      <th>text</th>\n",
       "      <th>sex</th>\n",
       "      <th>speaker_change</th>\n",
       "    </tr>\n",
       "  </thead>\n",
       "  <tbody>\n",
       "    <tr>\n",
       "      <th>0</th>\n",
       "      <td>0</td>\n",
       "      <td>All's Well That Ends Well</td>\n",
       "      <td>Comedy</td>\n",
       "      <td>Countess</td>\n",
       "      <td>1</td>\n",
       "      <td>1</td>\n",
       "      <td>1</td>\n",
       "      <td>In delivering my son from me, I bury a second ...</td>\n",
       "      <td>female</td>\n",
       "      <td>1</td>\n",
       "    </tr>\n",
       "    <tr>\n",
       "      <th>1</th>\n",
       "      <td>1</td>\n",
       "      <td>All's Well That Ends Well</td>\n",
       "      <td>Comedy</td>\n",
       "      <td>Bertram</td>\n",
       "      <td>1</td>\n",
       "      <td>1</td>\n",
       "      <td>2</td>\n",
       "      <td>And I in going, madam, weep o'er my father's d...</td>\n",
       "      <td>male</td>\n",
       "      <td>2</td>\n",
       "    </tr>\n",
       "    <tr>\n",
       "      <th>2</th>\n",
       "      <td>2</td>\n",
       "      <td>All's Well That Ends Well</td>\n",
       "      <td>Comedy</td>\n",
       "      <td>Bertram</td>\n",
       "      <td>1</td>\n",
       "      <td>1</td>\n",
       "      <td>3</td>\n",
       "      <td>anew: but I must attend his majesty's command, to</td>\n",
       "      <td>male</td>\n",
       "      <td>2</td>\n",
       "    </tr>\n",
       "    <tr>\n",
       "      <th>3</th>\n",
       "      <td>3</td>\n",
       "      <td>All's Well That Ends Well</td>\n",
       "      <td>Comedy</td>\n",
       "      <td>Bertram</td>\n",
       "      <td>1</td>\n",
       "      <td>1</td>\n",
       "      <td>4</td>\n",
       "      <td>whom I am now in ward, evermore in subjection.</td>\n",
       "      <td>male</td>\n",
       "      <td>2</td>\n",
       "    </tr>\n",
       "    <tr>\n",
       "      <th>4</th>\n",
       "      <td>4</td>\n",
       "      <td>All's Well That Ends Well</td>\n",
       "      <td>Comedy</td>\n",
       "      <td>Lafeu</td>\n",
       "      <td>1</td>\n",
       "      <td>1</td>\n",
       "      <td>5</td>\n",
       "      <td>You shall find of the king a husband, madam; you,</td>\n",
       "      <td>male</td>\n",
       "      <td>3</td>\n",
       "    </tr>\n",
       "  </tbody>\n",
       "</table>\n",
       "</div>"
      ],
      "text/plain": [
       "   index                  play_name   genre character  act  scene  sentence  \\\n",
       "0      0  All's Well That Ends Well  Comedy  Countess    1      1         1   \n",
       "1      1  All's Well That Ends Well  Comedy   Bertram    1      1         2   \n",
       "2      2  All's Well That Ends Well  Comedy   Bertram    1      1         3   \n",
       "3      3  All's Well That Ends Well  Comedy   Bertram    1      1         4   \n",
       "4      4  All's Well That Ends Well  Comedy     Lafeu    1      1         5   \n",
       "\n",
       "                                                text     sex  speaker_change  \n",
       "0  In delivering my son from me, I bury a second ...  female               1  \n",
       "1  And I in going, madam, weep o'er my father's d...    male               2  \n",
       "2  anew: but I must attend his majesty's command, to    male               2  \n",
       "3     whom I am now in ward, evermore in subjection.    male               2  \n",
       "4  You shall find of the king a husband, madam; you,    male               3  "
      ]
     },
     "execution_count": 70,
     "metadata": {},
     "output_type": "execute_result"
    }
   ],
   "source": [
    "shakes_plays['speaker_change'] = (shakes_plays['character'] != shakes_plays['character'].shift()).cumsum()\n",
    "shakes_plays.head()"
   ]
  },
  {
   "cell_type": "code",
   "execution_count": 71,
   "id": "d4ff5430",
   "metadata": {},
   "outputs": [
    {
     "data": {
      "text/html": [
       "<div>\n",
       "<style scoped>\n",
       "    .dataframe tbody tr th:only-of-type {\n",
       "        vertical-align: middle;\n",
       "    }\n",
       "\n",
       "    .dataframe tbody tr th {\n",
       "        vertical-align: top;\n",
       "    }\n",
       "\n",
       "    .dataframe thead th {\n",
       "        text-align: right;\n",
       "    }\n",
       "</style>\n",
       "<table border=\"1\" class=\"dataframe\">\n",
       "  <thead>\n",
       "    <tr style=\"text-align: right;\">\n",
       "      <th></th>\n",
       "      <th>speaker_change</th>\n",
       "      <th>play_name</th>\n",
       "      <th>genre</th>\n",
       "      <th>character</th>\n",
       "      <th>act</th>\n",
       "      <th>scene</th>\n",
       "      <th>text</th>\n",
       "    </tr>\n",
       "  </thead>\n",
       "  <tbody>\n",
       "    <tr>\n",
       "      <th>0</th>\n",
       "      <td>1</td>\n",
       "      <td>All's Well That Ends Well</td>\n",
       "      <td>Comedy</td>\n",
       "      <td>Countess</td>\n",
       "      <td>1</td>\n",
       "      <td>1</td>\n",
       "      <td>In delivering my son from me, I bury a second ...</td>\n",
       "    </tr>\n",
       "    <tr>\n",
       "      <th>1</th>\n",
       "      <td>2</td>\n",
       "      <td>All's Well That Ends Well</td>\n",
       "      <td>Comedy</td>\n",
       "      <td>Bertram</td>\n",
       "      <td>1</td>\n",
       "      <td>1</td>\n",
       "      <td>And I in going, madam, weep o'er my father's d...</td>\n",
       "    </tr>\n",
       "    <tr>\n",
       "      <th>2</th>\n",
       "      <td>3</td>\n",
       "      <td>All's Well That Ends Well</td>\n",
       "      <td>Comedy</td>\n",
       "      <td>Lafeu</td>\n",
       "      <td>1</td>\n",
       "      <td>1</td>\n",
       "      <td>You shall find of the king a husband, madam; y...</td>\n",
       "    </tr>\n",
       "    <tr>\n",
       "      <th>3</th>\n",
       "      <td>4</td>\n",
       "      <td>All's Well That Ends Well</td>\n",
       "      <td>Comedy</td>\n",
       "      <td>Countess</td>\n",
       "      <td>1</td>\n",
       "      <td>1</td>\n",
       "      <td>What hope is there of his majesty's amendment?</td>\n",
       "    </tr>\n",
       "    <tr>\n",
       "      <th>4</th>\n",
       "      <td>5</td>\n",
       "      <td>All's Well That Ends Well</td>\n",
       "      <td>Comedy</td>\n",
       "      <td>Lafeu</td>\n",
       "      <td>1</td>\n",
       "      <td>1</td>\n",
       "      <td>He hath abandoned his physicians, madam; under...</td>\n",
       "    </tr>\n",
       "  </tbody>\n",
       "</table>\n",
       "</div>"
      ],
      "text/plain": [
       "   speaker_change                  play_name   genre character  act  scene  \\\n",
       "0               1  All's Well That Ends Well  Comedy  Countess    1      1   \n",
       "1               2  All's Well That Ends Well  Comedy   Bertram    1      1   \n",
       "2               3  All's Well That Ends Well  Comedy     Lafeu    1      1   \n",
       "3               4  All's Well That Ends Well  Comedy  Countess    1      1   \n",
       "4               5  All's Well That Ends Well  Comedy     Lafeu    1      1   \n",
       "\n",
       "                                                text  \n",
       "0  In delivering my son from me, I bury a second ...  \n",
       "1  And I in going, madam, weep o'er my father's d...  \n",
       "2  You shall find of the king a husband, madam; y...  \n",
       "3     What hope is there of his majesty's amendment?  \n",
       "4  He hath abandoned his physicians, madam; under...  "
      ]
     },
     "execution_count": 71,
     "metadata": {},
     "output_type": "execute_result"
    }
   ],
   "source": [
    "cols_to_keep = ['play_name', 'genre', 'character', 'act', 'scene']\n",
    "shakes_speeches = shakes_plays.groupby(['speaker_change'] + cols_to_keep, as_index=False).agg({'text': ' '.join})\n",
    "shakes_speeches.head()"
   ]
  },
  {
   "cell_type": "code",
   "execution_count": 128,
   "id": "d7d539c2",
   "metadata": {},
   "outputs": [],
   "source": [
    "save_speeches = input('save speeches df? [y/n]')\n",
    "if save_speeches.lower()=='y' or save_speeches.lower()=='yes':\n",
    "    shakes_speeches.to_csv('data/shakespeare_plays_by_speech.csv')"
   ]
  },
  {
   "cell_type": "markdown",
   "id": "78544c84",
   "metadata": {},
   "source": [
    "### Plays by context"
   ]
  },
  {
   "cell_type": "markdown",
   "id": "8fe71423",
   "metadata": {},
   "source": [
    "To each line, we'll add a context of the previous and following $5$ lines."
   ]
  },
  {
   "cell_type": "code",
   "execution_count": null,
   "id": "845bcd9f",
   "metadata": {},
   "outputs": [],
   "source": [
    "# this chunk of code looks slightly complex bc I need to iterate over groupings to respect ...\n",
    "# the limits of plays, acts and scenes in the context creation\n",
    "context_window = 5\n",
    "contexts_list = []\n",
    "group_cols = ['play_name', 'act', 'scene']\n",
    "for _, group in shakes_plays.groupby(group_cols, sort=False):\n",
    "    group_lines = group['text'].tolist()  # convert to list for speed (so we don't slice dfs repeatedly)\n",
    "    for local_idx, row in enumerate(group.itertuples()):\n",
    "        low_c = max(0, local_idx - context_window)\n",
    "        high_c = min(len(group_lines), local_idx + context_window)\n",
    "        context = \"\\n\".join(group_lines[low_c:high_c])\n",
    "\n",
    "        row_dict = row._asdict()\n",
    "        row_dict.pop('text', None)\n",
    "        row_dict.pop('speaker_change', None)\n",
    "        row_dict['line_context'] = context\n",
    "\n",
    "        contexts_list.append(row_dict)\n",
    "\n",
    "shakes_context = pd.DataFrame(contexts_list)\n",
    "shakes_context = shakes_context.drop(columns=['Index'])\n",
    "shakes_context = shakes_context.rename(columns={'sentence': 'focus_sentence'})\n"
   ]
  },
  {
   "cell_type": "code",
   "execution_count": 124,
   "id": "0d69cca3",
   "metadata": {},
   "outputs": [
    {
     "data": {
      "text/html": [
       "<div>\n",
       "<style scoped>\n",
       "    .dataframe tbody tr th:only-of-type {\n",
       "        vertical-align: middle;\n",
       "    }\n",
       "\n",
       "    .dataframe tbody tr th {\n",
       "        vertical-align: top;\n",
       "    }\n",
       "\n",
       "    .dataframe thead th {\n",
       "        text-align: right;\n",
       "    }\n",
       "</style>\n",
       "<table border=\"1\" class=\"dataframe\">\n",
       "  <thead>\n",
       "    <tr style=\"text-align: right;\">\n",
       "      <th></th>\n",
       "      <th>index</th>\n",
       "      <th>play_name</th>\n",
       "      <th>genre</th>\n",
       "      <th>character</th>\n",
       "      <th>act</th>\n",
       "      <th>scene</th>\n",
       "      <th>focus_sentence</th>\n",
       "      <th>sex</th>\n",
       "      <th>line_context</th>\n",
       "    </tr>\n",
       "  </thead>\n",
       "  <tbody>\n",
       "    <tr>\n",
       "      <th>0</th>\n",
       "      <td>0</td>\n",
       "      <td>All's Well That Ends Well</td>\n",
       "      <td>Comedy</td>\n",
       "      <td>Countess</td>\n",
       "      <td>1</td>\n",
       "      <td>1</td>\n",
       "      <td>1</td>\n",
       "      <td>female</td>\n",
       "      <td>In delivering my son from me, I bury a second ...</td>\n",
       "    </tr>\n",
       "    <tr>\n",
       "      <th>1</th>\n",
       "      <td>1</td>\n",
       "      <td>All's Well That Ends Well</td>\n",
       "      <td>Comedy</td>\n",
       "      <td>Bertram</td>\n",
       "      <td>1</td>\n",
       "      <td>1</td>\n",
       "      <td>2</td>\n",
       "      <td>male</td>\n",
       "      <td>In delivering my son from me, I bury a second ...</td>\n",
       "    </tr>\n",
       "    <tr>\n",
       "      <th>2</th>\n",
       "      <td>2</td>\n",
       "      <td>All's Well That Ends Well</td>\n",
       "      <td>Comedy</td>\n",
       "      <td>Bertram</td>\n",
       "      <td>1</td>\n",
       "      <td>1</td>\n",
       "      <td>3</td>\n",
       "      <td>male</td>\n",
       "      <td>In delivering my son from me, I bury a second ...</td>\n",
       "    </tr>\n",
       "    <tr>\n",
       "      <th>3</th>\n",
       "      <td>3</td>\n",
       "      <td>All's Well That Ends Well</td>\n",
       "      <td>Comedy</td>\n",
       "      <td>Bertram</td>\n",
       "      <td>1</td>\n",
       "      <td>1</td>\n",
       "      <td>4</td>\n",
       "      <td>male</td>\n",
       "      <td>In delivering my son from me, I bury a second ...</td>\n",
       "    </tr>\n",
       "    <tr>\n",
       "      <th>4</th>\n",
       "      <td>4</td>\n",
       "      <td>All's Well That Ends Well</td>\n",
       "      <td>Comedy</td>\n",
       "      <td>Lafeu</td>\n",
       "      <td>1</td>\n",
       "      <td>1</td>\n",
       "      <td>5</td>\n",
       "      <td>male</td>\n",
       "      <td>In delivering my son from me, I bury a second ...</td>\n",
       "    </tr>\n",
       "  </tbody>\n",
       "</table>\n",
       "</div>"
      ],
      "text/plain": [
       "   index                  play_name   genre character  act  scene  \\\n",
       "0      0  All's Well That Ends Well  Comedy  Countess    1      1   \n",
       "1      1  All's Well That Ends Well  Comedy   Bertram    1      1   \n",
       "2      2  All's Well That Ends Well  Comedy   Bertram    1      1   \n",
       "3      3  All's Well That Ends Well  Comedy   Bertram    1      1   \n",
       "4      4  All's Well That Ends Well  Comedy     Lafeu    1      1   \n",
       "\n",
       "   focus_sentence     sex                                       line_context  \n",
       "0               1  female  In delivering my son from me, I bury a second ...  \n",
       "1               2    male  In delivering my son from me, I bury a second ...  \n",
       "2               3    male  In delivering my son from me, I bury a second ...  \n",
       "3               4    male  In delivering my son from me, I bury a second ...  \n",
       "4               5    male  In delivering my son from me, I bury a second ...  "
      ]
     },
     "execution_count": 124,
     "metadata": {},
     "output_type": "execute_result"
    }
   ],
   "source": [
    "shakes_context.head()"
   ]
  },
  {
   "cell_type": "code",
   "execution_count": 125,
   "id": "6d45dbf6",
   "metadata": {},
   "outputs": [
    {
     "name": "stdout",
     "output_type": "stream",
     "text": [
      "sir, a father: he that so generally is at all times\n",
      "good must of necessity hold his virtue to you; whose\n",
      "worthiness would stir it up where it wanted rather\n",
      "than lack it where there is such abundance.\n",
      "What hope is there of his majesty's amendment?\n",
      "He hath abandoned his physicians, madam; under whose\n",
      "practises he hath persecuted time with hope, and\n",
      "finds no other advantage in the process but only the\n",
      "losing of hope by time.\n",
      "This young gentlewoman had a father,--O, that\n"
     ]
    }
   ],
   "source": [
    "print(shakes_context['line_context'].iloc[10])"
   ]
  },
  {
   "cell_type": "code",
   "execution_count": 127,
   "id": "df096af8",
   "metadata": {},
   "outputs": [],
   "source": [
    "save_context = input('save context df? [y/n]')\n",
    "if save_context.lower()=='y' or save_context.lower()=='yes':\n",
    "    shakes_context.to_csv('data/shakespeare_plays_by_context.csv')"
   ]
  },
  {
   "cell_type": "code",
   "execution_count": null,
   "id": "61486ce1",
   "metadata": {},
   "outputs": [],
   "source": []
  }
 ],
 "metadata": {
  "kernelspec": {
   "display_name": "ai-week-rag (3.13.3)",
   "language": "python",
   "name": "python3"
  },
  "language_info": {
   "codemirror_mode": {
    "name": "ipython",
    "version": 3
   },
   "file_extension": ".py",
   "mimetype": "text/x-python",
   "name": "python",
   "nbconvert_exporter": "python",
   "pygments_lexer": "ipython3",
   "version": "3.13.3"
  }
 },
 "nbformat": 4,
 "nbformat_minor": 5
}
